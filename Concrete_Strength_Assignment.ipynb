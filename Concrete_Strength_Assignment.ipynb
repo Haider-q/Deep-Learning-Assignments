{
  "nbformat": 4,
  "nbformat_minor": 0,
  "metadata": {
    "kernelspec": {
      "display_name": "Python 3",
      "language": "python",
      "name": "python3"
    },
    "language_info": {
      "codemirror_mode": {
        "name": "ipython",
        "version": 3
      },
      "file_extension": ".py",
      "mimetype": "text/x-python",
      "name": "python",
      "nbconvert_exporter": "python",
      "pygments_lexer": "ipython3",
      "version": "3.7.3"
    },
    "colab": {
      "name": "Concrete Strength Assignment.ipynb",
      "provenance": [],
      "collapsed_sections": [],
      "include_colab_link": true
    }
  },
  "cells": [
    {
      "cell_type": "markdown",
      "metadata": {
        "id": "view-in-github",
        "colab_type": "text"
      },
      "source": [
        "<a href=\"https://colab.research.google.com/github/Haider-q/Deep-Learning-Assignments/blob/main/Concrete_Strength_Assignment.ipynb\" target=\"_parent\"><img src=\"https://colab.research.google.com/assets/colab-badge.svg\" alt=\"Open In Colab\"/></a>"
      ]
    },
    {
      "cell_type": "markdown",
      "metadata": {
        "id": "s-P1RRAyT8gZ"
      },
      "source": [
        "# Assignment: Compresive Strength Concrete Problem\n",
        "\n",
        "\n",
        "### Abstract: \n",
        "\n",
        "Concrete is the most important material in civil engineering. The concrete compressive strength (concrete strength to bear the load) is a highly nonlinear function of age and ingredients.  <br><br>\n",
        "\n",
        "<table border=\"1\"  cellpadding=\"6\" bordercolor=\"red\">\n",
        "\t<tbody>\n",
        "        <tr>\n",
        "\t\t<td bgcolor=\"#DDEEFF\"><p class=\"normal\"><b>Data Set Characteristics:&nbsp;&nbsp;</b></p></td>\n",
        "\t\t<td><p class=\"normal\">Multivariate</p></td>\n",
        "\t\t<td bgcolor=\"#DDEEFF\"><p class=\"normal\"><b>Number of Instances:</b></p></td>\n",
        "\t\t<td><p class=\"normal\">1030</p></td>\n",
        "\t\t<td bgcolor=\"#DDEEFF\"><p class=\"normal\"><b>Area:</b></p></td>\n",
        "\t\t<td><p class=\"normal\">Physical</p></td>\n",
        "        </tr>\n",
        "     </tbody>\n",
        "    </table>\n",
        "<table border=\"1\" cellpadding=\"6\">\n",
        "    <tbody>\n",
        "        <tr>\n",
        "            <td bgcolor=\"#DDEEFF\"><p class=\"normal\"><b>Attribute Characteristics:</b></p></td>\n",
        "            <td><p class=\"normal\">Real</p></td>\n",
        "            <td bgcolor=\"#DDEEFF\"><p class=\"normal\"><b>Number of Attributes:</b></p></td>\n",
        "            <td><p class=\"normal\">9</p></td>\n",
        "            <td bgcolor=\"#DDEEFF\"><p class=\"normal\"><b>Date Donated</b></p></td>\n",
        "            <td><p class=\"normal\">2007-08-03</p></td>\n",
        "        </tr>\n",
        "     </tbody>\n",
        "    </table>\n",
        "<table border=\"1\" cellpadding=\"6\">\t\n",
        "    <tbody>\n",
        "    <tr>\n",
        "\t\t<td bgcolor=\"#DDEEFF\"><p class=\"normal\"><b>Associated Tasks:</b></p></td>\n",
        "\t\t<td><p class=\"normal\">Regression</p></td>\n",
        "\t\t<td bgcolor=\"#DDEEFF\"><p class=\"normal\"><b>Missing Values?</b></p></td>\n",
        "\t\t<td><p class=\"normal\">N/A</p></td>\n",
        "\t\t<td bgcolor=\"#DDEEFF\"><p class=\"normal\"><b>Number of Web Hits:</b></p></td>\n",
        "\t\t<td><p class=\"normal\">231464</p></td>\n",
        "\t</tr>\n",
        "    </tbody>\n",
        "    </table>"
      ]
    },
    {
      "cell_type": "markdown",
      "metadata": {
        "id": "b_9qYUmbT8gr"
      },
      "source": [
        "###  Description:\n",
        "| Features Name | Data Type | Measurement | Description |\n",
        "| -- | -- | -- | -- |\n",
        "Cement (component 1) | quantitative | kg in a m3 mixture | Input Variable\n",
        "Blast Furnace Slag (component 2) | quantitative | kg in a m3 mixture | Input Variable\n",
        "Fly Ash (component 3) | quantitative | kg in a m3 mixture | Input Variable\n",
        "Water (component 4) | quantitative | kg in a m3 mixture | Input Variable\n",
        "Superplasticizer (component 5) | quantitative | kg in a m3 mixture | Input Variable\n",
        "Coarse Aggregate (component 6) | quantitative | kg in a m3 mixture | Input Variable\n",
        "Fine Aggregate (component 7) | quantitative | kg in a m3 mixture | Input Variable\n",
        "Age | quantitative | Day (1~365) | Input Variable\n",
        "Concrete compressive strength | quantitative | MPa | Output Variable\n",
        "\n",
        "### WORKFLOW :\n",
        "- Load Data\n",
        "- Check Missing Values ( If Exist ; Fill each record with mean of its feature )\n",
        "- Standardized the Input Variables. **Hint**: Centeralized the data\n",
        "- Split into 50% Training(Samples,Labels) , 30% Test(Samples,Labels) and 20% Validation Data(Samples,Labels).\n",
        "- Model : input Layer (No. of features ), 3 hidden layers including 10,8,6 unit & Output Layer with activation function relu/tanh (check by experiment).\n",
        "- Compilation Step (Note : Its a Regression problem , select loss , metrics according to it)\n",
        "- Train the Model with Epochs (100) and validate it\n",
        "- If the model gets overfit tune your model by changing the units , No. of layers , activation function , epochs , add dropout layer or add Regularizer according to the need .\n",
        "- Evaluation Step\n",
        "- Prediction\n"
      ]
    },
    {
      "cell_type": "code",
      "metadata": {
        "colab": {
          "base_uri": "https://localhost:8080/"
        },
        "id": "9ROTlpqdT8gv",
        "outputId": "203dfc60-5ad3-4d8d-ea25-601d34909b9a"
      },
      "source": [
        "from google.colab import drive\n",
        "drive.mount('/content/drive')"
      ],
      "execution_count": 2,
      "outputs": [
        {
          "output_type": "stream",
          "text": [
            "Mounted at /content/drive\n"
          ],
          "name": "stdout"
        }
      ]
    },
    {
      "cell_type": "markdown",
      "metadata": {
        "id": "aGSU7FhkT8gu"
      },
      "source": [
        "# Load Data:\n",
        "[Click Here to Download DataSet](https://github.com/ramsha275/ML_Datasets/blob/main/compresive_strength_concrete.csv)"
      ]
    },
    {
      "cell_type": "code",
      "metadata": {
        "id": "1k7CMSotfwyb"
      },
      "source": [
        "import pandas as pd\n",
        "import numpy as np\n",
        "import matplotlib.pyplot as plt\n",
        "import tensorflow as tf\n",
        "from tensorflow.keras import layers as L\n",
        "from tensorflow.keras import models as M\n",
        "\n",
        "data = pd.read_csv(\"/content/compresive_strength_concrete.txt\")"
      ],
      "execution_count": 45,
      "outputs": []
    },
    {
      "cell_type": "code",
      "metadata": {
        "colab": {
          "base_uri": "https://localhost:8080/"
        },
        "id": "VHgDFi5-fw25",
        "outputId": "6603ad10-862d-4ee3-b9ad-d224e56f0d9d"
      },
      "source": [
        "data.shape"
      ],
      "execution_count": 46,
      "outputs": [
        {
          "output_type": "execute_result",
          "data": {
            "text/plain": [
              "(1030, 9)"
            ]
          },
          "metadata": {
            "tags": []
          },
          "execution_count": 46
        }
      ]
    },
    {
      "cell_type": "code",
      "metadata": {
        "colab": {
          "base_uri": "https://localhost:8080/",
          "height": 246
        },
        "id": "9wow1kYAfw6Z",
        "outputId": "5341970a-c080-4b17-c646-e0ea561df90b"
      },
      "source": [
        "data.head()"
      ],
      "execution_count": 47,
      "outputs": [
        {
          "output_type": "execute_result",
          "data": {
            "text/html": [
              "<div>\n",
              "<style scoped>\n",
              "    .dataframe tbody tr th:only-of-type {\n",
              "        vertical-align: middle;\n",
              "    }\n",
              "\n",
              "    .dataframe tbody tr th {\n",
              "        vertical-align: top;\n",
              "    }\n",
              "\n",
              "    .dataframe thead th {\n",
              "        text-align: right;\n",
              "    }\n",
              "</style>\n",
              "<table border=\"1\" class=\"dataframe\">\n",
              "  <thead>\n",
              "    <tr style=\"text-align: right;\">\n",
              "      <th></th>\n",
              "      <th>Cement (component 1)(kg in a m^3 mixture)</th>\n",
              "      <th>Blast Furnace Slag (component 2)(kg in a m^3 mixture)</th>\n",
              "      <th>Fly Ash (component 3)(kg in a m^3 mixture)</th>\n",
              "      <th>Water  (component 4)(kg in a m^3 mixture)</th>\n",
              "      <th>Superplasticizer (component 5)(kg in a m^3 mixture)</th>\n",
              "      <th>Coarse Aggregate  (component 6)(kg in a m^3 mixture)</th>\n",
              "      <th>Fine Aggregate (component 7)(kg in a m^3 mixture)</th>\n",
              "      <th>Age (day)</th>\n",
              "      <th>Concrete compressive strength(MPa, megapascals)</th>\n",
              "    </tr>\n",
              "  </thead>\n",
              "  <tbody>\n",
              "    <tr>\n",
              "      <th>0</th>\n",
              "      <td>540.0</td>\n",
              "      <td>0.0</td>\n",
              "      <td>0.0</td>\n",
              "      <td>162.0</td>\n",
              "      <td>2.5</td>\n",
              "      <td>1040.0</td>\n",
              "      <td>676.0</td>\n",
              "      <td>28</td>\n",
              "      <td>79.99</td>\n",
              "    </tr>\n",
              "    <tr>\n",
              "      <th>1</th>\n",
              "      <td>540.0</td>\n",
              "      <td>0.0</td>\n",
              "      <td>0.0</td>\n",
              "      <td>162.0</td>\n",
              "      <td>2.5</td>\n",
              "      <td>1055.0</td>\n",
              "      <td>676.0</td>\n",
              "      <td>28</td>\n",
              "      <td>61.89</td>\n",
              "    </tr>\n",
              "    <tr>\n",
              "      <th>2</th>\n",
              "      <td>332.5</td>\n",
              "      <td>142.5</td>\n",
              "      <td>0.0</td>\n",
              "      <td>228.0</td>\n",
              "      <td>0.0</td>\n",
              "      <td>932.0</td>\n",
              "      <td>594.0</td>\n",
              "      <td>270</td>\n",
              "      <td>40.27</td>\n",
              "    </tr>\n",
              "    <tr>\n",
              "      <th>3</th>\n",
              "      <td>332.5</td>\n",
              "      <td>142.5</td>\n",
              "      <td>0.0</td>\n",
              "      <td>228.0</td>\n",
              "      <td>0.0</td>\n",
              "      <td>932.0</td>\n",
              "      <td>594.0</td>\n",
              "      <td>365</td>\n",
              "      <td>41.05</td>\n",
              "    </tr>\n",
              "    <tr>\n",
              "      <th>4</th>\n",
              "      <td>198.6</td>\n",
              "      <td>132.4</td>\n",
              "      <td>0.0</td>\n",
              "      <td>192.0</td>\n",
              "      <td>0.0</td>\n",
              "      <td>978.4</td>\n",
              "      <td>825.5</td>\n",
              "      <td>360</td>\n",
              "      <td>44.30</td>\n",
              "    </tr>\n",
              "  </tbody>\n",
              "</table>\n",
              "</div>"
            ],
            "text/plain": [
              "   Cement (component 1)(kg in a m^3 mixture)  ...  Concrete compressive strength(MPa, megapascals) \n",
              "0                                      540.0  ...                                             79.99\n",
              "1                                      540.0  ...                                             61.89\n",
              "2                                      332.5  ...                                             40.27\n",
              "3                                      332.5  ...                                             41.05\n",
              "4                                      198.6  ...                                             44.30\n",
              "\n",
              "[5 rows x 9 columns]"
            ]
          },
          "metadata": {
            "tags": []
          },
          "execution_count": 47
        }
      ]
    },
    {
      "cell_type": "code",
      "metadata": {
        "colab": {
          "base_uri": "https://localhost:8080/"
        },
        "id": "s1Bb-yc4fw-P",
        "outputId": "6ac9cdc9-6743-46c1-f8b1-f246fbc33229"
      },
      "source": [
        "data.columns"
      ],
      "execution_count": 48,
      "outputs": [
        {
          "output_type": "execute_result",
          "data": {
            "text/plain": [
              "Index(['Cement (component 1)(kg in a m^3 mixture)',\n",
              "       'Blast Furnace Slag (component 2)(kg in a m^3 mixture)',\n",
              "       'Fly Ash (component 3)(kg in a m^3 mixture)',\n",
              "       'Water  (component 4)(kg in a m^3 mixture)',\n",
              "       'Superplasticizer (component 5)(kg in a m^3 mixture)',\n",
              "       'Coarse Aggregate  (component 6)(kg in a m^3 mixture)',\n",
              "       'Fine Aggregate (component 7)(kg in a m^3 mixture)', 'Age (day)',\n",
              "       'Concrete compressive strength(MPa, megapascals) '],\n",
              "      dtype='object')"
            ]
          },
          "metadata": {
            "tags": []
          },
          "execution_count": 48
        }
      ]
    },
    {
      "cell_type": "markdown",
      "metadata": {
        "id": "wG-ZW6nSeYgv"
      },
      "source": [
        "# Check Missing Values ( If Exist ; Fill each record with mean of its feature )"
      ]
    },
    {
      "cell_type": "code",
      "metadata": {
        "colab": {
          "base_uri": "https://localhost:8080/"
        },
        "id": "9w7FIy_cfxCL",
        "outputId": "670254aa-5336-45a6-cd90-043463e33a28"
      },
      "source": [
        "data.isnull().sum()"
      ],
      "execution_count": 67,
      "outputs": [
        {
          "output_type": "execute_result",
          "data": {
            "text/plain": [
              "Cement (component 1)(kg in a m^3 mixture)                0\n",
              "Blast Furnace Slag (component 2)(kg in a m^3 mixture)    0\n",
              "Fly Ash (component 3)(kg in a m^3 mixture)               0\n",
              "Water  (component 4)(kg in a m^3 mixture)                0\n",
              "Superplasticizer (component 5)(kg in a m^3 mixture)      0\n",
              "Coarse Aggregate  (component 6)(kg in a m^3 mixture)     0\n",
              "Fine Aggregate (component 7)(kg in a m^3 mixture)        0\n",
              "Age (day)                                                0\n",
              "Concrete compressive strength(MPa, megapascals)          0\n",
              "dtype: int64"
            ]
          },
          "metadata": {
            "tags": []
          },
          "execution_count": 67
        }
      ]
    },
    {
      "cell_type": "code",
      "metadata": {
        "colab": {
          "base_uri": "https://localhost:8080/"
        },
        "id": "PRr9Vu_OfxGa",
        "outputId": "aae207ce-6553-4abf-871d-e5f3a0aea94f"
      },
      "source": [
        "np.where(data.applymap(lambda x: x == ''))"
      ],
      "execution_count": 68,
      "outputs": [
        {
          "output_type": "execute_result",
          "data": {
            "text/plain": [
              "(array([], dtype=int64), array([], dtype=int64))"
            ]
          },
          "metadata": {
            "tags": []
          },
          "execution_count": 68
        }
      ]
    },
    {
      "cell_type": "code",
      "metadata": {
        "colab": {
          "base_uri": "https://localhost:8080/",
          "height": 334
        },
        "id": "JRNexnFPedkk",
        "outputId": "1b882d81-d71e-475f-8890-e4bdd9da2afd"
      },
      "source": [
        "data.describe()"
      ],
      "execution_count": 69,
      "outputs": [
        {
          "output_type": "execute_result",
          "data": {
            "text/html": [
              "<div>\n",
              "<style scoped>\n",
              "    .dataframe tbody tr th:only-of-type {\n",
              "        vertical-align: middle;\n",
              "    }\n",
              "\n",
              "    .dataframe tbody tr th {\n",
              "        vertical-align: top;\n",
              "    }\n",
              "\n",
              "    .dataframe thead th {\n",
              "        text-align: right;\n",
              "    }\n",
              "</style>\n",
              "<table border=\"1\" class=\"dataframe\">\n",
              "  <thead>\n",
              "    <tr style=\"text-align: right;\">\n",
              "      <th></th>\n",
              "      <th>Cement (component 1)(kg in a m^3 mixture)</th>\n",
              "      <th>Blast Furnace Slag (component 2)(kg in a m^3 mixture)</th>\n",
              "      <th>Fly Ash (component 3)(kg in a m^3 mixture)</th>\n",
              "      <th>Water  (component 4)(kg in a m^3 mixture)</th>\n",
              "      <th>Superplasticizer (component 5)(kg in a m^3 mixture)</th>\n",
              "      <th>Coarse Aggregate  (component 6)(kg in a m^3 mixture)</th>\n",
              "      <th>Fine Aggregate (component 7)(kg in a m^3 mixture)</th>\n",
              "      <th>Age (day)</th>\n",
              "      <th>Concrete compressive strength(MPa, megapascals)</th>\n",
              "    </tr>\n",
              "  </thead>\n",
              "  <tbody>\n",
              "    <tr>\n",
              "      <th>count</th>\n",
              "      <td>1030.000000</td>\n",
              "      <td>1030.000000</td>\n",
              "      <td>1030.000000</td>\n",
              "      <td>1030.000000</td>\n",
              "      <td>1030.000000</td>\n",
              "      <td>1030.000000</td>\n",
              "      <td>1030.000000</td>\n",
              "      <td>1030.000000</td>\n",
              "      <td>1030.000000</td>\n",
              "    </tr>\n",
              "    <tr>\n",
              "      <th>mean</th>\n",
              "      <td>281.167864</td>\n",
              "      <td>73.895825</td>\n",
              "      <td>54.188350</td>\n",
              "      <td>181.567282</td>\n",
              "      <td>6.204660</td>\n",
              "      <td>972.918932</td>\n",
              "      <td>773.580485</td>\n",
              "      <td>45.662136</td>\n",
              "      <td>35.817961</td>\n",
              "    </tr>\n",
              "    <tr>\n",
              "      <th>std</th>\n",
              "      <td>104.506364</td>\n",
              "      <td>86.279342</td>\n",
              "      <td>63.997004</td>\n",
              "      <td>21.354219</td>\n",
              "      <td>5.973841</td>\n",
              "      <td>77.753954</td>\n",
              "      <td>80.175980</td>\n",
              "      <td>63.169912</td>\n",
              "      <td>16.705742</td>\n",
              "    </tr>\n",
              "    <tr>\n",
              "      <th>min</th>\n",
              "      <td>102.000000</td>\n",
              "      <td>0.000000</td>\n",
              "      <td>0.000000</td>\n",
              "      <td>121.800000</td>\n",
              "      <td>0.000000</td>\n",
              "      <td>801.000000</td>\n",
              "      <td>594.000000</td>\n",
              "      <td>1.000000</td>\n",
              "      <td>2.330000</td>\n",
              "    </tr>\n",
              "    <tr>\n",
              "      <th>25%</th>\n",
              "      <td>192.375000</td>\n",
              "      <td>0.000000</td>\n",
              "      <td>0.000000</td>\n",
              "      <td>164.900000</td>\n",
              "      <td>0.000000</td>\n",
              "      <td>932.000000</td>\n",
              "      <td>730.950000</td>\n",
              "      <td>7.000000</td>\n",
              "      <td>23.710000</td>\n",
              "    </tr>\n",
              "    <tr>\n",
              "      <th>50%</th>\n",
              "      <td>272.900000</td>\n",
              "      <td>22.000000</td>\n",
              "      <td>0.000000</td>\n",
              "      <td>185.000000</td>\n",
              "      <td>6.400000</td>\n",
              "      <td>968.000000</td>\n",
              "      <td>779.500000</td>\n",
              "      <td>28.000000</td>\n",
              "      <td>34.445000</td>\n",
              "    </tr>\n",
              "    <tr>\n",
              "      <th>75%</th>\n",
              "      <td>350.000000</td>\n",
              "      <td>142.950000</td>\n",
              "      <td>118.300000</td>\n",
              "      <td>192.000000</td>\n",
              "      <td>10.200000</td>\n",
              "      <td>1029.400000</td>\n",
              "      <td>824.000000</td>\n",
              "      <td>56.000000</td>\n",
              "      <td>46.135000</td>\n",
              "    </tr>\n",
              "    <tr>\n",
              "      <th>max</th>\n",
              "      <td>540.000000</td>\n",
              "      <td>359.400000</td>\n",
              "      <td>200.100000</td>\n",
              "      <td>247.000000</td>\n",
              "      <td>32.200000</td>\n",
              "      <td>1145.000000</td>\n",
              "      <td>992.600000</td>\n",
              "      <td>365.000000</td>\n",
              "      <td>82.600000</td>\n",
              "    </tr>\n",
              "  </tbody>\n",
              "</table>\n",
              "</div>"
            ],
            "text/plain": [
              "       Cement (component 1)(kg in a m^3 mixture)  ...  Concrete compressive strength(MPa, megapascals) \n",
              "count                                1030.000000  ...                                       1030.000000\n",
              "mean                                  281.167864  ...                                         35.817961\n",
              "std                                   104.506364  ...                                         16.705742\n",
              "min                                   102.000000  ...                                          2.330000\n",
              "25%                                   192.375000  ...                                         23.710000\n",
              "50%                                   272.900000  ...                                         34.445000\n",
              "75%                                   350.000000  ...                                         46.135000\n",
              "max                                   540.000000  ...                                         82.600000\n",
              "\n",
              "[8 rows x 9 columns]"
            ]
          },
          "metadata": {
            "tags": []
          },
          "execution_count": 69
        }
      ]
    },
    {
      "cell_type": "code",
      "metadata": {
        "colab": {
          "base_uri": "https://localhost:8080/"
        },
        "id": "K_l39nRqfxJk",
        "outputId": "63b7cbb0-c24a-49d2-d7cc-0be85bf06266"
      },
      "source": [
        "data.empty"
      ],
      "execution_count": 70,
      "outputs": [
        {
          "output_type": "execute_result",
          "data": {
            "text/plain": [
              "False"
            ]
          },
          "metadata": {
            "tags": []
          },
          "execution_count": 70
        }
      ]
    },
    {
      "cell_type": "code",
      "metadata": {
        "id": "AYrE_rKDfxN4"
      },
      "source": [
        "X_train = data.sample(frac = 0.7, random_state = 123)\n",
        "X_test = data.drop(X_train.index)"
      ],
      "execution_count": 71,
      "outputs": []
    },
    {
      "cell_type": "code",
      "metadata": {
        "colab": {
          "base_uri": "https://localhost:8080/"
        },
        "id": "CV90wc80fxV2",
        "outputId": "8a4a2792-df19-47ed-f2b3-548f9e2b27a9"
      },
      "source": [
        "data.info()"
      ],
      "execution_count": 72,
      "outputs": [
        {
          "output_type": "stream",
          "text": [
            "<class 'pandas.core.frame.DataFrame'>\n",
            "RangeIndex: 1030 entries, 0 to 1029\n",
            "Data columns (total 9 columns):\n",
            " #   Column                                                 Non-Null Count  Dtype  \n",
            "---  ------                                                 --------------  -----  \n",
            " 0   Cement (component 1)(kg in a m^3 mixture)              1030 non-null   float64\n",
            " 1   Blast Furnace Slag (component 2)(kg in a m^3 mixture)  1030 non-null   float64\n",
            " 2   Fly Ash (component 3)(kg in a m^3 mixture)             1030 non-null   float64\n",
            " 3   Water  (component 4)(kg in a m^3 mixture)              1030 non-null   float64\n",
            " 4   Superplasticizer (component 5)(kg in a m^3 mixture)    1030 non-null   float64\n",
            " 5   Coarse Aggregate  (component 6)(kg in a m^3 mixture)   1030 non-null   float64\n",
            " 6   Fine Aggregate (component 7)(kg in a m^3 mixture)      1030 non-null   float64\n",
            " 7   Age (day)                                              1030 non-null   int64  \n",
            " 8   Concrete compressive strength(MPa, megapascals)        1030 non-null   float64\n",
            "dtypes: float64(8), int64(1)\n",
            "memory usage: 72.5 KB\n"
          ],
          "name": "stdout"
        }
      ]
    },
    {
      "cell_type": "code",
      "metadata": {
        "id": "Q8_TfsBwfxZk"
      },
      "source": [
        "Y_train = X_train.iloc[:,-1]\n",
        "X_train = X_train.iloc[:,0:-1]\n",
        "Y_test = X_test.iloc[:,-1]\n",
        "X_test = X_test.iloc[:,0:-1]\n",
        "X_mean = X_train.mean()\n",
        "X_train -= X_mean\n",
        "X_std = X_train.std()\n",
        "X_train /= X_std\n",
        "X_test -= X_mean\n",
        "X_test /= X_std"
      ],
      "execution_count": 73,
      "outputs": []
    },
    {
      "cell_type": "code",
      "metadata": {
        "id": "OOlt_jonfxdR"
      },
      "source": [
        "X_train = X_train.to_numpy()\n",
        "Y_train = Y_train.to_numpy()\n",
        "X_test = X_test.to_numpy()\n",
        "Y_test = Y_test.to_numpy()"
      ],
      "execution_count": 74,
      "outputs": []
    },
    {
      "cell_type": "code",
      "metadata": {
        "colab": {
          "base_uri": "https://localhost:8080/"
        },
        "id": "Io9QV0pTDIlW",
        "outputId": "d1497159-eb37-477b-8ea1-b5ec39b6811d"
      },
      "source": [
        "network = M.Sequential()\n",
        "network.add(L.Dense(128,activation=\"relu\",input_shape=(X_train.shape[1],)))\n",
        "network.add(L.Dense(64,activation=\"relu\"))\n",
        "network.add(L.Dense(32,activation=\"relu\"))\n",
        "network.add(L.Dense(1))\n",
        "network.compile(optimizer=\"rmsprop\",loss=[\"mse\"],metrics=[\"mae\"])\n",
        "history = network.fit(X_train,Y_train,epochs=200,validation_split=0.3, batch_size = 16)"
      ],
      "execution_count": 75,
      "outputs": [
        {
          "output_type": "stream",
          "text": [
            "Epoch 1/200\n",
            "32/32 [==============================] - 1s 7ms/step - loss: 1393.7757 - mae: 33.6485 - val_loss: 545.1693 - val_mae: 18.4750\n",
            "Epoch 2/200\n",
            "32/32 [==============================] - 0s 3ms/step - loss: 415.0922 - mae: 16.2557 - val_loss: 230.3164 - val_mae: 12.3071\n",
            "Epoch 3/200\n",
            "32/32 [==============================] - 0s 3ms/step - loss: 259.3604 - mae: 13.0903 - val_loss: 211.2849 - val_mae: 11.7254\n",
            "Epoch 4/200\n",
            "32/32 [==============================] - 0s 3ms/step - loss: 207.1086 - mae: 11.6791 - val_loss: 187.6877 - val_mae: 11.1659\n",
            "Epoch 5/200\n",
            "32/32 [==============================] - 0s 3ms/step - loss: 171.4530 - mae: 10.5637 - val_loss: 176.9450 - val_mae: 10.8887\n",
            "Epoch 6/200\n",
            "32/32 [==============================] - 0s 3ms/step - loss: 168.2575 - mae: 10.7027 - val_loss: 157.7169 - val_mae: 10.3396\n",
            "Epoch 7/200\n",
            "32/32 [==============================] - 0s 3ms/step - loss: 156.1846 - mae: 10.2013 - val_loss: 156.0566 - val_mae: 10.2552\n",
            "Epoch 8/200\n",
            "32/32 [==============================] - 0s 3ms/step - loss: 167.2123 - mae: 10.5801 - val_loss: 144.9790 - val_mae: 9.8975\n",
            "Epoch 9/200\n",
            "32/32 [==============================] - 0s 3ms/step - loss: 142.4198 - mae: 9.8677 - val_loss: 139.6712 - val_mae: 9.6491\n",
            "Epoch 10/200\n",
            "32/32 [==============================] - 0s 3ms/step - loss: 123.0225 - mae: 8.9269 - val_loss: 139.7650 - val_mae: 9.5482\n",
            "Epoch 11/200\n",
            "32/32 [==============================] - 0s 4ms/step - loss: 121.9552 - mae: 8.9708 - val_loss: 130.7470 - val_mae: 9.2264\n",
            "Epoch 12/200\n",
            "32/32 [==============================] - 0s 4ms/step - loss: 131.3364 - mae: 9.0712 - val_loss: 121.8283 - val_mae: 8.9502\n",
            "Epoch 13/200\n",
            "32/32 [==============================] - 0s 3ms/step - loss: 99.5560 - mae: 8.2029 - val_loss: 118.3586 - val_mae: 8.6734\n",
            "Epoch 14/200\n",
            "32/32 [==============================] - 0s 3ms/step - loss: 101.4541 - mae: 8.1556 - val_loss: 110.0196 - val_mae: 8.4115\n",
            "Epoch 15/200\n",
            "32/32 [==============================] - 0s 3ms/step - loss: 91.8181 - mae: 7.6978 - val_loss: 107.4359 - val_mae: 8.1938\n",
            "Epoch 16/200\n",
            "32/32 [==============================] - 0s 3ms/step - loss: 86.5516 - mae: 7.5137 - val_loss: 100.7930 - val_mae: 7.8997\n",
            "Epoch 17/200\n",
            "32/32 [==============================] - 0s 4ms/step - loss: 80.4710 - mae: 7.2546 - val_loss: 97.7357 - val_mae: 7.6917\n",
            "Epoch 18/200\n",
            "32/32 [==============================] - 0s 3ms/step - loss: 80.9701 - mae: 7.1068 - val_loss: 88.8330 - val_mae: 7.2324\n",
            "Epoch 19/200\n",
            "32/32 [==============================] - 0s 3ms/step - loss: 70.2442 - mae: 6.5164 - val_loss: 86.3426 - val_mae: 7.1786\n",
            "Epoch 20/200\n",
            "32/32 [==============================] - 0s 3ms/step - loss: 72.7373 - mae: 6.5870 - val_loss: 81.4481 - val_mae: 6.8514\n",
            "Epoch 21/200\n",
            "32/32 [==============================] - 0s 3ms/step - loss: 67.6524 - mae: 6.5094 - val_loss: 90.0533 - val_mae: 7.1808\n",
            "Epoch 22/200\n",
            "32/32 [==============================] - 0s 3ms/step - loss: 58.1195 - mae: 5.9884 - val_loss: 81.7137 - val_mae: 7.0856\n",
            "Epoch 23/200\n",
            "32/32 [==============================] - 0s 3ms/step - loss: 56.8093 - mae: 5.8670 - val_loss: 74.4289 - val_mae: 6.5389\n",
            "Epoch 24/200\n",
            "32/32 [==============================] - 0s 3ms/step - loss: 46.8406 - mae: 5.2889 - val_loss: 71.0577 - val_mae: 6.6446\n",
            "Epoch 25/200\n",
            "32/32 [==============================] - 0s 3ms/step - loss: 45.0100 - mae: 5.2221 - val_loss: 69.0392 - val_mae: 6.3509\n",
            "Epoch 26/200\n",
            "32/32 [==============================] - 0s 3ms/step - loss: 49.1308 - mae: 5.3293 - val_loss: 79.6653 - val_mae: 6.7675\n",
            "Epoch 27/200\n",
            "32/32 [==============================] - 0s 4ms/step - loss: 43.6500 - mae: 5.1367 - val_loss: 65.4102 - val_mae: 6.1506\n",
            "Epoch 28/200\n",
            "32/32 [==============================] - 0s 3ms/step - loss: 36.8598 - mae: 4.8276 - val_loss: 63.3151 - val_mae: 6.0801\n",
            "Epoch 29/200\n",
            "32/32 [==============================] - 0s 3ms/step - loss: 37.9130 - mae: 4.8244 - val_loss: 68.8650 - val_mae: 6.2217\n",
            "Epoch 30/200\n",
            "32/32 [==============================] - 0s 3ms/step - loss: 43.3766 - mae: 5.1207 - val_loss: 60.3723 - val_mae: 5.7812\n",
            "Epoch 31/200\n",
            "32/32 [==============================] - 0s 3ms/step - loss: 41.9796 - mae: 4.9962 - val_loss: 59.1919 - val_mae: 5.7872\n",
            "Epoch 32/200\n",
            "32/32 [==============================] - 0s 4ms/step - loss: 33.8877 - mae: 4.5506 - val_loss: 67.6776 - val_mae: 6.1472\n",
            "Epoch 33/200\n",
            "32/32 [==============================] - 0s 3ms/step - loss: 41.4115 - mae: 5.0265 - val_loss: 57.1442 - val_mae: 5.7910\n",
            "Epoch 34/200\n",
            "32/32 [==============================] - 0s 3ms/step - loss: 35.1696 - mae: 4.6497 - val_loss: 65.7842 - val_mae: 6.1894\n",
            "Epoch 35/200\n",
            "32/32 [==============================] - 0s 3ms/step - loss: 36.0067 - mae: 4.6613 - val_loss: 54.3899 - val_mae: 5.5191\n",
            "Epoch 36/200\n",
            "32/32 [==============================] - 0s 3ms/step - loss: 32.9154 - mae: 4.4619 - val_loss: 67.3753 - val_mae: 6.3886\n",
            "Epoch 37/200\n",
            "32/32 [==============================] - 0s 3ms/step - loss: 32.5080 - mae: 4.3838 - val_loss: 53.5246 - val_mae: 5.6140\n",
            "Epoch 38/200\n",
            "32/32 [==============================] - 0s 3ms/step - loss: 35.6066 - mae: 4.6001 - val_loss: 61.1245 - val_mae: 5.9251\n",
            "Epoch 39/200\n",
            "32/32 [==============================] - 0s 3ms/step - loss: 33.9870 - mae: 4.6566 - val_loss: 54.5991 - val_mae: 5.7623\n",
            "Epoch 40/200\n",
            "32/32 [==============================] - 0s 3ms/step - loss: 33.6883 - mae: 4.5622 - val_loss: 54.5220 - val_mae: 5.5320\n",
            "Epoch 41/200\n",
            "32/32 [==============================] - 0s 3ms/step - loss: 25.8005 - mae: 3.8557 - val_loss: 57.8325 - val_mae: 5.8454\n",
            "Epoch 42/200\n",
            "32/32 [==============================] - 0s 4ms/step - loss: 27.3222 - mae: 4.0212 - val_loss: 51.1170 - val_mae: 5.3459\n",
            "Epoch 43/200\n",
            "32/32 [==============================] - 0s 3ms/step - loss: 27.2378 - mae: 4.0340 - val_loss: 49.8828 - val_mae: 5.4064\n",
            "Epoch 44/200\n",
            "32/32 [==============================] - 0s 3ms/step - loss: 28.1452 - mae: 4.1454 - val_loss: 52.8900 - val_mae: 5.7168\n",
            "Epoch 45/200\n",
            "32/32 [==============================] - 0s 3ms/step - loss: 27.4775 - mae: 4.0318 - val_loss: 51.2654 - val_mae: 5.5080\n",
            "Epoch 46/200\n",
            "32/32 [==============================] - 0s 4ms/step - loss: 24.2098 - mae: 3.7578 - val_loss: 47.3423 - val_mae: 5.3767\n",
            "Epoch 47/200\n",
            "32/32 [==============================] - 0s 4ms/step - loss: 27.1704 - mae: 3.9829 - val_loss: 48.3840 - val_mae: 5.3476\n",
            "Epoch 48/200\n",
            "32/32 [==============================] - 0s 3ms/step - loss: 23.9860 - mae: 3.6197 - val_loss: 49.2552 - val_mae: 5.3448\n",
            "Epoch 49/200\n",
            "32/32 [==============================] - 0s 3ms/step - loss: 25.5629 - mae: 3.8906 - val_loss: 52.2695 - val_mae: 5.3742\n",
            "Epoch 50/200\n",
            "32/32 [==============================] - 0s 3ms/step - loss: 24.5357 - mae: 3.7966 - val_loss: 45.7990 - val_mae: 5.2139\n",
            "Epoch 51/200\n",
            "32/32 [==============================] - 0s 3ms/step - loss: 23.4598 - mae: 3.6409 - val_loss: 46.4530 - val_mae: 5.2322\n",
            "Epoch 52/200\n",
            "32/32 [==============================] - 0s 3ms/step - loss: 24.1212 - mae: 3.7254 - val_loss: 42.4175 - val_mae: 5.1341\n",
            "Epoch 53/200\n",
            "32/32 [==============================] - 0s 3ms/step - loss: 24.1331 - mae: 3.7925 - val_loss: 43.0441 - val_mae: 5.1006\n",
            "Epoch 54/200\n",
            "32/32 [==============================] - 0s 3ms/step - loss: 26.3452 - mae: 4.0000 - val_loss: 52.1992 - val_mae: 5.4783\n",
            "Epoch 55/200\n",
            "32/32 [==============================] - 0s 4ms/step - loss: 23.9296 - mae: 3.7724 - val_loss: 53.7713 - val_mae: 5.6243\n",
            "Epoch 56/200\n",
            "32/32 [==============================] - 0s 3ms/step - loss: 23.7538 - mae: 3.7265 - val_loss: 45.1994 - val_mae: 5.1247\n",
            "Epoch 57/200\n",
            "32/32 [==============================] - 0s 3ms/step - loss: 22.1041 - mae: 3.6297 - val_loss: 43.4028 - val_mae: 5.1013\n",
            "Epoch 58/200\n",
            "32/32 [==============================] - 0s 3ms/step - loss: 22.9829 - mae: 3.7749 - val_loss: 57.7229 - val_mae: 5.7267\n",
            "Epoch 59/200\n",
            "32/32 [==============================] - 0s 3ms/step - loss: 21.7496 - mae: 3.4732 - val_loss: 44.8244 - val_mae: 5.2277\n",
            "Epoch 60/200\n",
            "32/32 [==============================] - 0s 3ms/step - loss: 20.9285 - mae: 3.5417 - val_loss: 45.4597 - val_mae: 5.2550\n",
            "Epoch 61/200\n",
            "32/32 [==============================] - 0s 3ms/step - loss: 22.0850 - mae: 3.6383 - val_loss: 43.8559 - val_mae: 5.0087\n",
            "Epoch 62/200\n",
            "32/32 [==============================] - 0s 3ms/step - loss: 21.7763 - mae: 3.5713 - val_loss: 44.4004 - val_mae: 5.1831\n",
            "Epoch 63/200\n",
            "32/32 [==============================] - 0s 3ms/step - loss: 21.3422 - mae: 3.5582 - val_loss: 46.0910 - val_mae: 5.2101\n",
            "Epoch 64/200\n",
            "32/32 [==============================] - 0s 3ms/step - loss: 20.5250 - mae: 3.5150 - val_loss: 46.9560 - val_mae: 5.2331\n",
            "Epoch 65/200\n",
            "32/32 [==============================] - 0s 3ms/step - loss: 22.6860 - mae: 3.5978 - val_loss: 47.6979 - val_mae: 5.3853\n",
            "Epoch 66/200\n",
            "32/32 [==============================] - 0s 3ms/step - loss: 18.7584 - mae: 3.3137 - val_loss: 47.4782 - val_mae: 5.4243\n",
            "Epoch 67/200\n",
            "32/32 [==============================] - 0s 3ms/step - loss: 22.0355 - mae: 3.6184 - val_loss: 45.3843 - val_mae: 5.1598\n",
            "Epoch 68/200\n",
            "32/32 [==============================] - 0s 3ms/step - loss: 18.7220 - mae: 3.3939 - val_loss: 44.5052 - val_mae: 5.2596\n",
            "Epoch 69/200\n",
            "32/32 [==============================] - 0s 3ms/step - loss: 18.5909 - mae: 3.3319 - val_loss: 40.9735 - val_mae: 4.9811\n",
            "Epoch 70/200\n",
            "32/32 [==============================] - 0s 3ms/step - loss: 23.4635 - mae: 3.7282 - val_loss: 44.3861 - val_mae: 4.9002\n",
            "Epoch 71/200\n",
            "32/32 [==============================] - 0s 3ms/step - loss: 20.8876 - mae: 3.5438 - val_loss: 41.2978 - val_mae: 5.0738\n",
            "Epoch 72/200\n",
            "32/32 [==============================] - 0s 4ms/step - loss: 20.4008 - mae: 3.5109 - val_loss: 39.4791 - val_mae: 4.7923\n",
            "Epoch 73/200\n",
            "32/32 [==============================] - 0s 3ms/step - loss: 17.9619 - mae: 3.2933 - val_loss: 41.1939 - val_mae: 5.0227\n",
            "Epoch 74/200\n",
            "32/32 [==============================] - 0s 3ms/step - loss: 16.9078 - mae: 3.0930 - val_loss: 43.3692 - val_mae: 4.9176\n",
            "Epoch 75/200\n",
            "32/32 [==============================] - 0s 3ms/step - loss: 16.2486 - mae: 3.0223 - val_loss: 39.4021 - val_mae: 4.7889\n",
            "Epoch 76/200\n",
            "32/32 [==============================] - 0s 3ms/step - loss: 18.8880 - mae: 3.2531 - val_loss: 43.2363 - val_mae: 5.0292\n",
            "Epoch 77/200\n",
            "32/32 [==============================] - 0s 3ms/step - loss: 19.6821 - mae: 3.3514 - val_loss: 39.5752 - val_mae: 4.7753\n",
            "Epoch 78/200\n",
            "32/32 [==============================] - 0s 4ms/step - loss: 17.7359 - mae: 3.1244 - val_loss: 44.1900 - val_mae: 5.1399\n",
            "Epoch 79/200\n",
            "32/32 [==============================] - 0s 3ms/step - loss: 19.3712 - mae: 3.3777 - val_loss: 41.2600 - val_mae: 4.9286\n",
            "Epoch 80/200\n",
            "32/32 [==============================] - 0s 3ms/step - loss: 18.2606 - mae: 3.3001 - val_loss: 39.1593 - val_mae: 4.9456\n",
            "Epoch 81/200\n",
            "32/32 [==============================] - 0s 3ms/step - loss: 15.5928 - mae: 3.0175 - val_loss: 41.6588 - val_mae: 4.9502\n",
            "Epoch 82/200\n",
            "32/32 [==============================] - 0s 3ms/step - loss: 17.4579 - mae: 3.1341 - val_loss: 38.5072 - val_mae: 4.8161\n",
            "Epoch 83/200\n",
            "32/32 [==============================] - 0s 4ms/step - loss: 18.4332 - mae: 3.2565 - val_loss: 43.0676 - val_mae: 4.9767\n",
            "Epoch 84/200\n",
            "32/32 [==============================] - 0s 3ms/step - loss: 18.1066 - mae: 3.2861 - val_loss: 39.3992 - val_mae: 4.8114\n",
            "Epoch 85/200\n",
            "32/32 [==============================] - 0s 3ms/step - loss: 15.4766 - mae: 2.9609 - val_loss: 36.6801 - val_mae: 4.7551\n",
            "Epoch 86/200\n",
            "32/32 [==============================] - 0s 3ms/step - loss: 17.7857 - mae: 3.2732 - val_loss: 38.1689 - val_mae: 4.6834\n",
            "Epoch 87/200\n",
            "32/32 [==============================] - 0s 3ms/step - loss: 14.5098 - mae: 2.9296 - val_loss: 38.5558 - val_mae: 4.8365\n",
            "Epoch 88/200\n",
            "32/32 [==============================] - 0s 3ms/step - loss: 16.7852 - mae: 3.1461 - val_loss: 39.8810 - val_mae: 4.7609\n",
            "Epoch 89/200\n",
            "32/32 [==============================] - 0s 4ms/step - loss: 16.2643 - mae: 2.9938 - val_loss: 47.6970 - val_mae: 5.2024\n",
            "Epoch 90/200\n",
            "32/32 [==============================] - 0s 3ms/step - loss: 15.6178 - mae: 2.9547 - val_loss: 41.2544 - val_mae: 4.9433\n",
            "Epoch 91/200\n",
            "32/32 [==============================] - 0s 4ms/step - loss: 15.8873 - mae: 3.1353 - val_loss: 37.9716 - val_mae: 4.6724\n",
            "Epoch 92/200\n",
            "32/32 [==============================] - 0s 4ms/step - loss: 15.2284 - mae: 2.9093 - val_loss: 41.4786 - val_mae: 4.9418\n",
            "Epoch 93/200\n",
            "32/32 [==============================] - 0s 3ms/step - loss: 20.9239 - mae: 3.4997 - val_loss: 38.1097 - val_mae: 4.6997\n",
            "Epoch 94/200\n",
            "32/32 [==============================] - 0s 3ms/step - loss: 17.7578 - mae: 3.2308 - val_loss: 38.3192 - val_mae: 4.7570\n",
            "Epoch 95/200\n",
            "32/32 [==============================] - 0s 3ms/step - loss: 16.0024 - mae: 3.0649 - val_loss: 38.2552 - val_mae: 4.6743\n",
            "Epoch 96/200\n",
            "32/32 [==============================] - 0s 4ms/step - loss: 14.9623 - mae: 2.9852 - val_loss: 39.9478 - val_mae: 4.9109\n",
            "Epoch 97/200\n",
            "32/32 [==============================] - 0s 4ms/step - loss: 15.6264 - mae: 3.0653 - val_loss: 37.2244 - val_mae: 4.6478\n",
            "Epoch 98/200\n",
            "32/32 [==============================] - 0s 3ms/step - loss: 12.7121 - mae: 2.7218 - val_loss: 40.2606 - val_mae: 4.8513\n",
            "Epoch 99/200\n",
            "32/32 [==============================] - 0s 3ms/step - loss: 13.6198 - mae: 2.8609 - val_loss: 34.9875 - val_mae: 4.4997\n",
            "Epoch 100/200\n",
            "32/32 [==============================] - 0s 4ms/step - loss: 14.3819 - mae: 2.8406 - val_loss: 40.7728 - val_mae: 4.9329\n",
            "Epoch 101/200\n",
            "32/32 [==============================] - 0s 3ms/step - loss: 15.8587 - mae: 3.0830 - val_loss: 39.3671 - val_mae: 4.8972\n",
            "Epoch 102/200\n",
            "32/32 [==============================] - 0s 3ms/step - loss: 12.7886 - mae: 2.6561 - val_loss: 36.3826 - val_mae: 4.5210\n",
            "Epoch 103/200\n",
            "32/32 [==============================] - 0s 3ms/step - loss: 14.3735 - mae: 2.7824 - val_loss: 39.6053 - val_mae: 4.7366\n",
            "Epoch 104/200\n",
            "32/32 [==============================] - 0s 3ms/step - loss: 14.7603 - mae: 2.8623 - val_loss: 39.3222 - val_mae: 4.6966\n",
            "Epoch 105/200\n",
            "32/32 [==============================] - 0s 3ms/step - loss: 13.0890 - mae: 2.7961 - val_loss: 41.2205 - val_mae: 4.9291\n",
            "Epoch 106/200\n",
            "32/32 [==============================] - 0s 3ms/step - loss: 15.2566 - mae: 2.9876 - val_loss: 42.4375 - val_mae: 4.8287\n",
            "Epoch 107/200\n",
            "32/32 [==============================] - 0s 3ms/step - loss: 14.5506 - mae: 2.9480 - val_loss: 36.0814 - val_mae: 4.5148\n",
            "Epoch 108/200\n",
            "32/32 [==============================] - 0s 3ms/step - loss: 11.4834 - mae: 2.5613 - val_loss: 42.3331 - val_mae: 4.9715\n",
            "Epoch 109/200\n",
            "32/32 [==============================] - 0s 3ms/step - loss: 14.9027 - mae: 2.9146 - val_loss: 39.9557 - val_mae: 4.8311\n",
            "Epoch 110/200\n",
            "32/32 [==============================] - 0s 4ms/step - loss: 14.8937 - mae: 2.8692 - val_loss: 38.4804 - val_mae: 4.7798\n",
            "Epoch 111/200\n",
            "32/32 [==============================] - 0s 4ms/step - loss: 13.7899 - mae: 2.8704 - val_loss: 40.2221 - val_mae: 4.7003\n",
            "Epoch 112/200\n",
            "32/32 [==============================] - 0s 3ms/step - loss: 13.4566 - mae: 2.7860 - val_loss: 42.0425 - val_mae: 4.8956\n",
            "Epoch 113/200\n",
            "32/32 [==============================] - 0s 3ms/step - loss: 12.6178 - mae: 2.6528 - val_loss: 37.1787 - val_mae: 4.6024\n",
            "Epoch 114/200\n",
            "32/32 [==============================] - 0s 3ms/step - loss: 12.8884 - mae: 2.7316 - val_loss: 40.9820 - val_mae: 4.8869\n",
            "Epoch 115/200\n",
            "32/32 [==============================] - 0s 3ms/step - loss: 13.7422 - mae: 2.8646 - val_loss: 48.2017 - val_mae: 5.3615\n",
            "Epoch 116/200\n",
            "32/32 [==============================] - 0s 3ms/step - loss: 15.0582 - mae: 2.9612 - val_loss: 36.4041 - val_mae: 4.6496\n",
            "Epoch 117/200\n",
            "32/32 [==============================] - 0s 4ms/step - loss: 14.4333 - mae: 2.7846 - val_loss: 39.0571 - val_mae: 4.7692\n",
            "Epoch 118/200\n",
            "32/32 [==============================] - 0s 3ms/step - loss: 14.6187 - mae: 2.8885 - val_loss: 48.3994 - val_mae: 5.3273\n",
            "Epoch 119/200\n",
            "32/32 [==============================] - 0s 4ms/step - loss: 16.1932 - mae: 3.0927 - val_loss: 42.3875 - val_mae: 4.8643\n",
            "Epoch 120/200\n",
            "32/32 [==============================] - 0s 4ms/step - loss: 13.5443 - mae: 2.8003 - val_loss: 35.9695 - val_mae: 4.5722\n",
            "Epoch 121/200\n",
            "32/32 [==============================] - 0s 3ms/step - loss: 11.8841 - mae: 2.6382 - val_loss: 35.6690 - val_mae: 4.5527\n",
            "Epoch 122/200\n",
            "32/32 [==============================] - 0s 3ms/step - loss: 11.3846 - mae: 2.4992 - val_loss: 37.4307 - val_mae: 4.6136\n",
            "Epoch 123/200\n",
            "32/32 [==============================] - 0s 3ms/step - loss: 12.6615 - mae: 2.7656 - val_loss: 35.7386 - val_mae: 4.5186\n",
            "Epoch 124/200\n",
            "32/32 [==============================] - 0s 4ms/step - loss: 11.2718 - mae: 2.4572 - val_loss: 45.4646 - val_mae: 5.2835\n",
            "Epoch 125/200\n",
            "32/32 [==============================] - 0s 3ms/step - loss: 12.0726 - mae: 2.7297 - val_loss: 33.7143 - val_mae: 4.3436\n",
            "Epoch 126/200\n",
            "32/32 [==============================] - 0s 3ms/step - loss: 11.1113 - mae: 2.5908 - val_loss: 38.7722 - val_mae: 4.7248\n",
            "Epoch 127/200\n",
            "32/32 [==============================] - 0s 3ms/step - loss: 13.1295 - mae: 2.7425 - val_loss: 36.7606 - val_mae: 4.6537\n",
            "Epoch 128/200\n",
            "32/32 [==============================] - 0s 3ms/step - loss: 13.0434 - mae: 2.6464 - val_loss: 34.0234 - val_mae: 4.4085\n",
            "Epoch 129/200\n",
            "32/32 [==============================] - 0s 4ms/step - loss: 11.4942 - mae: 2.5626 - val_loss: 40.7328 - val_mae: 4.8751\n",
            "Epoch 130/200\n",
            "32/32 [==============================] - 0s 3ms/step - loss: 10.7813 - mae: 2.4601 - val_loss: 33.9129 - val_mae: 4.4025\n",
            "Epoch 131/200\n",
            "32/32 [==============================] - 0s 3ms/step - loss: 12.4710 - mae: 2.6456 - val_loss: 47.5378 - val_mae: 5.1365\n",
            "Epoch 132/200\n",
            "32/32 [==============================] - 0s 3ms/step - loss: 12.6899 - mae: 2.6988 - val_loss: 34.8966 - val_mae: 4.5629\n",
            "Epoch 133/200\n",
            "32/32 [==============================] - 0s 3ms/step - loss: 11.7773 - mae: 2.5933 - val_loss: 42.6779 - val_mae: 4.9269\n",
            "Epoch 134/200\n",
            "32/32 [==============================] - 0s 3ms/step - loss: 12.8456 - mae: 2.6779 - val_loss: 35.2624 - val_mae: 4.6149\n",
            "Epoch 135/200\n",
            "32/32 [==============================] - 0s 3ms/step - loss: 12.0604 - mae: 2.6154 - val_loss: 35.4365 - val_mae: 4.5831\n",
            "Epoch 136/200\n",
            "32/32 [==============================] - 0s 4ms/step - loss: 9.4063 - mae: 2.3177 - val_loss: 36.7729 - val_mae: 4.5806\n",
            "Epoch 137/200\n",
            "32/32 [==============================] - 0s 3ms/step - loss: 11.3005 - mae: 2.4554 - val_loss: 36.5727 - val_mae: 4.5580\n",
            "Epoch 138/200\n",
            "32/32 [==============================] - 0s 3ms/step - loss: 12.2001 - mae: 2.6581 - val_loss: 43.1115 - val_mae: 5.1001\n",
            "Epoch 139/200\n",
            "32/32 [==============================] - 0s 3ms/step - loss: 13.6561 - mae: 2.8370 - val_loss: 36.0445 - val_mae: 4.5471\n",
            "Epoch 140/200\n",
            "32/32 [==============================] - 0s 3ms/step - loss: 12.2817 - mae: 2.6100 - val_loss: 34.7923 - val_mae: 4.4275\n",
            "Epoch 141/200\n",
            "32/32 [==============================] - 0s 4ms/step - loss: 9.1927 - mae: 2.3729 - val_loss: 39.3936 - val_mae: 4.7894\n",
            "Epoch 142/200\n",
            "32/32 [==============================] - 0s 3ms/step - loss: 13.7891 - mae: 2.7714 - val_loss: 43.0365 - val_mae: 5.0161\n",
            "Epoch 143/200\n",
            "32/32 [==============================] - 0s 3ms/step - loss: 12.8733 - mae: 2.7029 - val_loss: 54.5440 - val_mae: 5.8078\n",
            "Epoch 144/200\n",
            "32/32 [==============================] - 0s 3ms/step - loss: 12.2317 - mae: 2.6186 - val_loss: 36.0249 - val_mae: 4.6137\n",
            "Epoch 145/200\n",
            "32/32 [==============================] - 0s 4ms/step - loss: 10.4359 - mae: 2.3396 - val_loss: 37.8411 - val_mae: 4.7226\n",
            "Epoch 146/200\n",
            "32/32 [==============================] - 0s 4ms/step - loss: 14.5621 - mae: 2.7699 - val_loss: 41.3277 - val_mae: 4.9292\n",
            "Epoch 147/200\n",
            "32/32 [==============================] - 0s 4ms/step - loss: 12.1320 - mae: 2.6630 - val_loss: 33.8943 - val_mae: 4.5342\n",
            "Epoch 148/200\n",
            "32/32 [==============================] - 0s 3ms/step - loss: 10.8158 - mae: 2.5392 - val_loss: 39.8575 - val_mae: 4.7111\n",
            "Epoch 149/200\n",
            "32/32 [==============================] - 0s 4ms/step - loss: 15.0034 - mae: 2.8069 - val_loss: 33.6903 - val_mae: 4.3947\n",
            "Epoch 150/200\n",
            "32/32 [==============================] - 0s 3ms/step - loss: 8.2911 - mae: 2.1911 - val_loss: 35.9254 - val_mae: 4.5733\n",
            "Epoch 151/200\n",
            "32/32 [==============================] - 0s 3ms/step - loss: 11.3730 - mae: 2.5041 - val_loss: 38.4853 - val_mae: 4.6886\n",
            "Epoch 152/200\n",
            "32/32 [==============================] - 0s 4ms/step - loss: 12.4016 - mae: 2.5612 - val_loss: 34.7873 - val_mae: 4.4730\n",
            "Epoch 153/200\n",
            "32/32 [==============================] - 0s 3ms/step - loss: 10.9887 - mae: 2.4259 - val_loss: 38.2719 - val_mae: 4.7414\n",
            "Epoch 154/200\n",
            "32/32 [==============================] - 0s 3ms/step - loss: 11.3256 - mae: 2.4980 - val_loss: 36.0636 - val_mae: 4.7882\n",
            "Epoch 155/200\n",
            "32/32 [==============================] - 0s 3ms/step - loss: 11.1678 - mae: 2.4878 - val_loss: 36.5272 - val_mae: 4.5241\n",
            "Epoch 156/200\n",
            "32/32 [==============================] - 0s 4ms/step - loss: 10.6404 - mae: 2.5114 - val_loss: 39.8620 - val_mae: 4.7018\n",
            "Epoch 157/200\n",
            "32/32 [==============================] - 0s 3ms/step - loss: 13.4795 - mae: 2.7034 - val_loss: 37.7015 - val_mae: 4.6881\n",
            "Epoch 158/200\n",
            "32/32 [==============================] - 0s 3ms/step - loss: 11.6860 - mae: 2.5326 - val_loss: 33.3667 - val_mae: 4.3826\n",
            "Epoch 159/200\n",
            "32/32 [==============================] - 0s 3ms/step - loss: 12.9574 - mae: 2.6769 - val_loss: 34.5200 - val_mae: 4.4508\n",
            "Epoch 160/200\n",
            "32/32 [==============================] - 0s 3ms/step - loss: 10.9258 - mae: 2.4998 - val_loss: 36.0645 - val_mae: 4.5322\n",
            "Epoch 161/200\n",
            "32/32 [==============================] - 0s 4ms/step - loss: 11.2769 - mae: 2.5667 - val_loss: 34.5084 - val_mae: 4.5019\n",
            "Epoch 162/200\n",
            "32/32 [==============================] - 0s 4ms/step - loss: 9.4819 - mae: 2.2846 - val_loss: 34.3913 - val_mae: 4.4372\n",
            "Epoch 163/200\n",
            "32/32 [==============================] - 0s 3ms/step - loss: 11.2594 - mae: 2.4263 - val_loss: 33.6751 - val_mae: 4.2816\n",
            "Epoch 164/200\n",
            "32/32 [==============================] - 0s 4ms/step - loss: 14.1617 - mae: 2.7274 - val_loss: 35.8659 - val_mae: 4.6243\n",
            "Epoch 165/200\n",
            "32/32 [==============================] - 0s 3ms/step - loss: 9.5087 - mae: 2.3394 - val_loss: 34.3230 - val_mae: 4.4620\n",
            "Epoch 166/200\n",
            "32/32 [==============================] - 0s 3ms/step - loss: 10.9372 - mae: 2.4875 - val_loss: 33.3604 - val_mae: 4.3325\n",
            "Epoch 167/200\n",
            "32/32 [==============================] - 0s 3ms/step - loss: 10.8242 - mae: 2.4515 - val_loss: 35.5293 - val_mae: 4.5313\n",
            "Epoch 168/200\n",
            "32/32 [==============================] - 0s 3ms/step - loss: 11.3573 - mae: 2.5571 - val_loss: 38.8718 - val_mae: 4.6892\n",
            "Epoch 169/200\n",
            "32/32 [==============================] - 0s 3ms/step - loss: 11.1905 - mae: 2.4395 - val_loss: 35.4733 - val_mae: 4.4945\n",
            "Epoch 170/200\n",
            "32/32 [==============================] - 0s 3ms/step - loss: 11.5888 - mae: 2.5831 - val_loss: 34.0542 - val_mae: 4.4229\n",
            "Epoch 171/200\n",
            "32/32 [==============================] - 0s 3ms/step - loss: 11.2232 - mae: 2.5653 - val_loss: 36.9963 - val_mae: 4.4596\n",
            "Epoch 172/200\n",
            "32/32 [==============================] - 0s 3ms/step - loss: 12.8971 - mae: 2.6139 - val_loss: 39.9551 - val_mae: 4.6694\n",
            "Epoch 173/200\n",
            "32/32 [==============================] - 0s 3ms/step - loss: 12.3215 - mae: 2.5474 - val_loss: 40.2805 - val_mae: 4.8133\n",
            "Epoch 174/200\n",
            "32/32 [==============================] - 0s 4ms/step - loss: 10.8487 - mae: 2.4814 - val_loss: 35.4501 - val_mae: 4.3995\n",
            "Epoch 175/200\n",
            "32/32 [==============================] - 0s 3ms/step - loss: 12.1620 - mae: 2.6489 - val_loss: 37.6760 - val_mae: 4.6261\n",
            "Epoch 176/200\n",
            "32/32 [==============================] - 0s 3ms/step - loss: 11.3576 - mae: 2.5312 - val_loss: 46.5356 - val_mae: 5.1432\n",
            "Epoch 177/200\n",
            "32/32 [==============================] - 0s 3ms/step - loss: 11.2763 - mae: 2.4509 - val_loss: 34.2486 - val_mae: 4.3046\n",
            "Epoch 178/200\n",
            "32/32 [==============================] - 0s 3ms/step - loss: 11.2395 - mae: 2.5420 - val_loss: 38.7791 - val_mae: 4.6648\n",
            "Epoch 179/200\n",
            "32/32 [==============================] - 0s 3ms/step - loss: 11.9698 - mae: 2.5676 - val_loss: 34.2721 - val_mae: 4.4957\n",
            "Epoch 180/200\n",
            "32/32 [==============================] - 0s 3ms/step - loss: 9.0937 - mae: 2.2429 - val_loss: 38.1129 - val_mae: 4.7902\n",
            "Epoch 181/200\n",
            "32/32 [==============================] - 0s 3ms/step - loss: 9.9619 - mae: 2.4251 - val_loss: 38.3869 - val_mae: 4.6701\n",
            "Epoch 182/200\n",
            "32/32 [==============================] - 0s 4ms/step - loss: 10.7514 - mae: 2.3424 - val_loss: 42.8638 - val_mae: 5.0708\n",
            "Epoch 183/200\n",
            "32/32 [==============================] - 0s 4ms/step - loss: 13.6980 - mae: 2.7618 - val_loss: 33.9227 - val_mae: 4.3148\n",
            "Epoch 184/200\n",
            "32/32 [==============================] - 0s 4ms/step - loss: 8.8653 - mae: 2.2945 - val_loss: 35.0099 - val_mae: 4.3988\n",
            "Epoch 185/200\n",
            "32/32 [==============================] - 0s 3ms/step - loss: 12.0676 - mae: 2.5675 - val_loss: 34.1484 - val_mae: 4.4073\n",
            "Epoch 186/200\n",
            "32/32 [==============================] - 0s 3ms/step - loss: 12.2051 - mae: 2.5491 - val_loss: 35.4374 - val_mae: 4.5760\n",
            "Epoch 187/200\n",
            "32/32 [==============================] - 0s 4ms/step - loss: 9.7840 - mae: 2.3705 - val_loss: 33.5189 - val_mae: 4.3883\n",
            "Epoch 188/200\n",
            "32/32 [==============================] - 0s 4ms/step - loss: 8.1694 - mae: 2.1607 - val_loss: 32.8201 - val_mae: 4.3127\n",
            "Epoch 189/200\n",
            "32/32 [==============================] - 0s 4ms/step - loss: 10.1539 - mae: 2.3190 - val_loss: 33.7916 - val_mae: 4.4767\n",
            "Epoch 190/200\n",
            "32/32 [==============================] - 0s 3ms/step - loss: 9.2406 - mae: 2.2346 - val_loss: 34.9319 - val_mae: 4.3817\n",
            "Epoch 191/200\n",
            "32/32 [==============================] - 0s 3ms/step - loss: 8.2578 - mae: 2.2685 - val_loss: 36.1339 - val_mae: 4.7577\n",
            "Epoch 192/200\n",
            "32/32 [==============================] - 0s 4ms/step - loss: 12.9487 - mae: 2.6450 - val_loss: 35.2862 - val_mae: 4.4244\n",
            "Epoch 193/200\n",
            "32/32 [==============================] - 0s 4ms/step - loss: 8.2808 - mae: 2.1474 - val_loss: 36.2794 - val_mae: 4.7514\n",
            "Epoch 194/200\n",
            "32/32 [==============================] - 0s 3ms/step - loss: 9.5593 - mae: 2.3642 - val_loss: 34.9593 - val_mae: 4.4538\n",
            "Epoch 195/200\n",
            "32/32 [==============================] - 0s 4ms/step - loss: 9.9110 - mae: 2.3553 - val_loss: 34.9824 - val_mae: 4.5474\n",
            "Epoch 196/200\n",
            "32/32 [==============================] - 0s 3ms/step - loss: 9.9211 - mae: 2.3813 - val_loss: 37.3470 - val_mae: 4.5330\n",
            "Epoch 197/200\n",
            "32/32 [==============================] - 0s 3ms/step - loss: 9.6781 - mae: 2.3162 - val_loss: 38.2210 - val_mae: 4.6702\n",
            "Epoch 198/200\n",
            "32/32 [==============================] - 0s 3ms/step - loss: 11.2031 - mae: 2.5316 - val_loss: 36.5009 - val_mae: 4.5671\n",
            "Epoch 199/200\n",
            "32/32 [==============================] - 0s 3ms/step - loss: 10.1068 - mae: 2.3538 - val_loss: 42.5004 - val_mae: 5.2629\n",
            "Epoch 200/200\n",
            "32/32 [==============================] - 0s 3ms/step - loss: 10.1178 - mae: 2.3703 - val_loss: 35.8887 - val_mae: 4.6432\n"
          ],
          "name": "stdout"
        }
      ]
    },
    {
      "cell_type": "code",
      "metadata": {
        "colab": {
          "base_uri": "https://localhost:8080/"
        },
        "id": "58_T6zv8DIts",
        "outputId": "3d1a21d4-429d-43d5-9c73-5a627c992232"
      },
      "source": [
        "loss, mae=network.evaluate(X_test,Y_test)"
      ],
      "execution_count": 76,
      "outputs": [
        {
          "output_type": "stream",
          "text": [
            "10/10 [==============================] - 0s 2ms/step - loss: 30.6476 - mae: 4.0548\n"
          ],
          "name": "stdout"
        }
      ]
    },
    {
      "cell_type": "code",
      "metadata": {
        "id": "lOpjidgTDIzv"
      },
      "source": [
        "val_mae = history.history['val_mae']\n",
        "val_loss = history.history['val_loss']"
      ],
      "execution_count": 77,
      "outputs": []
    },
    {
      "cell_type": "code",
      "metadata": {
        "colab": {
          "base_uri": "https://localhost:8080/",
          "height": 295
        },
        "id": "wZ9MkHMTDI5M",
        "outputId": "3789d7d3-58a5-4aad-9855-ccf85ea77f31"
      },
      "source": [
        "import matplotlib.pyplot as plt \n",
        "history_dict = history.history\n",
        "loss_values = history_dict['loss']\n",
        "val_loss_values = history_dict['val_loss']\n",
        "epochs = range(200)\n",
        "plt.plot(epochs, loss_values, 'bo', label='Training loss')\n",
        "plt.plot(epochs, val_loss_values, 'b', label='Validation loss')\n",
        "plt.title('Training and validation loss')\n",
        "plt.xlabel('Epochs')\n",
        "plt.ylabel('Loss')\n",
        "plt.legend()\n",
        "plt.show()"
      ],
      "execution_count": 78,
      "outputs": [
        {
          "output_type": "display_data",
          "data": {
            "image/png": "[encoded data removed]",
            "text/plain": [
              "<Figure size 432x288 with 1 Axes>"
            ]
          },
          "metadata": {
            "tags": [],
            "needs_background": "light"
          }
        }
      ]
    },
    {
      "cell_type": "code",
      "metadata": {
        "colab": {
          "base_uri": "https://localhost:8080/",
          "height": 295
        },
        "id": "OlcHVFlCDI_L",
        "outputId": "42ee5c37-7371-4b5a-9cb6-518be3ea6d21"
      },
      "source": [
        "acc_values = history_dict['mae']\n",
        "val_acc_values = history_dict['val_mae']\n",
        "plt.plot(epochs, acc_values, 'bo', label='Training mae')\n",
        "plt.plot(epochs, val_acc_values, 'b', label='Validation mae')\n",
        "plt.title('Training and validation accuracy')\n",
        "plt.xlabel('Epochs')\n",
        "plt.ylabel('mae')\n",
        "plt.legend()\n",
        "plt.show()"
      ],
      "execution_count": 82,
      "outputs": [
        {
          "output_type": "display_data",
          "data": {
            "image/png": "[encoded data removed]",
            "text/plain": [
              "<Figure size 432x288 with 1 Axes>"
            ]
          },
          "metadata": {
            "tags": [],
            "needs_background": "light"
          }
        }
      ]
    },
    {
      "cell_type": "code",
      "metadata": {
        "id": "fJGc7kv6DJEe"
      },
      "source": [
        "y_pred = network.predict(X_test)"
      ],
      "execution_count": 80,
      "outputs": []
    },
    {
      "cell_type": "code",
      "metadata": {
        "id": "rablyJkRfxhc"
      },
      "source": [
        "y_pred = y_pred.reshape(y_pred.shape[0])"
      ],
      "execution_count": 81,
      "outputs": []
    },
    {
      "cell_type": "code",
      "metadata": {
        "colab": {
          "base_uri": "https://localhost:8080/"
        },
        "id": "kSmhqhV3o9in",
        "outputId": "9beea213-bbd0-45f4-d085-25602c6fc612"
      },
      "source": [
        "y_pred"
      ],
      "execution_count": 83,
      "outputs": [
        {
          "output_type": "execute_result",
          "data": {
            "text/plain": [
              "array([39.062614 , 42.40747  , 34.64309  , 33.269424 , 33.82796  ,\n",
              "       33.692978 , 45.474525 , 35.547028 , 46.401585 , 14.437295 ,\n",
              "       42.403076 , 44.80526  , 46.61467  , 47.79957  , 46.69199  ,\n",
              "       46.788506 , 30.588623 , 33.666573 , 72.375786 , 37.38772  ,\n",
              "       48.37667  , 39.172478 , 30.42693  , 31.707542 , 30.42693  ,\n",
              "       27.113068 , 42.684776 , 52.87516  , 35.740158 , 35.17879  ,\n",
              "       35.740158 , 35.740158 , 50.10932  , 46.57352  , 58.6785   ,\n",
              "       66.141884 , 60.36567  , 65.62812  , 71.864586 , 66.141884 ,\n",
              "       71.51578  , 67.89259  , 60.52102  , 61.122143 , 60.52102  ,\n",
              "       60.52102  , 74.14803  , 64.11452  , 66.27471  , 73.68696  ,\n",
              "       67.519394 , 66.190605 , 27.274345 , 31.715448 , 36.113194 ,\n",
              "       10.697575 , 36.13967  , 39.63894  , 24.698208 , 31.61132  ,\n",
              "       37.435867 , 35.803726 , 19.638067 , 40.19584  , 15.844634 ,\n",
              "       26.822044 ,  8.570161 , 14.020829 , 41.382305 ,  8.220075 ,\n",
              "       35.258003 , 33.671814 , 40.073784 , 23.973171 , 39.483383 ,\n",
              "       12.931914 , 40.622894 , 25.66972  , 32.3815   , 29.787262 ,\n",
              "       19.831837 , 44.882084 , 30.756788 , 44.032158 , 20.88843  ,\n",
              "       33.485687 , 49.097702 , 31.31941  , 17.551212 , 41.374992 ,\n",
              "       47.145813 , 50.154984 , 18.79133  , 31.357231 , 52.584724 ,\n",
              "       22.625313 , 37.219604 , 43.36937  , 48.198868 , 33.118156 ,\n",
              "       49.218243 , 66.88078  , 66.12236  , 20.450783 , 35.52919  ,\n",
              "       13.829779 , 27.733616 , 35.166664 , 36.92433  , 69.205864 ,\n",
              "       50.757    , 53.9373   , 39.553627 , 38.32036  , 39.913162 ,\n",
              "       50.87799  , 56.540833 , 17.941654 , 17.826319 , 14.601312 ,\n",
              "       19.627434 , 19.091354 , 15.2      , 18.775558 , 28.848629 ,\n",
              "       29.360992 , 30.856972 , 24.945246 , 22.07648  , 40.566917 ,\n",
              "       40.6241   , 39.33641  , 24.584232 , 32.21197  , 41.987488 ,\n",
              "       47.250854 , 35.927147 , 53.183212 , 48.31123  , 52.602    ,\n",
              "       55.630905 , 39.56925  , 54.422737 , 54.422737 , 54.422737 ,\n",
              "       36.851135 , 42.555138 , 57.128216 , 58.163452 , 52.41768  ,\n",
              "       36.11131  , 35.767097 , 39.751427 , 60.397015 , 60.393436 ,\n",
              "       54.147835 , 41.19332  , 62.408142 , 36.100292 , 62.405243 ,\n",
              "       58.987915 , 38.46035  , 25.197535 , 12.008716 , 38.43288  ,\n",
              "       69.235855 , 43.015167 , 45.159706 , 52.203705 , 31.6693   ,\n",
              "       13.894221 , 10.132541 , 27.6773   , 13.989539 , 40.029312 ,\n",
              "       24.534504 , 10.23618  , 40.62439  ,  6.4902163, 15.9259205,\n",
              "       18.785004 , 19.836388 , 18.997131 ,  6.295896 , 33.88507  ,\n",
              "        6.328729 , 29.59119  , 35.266308 , 25.17308  , 22.289326 ,\n",
              "       17.621212 , 23.972313 , 26.760963 , 31.505302 ,  9.344262 ,\n",
              "       14.404786 , 10.461407 , 15.402987 , 17.018501 , 19.190102 ,\n",
              "       13.821201 , 22.54752  , 32.94757  , 36.27078  , 26.592896 ,\n",
              "       37.59382  , 11.772069 ,  5.8741355, 31.058659 , 10.700172 ,\n",
              "        9.089455 , 11.305745 , 26.664398 , 15.965203 , 22.400154 ,\n",
              "       26.717094 , 20.053741 , 34.362503 ,  6.891911 ,  6.795262 ,\n",
              "       48.847134 , 14.346211 , 18.417564 , 12.752473 , 19.911325 ,\n",
              "       43.332916 , 68.75466  , 17.93584  , 28.913086 , 35.604282 ,\n",
              "       21.137375 , 27.382557 , 33.865715 , 33.44477  , 13.647282 ,\n",
              "       22.92964  , 15.969395 , 13.821824 , 22.25589  , 35.63008  ,\n",
              "       58.35643  , 51.360046 , 24.86916  , 10.3905115, 33.146767 ,\n",
              "       31.245026 , 36.868847 , 46.3648   , 56.773216 , 31.896107 ,\n",
              "       24.399559 , 36.36281  , 31.182018 , 35.71264  , 34.139587 ,\n",
              "       35.23117  , 16.438251 , 39.577423 , 65.606346 , 38.84424  ,\n",
              "       35.46355  , 41.276867 , 40.382454 , 32.85954  , 39.957054 ,\n",
              "       39.24819  , 30.014631 , 24.885414 , 28.502832 , 32.427414 ,\n",
              "       38.82341  , 39.12526  , 24.850536 ,  8.0536175, 23.566479 ,\n",
              "       50.231426 , 15.186137 , 39.595837 , 22.44157  , 34.74369  ,\n",
              "       35.99137  , 35.177513 , 31.410824 , 29.995922 , 30.50441  ,\n",
              "       50.926506 , 30.15775  , 32.47727  , 39.0414   , 39.090225 ,\n",
              "       13.625522 , 13.214019 , 26.434029 ,  7.9398293, 20.4222   ,\n",
              "       39.535213 , 39.432247 , 32.886974 , 35.214104 , 47.617447 ,\n",
              "       16.910679 , 51.778397 , 39.09454  , 34.153915 , 39.832687 ,\n",
              "       32.5612   , 43.87474  , 38.93055  , 35.724247 ], dtype=float32)"
            ]
          },
          "metadata": {
            "tags": []
          },
          "execution_count": 83
        }
      ]
    },
    {
      "cell_type": "code",
      "metadata": {
        "colab": {
          "base_uri": "https://localhost:8080/"
        },
        "id": "AuUs5neKo90_",
        "outputId": "8c055faa-11f3-4e3f-d1dc-31f5af031da8"
      },
      "source": [
        "Y_test"
      ],
      "execution_count": 85,
      "outputs": [
        {
          "output_type": "execute_result",
          "data": {
            "text/plain": [
              "array([40.27, 41.05, 45.85, 38.07, 47.81, 39.36, 56.14, 36.25, 41.54,\n",
              "       15.05, 40.76, 46.93, 41.93, 50.95, 54.38, 55.06, 30.28, 40.86,\n",
              "       71.99, 36.3 , 40.2 , 33.4 , 35.3 , 24.4 , 35.3 , 24.1 , 46.8 ,\n",
              "       54.9 , 55.9 , 47.1 , 55.9 , 55.9 , 56.1 , 59.09, 60.29, 71.3 ,\n",
              "       74.7 , 66.  , 74.5 , 71.3 , 63.4 , 64.9 , 64.3 , 60.2 , 64.3 ,\n",
              "       64.3 , 77.3 , 54.9 , 71.7 , 70.7 , 56.5 , 73.3 , 24.89, 29.45,\n",
              "       34.56, 12.45, 33.96, 37.34, 24.9 , 34.2 , 39.61, 35.34, 22.72,\n",
              "       40.39, 25.48, 28.63,  7.75, 17.82, 49.97, 19.93, 39.59, 29.22,\n",
              "       42.35, 26.31, 42.55, 13.33, 44.4 , 31.35, 33.73, 32.66, 21.5 ,\n",
              "       48.67, 31.12, 34.74, 23.14, 41.89, 48.72, 33.36, 15.36, 30.85,\n",
              "       42.03, 51.06, 21.78, 42.29, 56.85, 21.91, 36.99, 47.4 , 51.96,\n",
              "       30.45, 47.71, 66.82, 66.95, 27.42, 35.96, 18.02, 38.6 , 30.22,\n",
              "       36.3 , 57.23, 78.8 , 60.28, 39.38, 44.33, 52.3 , 58.52, 69.84,\n",
              "       19.42, 14.94, 21.29, 23.08, 15.52, 11.98, 16.88, 33.09, 31.81,\n",
              "       33.01, 24.66, 26.2 , 46.39, 39.16, 41.41, 24.85, 27.22, 44.64,\n",
              "       53.46, 39.64, 55.02, 49.99, 56.81, 50.94, 41.16, 57.03, 44.42,\n",
              "       51.02, 35.36, 39.3 , 61.07, 54.77, 46.68, 25.51, 34.77, 41.67,\n",
              "       56.34, 61.46, 44.03, 33.49, 59.59, 29.55, 61.86, 62.05, 40.29,\n",
              "       21.97,  9.85, 43.73, 66.78, 48.85, 43.94, 54.32, 24.4 , 14.6 ,\n",
              "        9.62, 27.94, 17.24, 39.44, 24.07, 13.09, 38.7 ,  7.51, 17.58,\n",
              "       21.18, 22.63, 25.73,  8.  , 37.44, 10.73, 32.04, 38.89, 21.95,\n",
              "       24.1 , 21.26, 25.97, 32.33, 36.15,  7.84, 12.25, 11.17, 17.34,\n",
              "       17.54, 24.5 , 15.58, 26.85, 38.21, 43.7 , 19.54, 43.38,  6.9 ,\n",
              "        4.9 , 25.89, 10.39, 11.39, 15.03, 33.  , 17.28, 24.28, 14.14,\n",
              "       22.35, 43.25,  4.83, 10.35, 51.86, 15.87, 30.96, 14.5 , 22.44,\n",
              "       44.09, 71.62, 18.13, 27.34, 32.72,  6.27, 23.22, 27.92, 39.  ,\n",
              "       13.52, 25.18, 17.54, 14.2 , 21.65, 39.49, 61.92, 51.04, 24.  ,\n",
              "       11.47, 34.68, 38.11, 33.8 , 48.4 , 58.78, 29.59, 21.75, 39.09,\n",
              "       24.39, 36.35, 33.42, 39.05, 15.57, 44.61, 65.91, 33.4 , 40.06,\n",
              "       38.46, 37.26, 35.23, 41.54, 37.91, 28.63, 31.03, 23.84, 26.23,\n",
              "       40.68, 33.72, 23.52, 13.2 , 23.79, 46.23, 15.52, 43.57, 26.92,\n",
              "       29.07, 26.97, 30.65, 30.88, 28.63, 31.42, 40.93, 32.96, 26.23,\n",
              "       38.63, 33.72,  8.54, 13.46, 29.73, 13.2 , 23.74, 35.87, 33.76,\n",
              "       16.5 , 39.06, 45.3 , 15.57, 52.83, 33.4 , 37.36, 37.27, 35.23,\n",
              "       39.46, 37.92, 32.4 ])"
            ]
          },
          "metadata": {
            "tags": []
          },
          "execution_count": 85
        }
      ]
    },
    {
      "cell_type": "code",
      "metadata": {
        "colab": {
          "base_uri": "https://localhost:8080/",
          "height": 286
        },
        "id": "6y6XQMQrpJuU",
        "outputId": "4a466d91-5312-4072-fbbe-33692aed0875"
      },
      "source": [
        "coef = np.polyfit(Y_test,y_pred,1)\n",
        "poly1d_fn = np.poly1d(coef) \n",
        "plt.plot(Y_test,y_pred, 'yo', Y_test, poly1d_fn(Y_test), '--k')\n",
        "plt.xlim(0, 100)\n",
        "plt.ylim(0, 100)"
      ],
      "execution_count": 86,
      "outputs": [
        {
          "output_type": "execute_result",
          "data": {
            "text/plain": [
              "(0.0, 100.0)"
            ]
          },
          "metadata": {
            "tags": []
          },
          "execution_count": 86
        },
        {
          "output_type": "display_data",
          "data": {
            "image/png": "[encoded data removed]",
            "text/plain": [
              "<Figure size 432x288 with 1 Axes>"
            ]
          },
          "metadata": {
            "tags": [],
            "needs_background": "light"
          }
        }
      ]
    }
  ]
}