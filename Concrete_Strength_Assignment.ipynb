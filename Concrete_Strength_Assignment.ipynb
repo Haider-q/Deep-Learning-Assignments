{
  "nbformat": 4,
  "nbformat_minor": 0,
  "metadata": {
    "kernelspec": {
      "display_name": "Python 3",
      "language": "python",
      "name": "python3"
    },
    "language_info": {
      "codemirror_mode": {
        "name": "ipython",
        "version": 3
      },
      "file_extension": ".py",
      "mimetype": "text/x-python",
      "name": "python",
      "nbconvert_exporter": "python",
      "pygments_lexer": "ipython3",
      "version": "3.7.3"
    },
    "colab": {
      "name": "Concrete Strength Assignment.ipynb",
      "provenance": [],
      "collapsed_sections": [],
      "include_colab_link": true
    }
  },
  "cells": [
    {
      "cell_type": "markdown",
      "metadata": {
        "id": "view-in-github",
        "colab_type": "text"
      },
      "source": [
        "<a href=\"https://colab.research.google.com/github/Haider-q/Deep-Learning-Assignments/blob/main/Concrete_Strength_Assignment.ipynb\" target=\"_parent\"><img src=\"https://colab.research.google.com/assets/colab-badge.svg\" alt=\"Open In Colab\"/></a>"
      ]
    },
    {
      "cell_type": "markdown",
      "metadata": {
        "id": "s-P1RRAyT8gZ"
      },
      "source": [
        "# Assignment: Compresive Strength Concrete Problem\n",
        "\n",
        "\n",
        "### Abstract: \n",
        "\n",
        "Concrete is the most important material in civil engineering. The concrete compressive strength (concrete strength to bear the load) is a highly nonlinear function of age and ingredients.  <br><br>\n",
        "\n",
        "<table border=\"1\"  cellpadding=\"6\" bordercolor=\"red\">\n",
        "\t<tbody>\n",
        "        <tr>\n",
        "\t\t<td bgcolor=\"#DDEEFF\"><p class=\"normal\"><b>Data Set Characteristics:&nbsp;&nbsp;</b></p></td>\n",
        "\t\t<td><p class=\"normal\">Multivariate</p></td>\n",
        "\t\t<td bgcolor=\"#DDEEFF\"><p class=\"normal\"><b>Number of Instances:</b></p></td>\n",
        "\t\t<td><p class=\"normal\">1030</p></td>\n",
        "\t\t<td bgcolor=\"#DDEEFF\"><p class=\"normal\"><b>Area:</b></p></td>\n",
        "\t\t<td><p class=\"normal\">Physical</p></td>\n",
        "        </tr>\n",
        "     </tbody>\n",
        "    </table>\n",
        "<table border=\"1\" cellpadding=\"6\">\n",
        "    <tbody>\n",
        "        <tr>\n",
        "            <td bgcolor=\"#DDEEFF\"><p class=\"normal\"><b>Attribute Characteristics:</b></p></td>\n",
        "            <td><p class=\"normal\">Real</p></td>\n",
        "            <td bgcolor=\"#DDEEFF\"><p class=\"normal\"><b>Number of Attributes:</b></p></td>\n",
        "            <td><p class=\"normal\">9</p></td>\n",
        "            <td bgcolor=\"#DDEEFF\"><p class=\"normal\"><b>Date Donated</b></p></td>\n",
        "            <td><p class=\"normal\">2007-08-03</p></td>\n",
        "        </tr>\n",
        "     </tbody>\n",
        "    </table>\n",
        "<table border=\"1\" cellpadding=\"6\">\t\n",
        "    <tbody>\n",
        "    <tr>\n",
        "\t\t<td bgcolor=\"#DDEEFF\"><p class=\"normal\"><b>Associated Tasks:</b></p></td>\n",
        "\t\t<td><p class=\"normal\">Regression</p></td>\n",
        "\t\t<td bgcolor=\"#DDEEFF\"><p class=\"normal\"><b>Missing Values?</b></p></td>\n",
        "\t\t<td><p class=\"normal\">N/A</p></td>\n",
        "\t\t<td bgcolor=\"#DDEEFF\"><p class=\"normal\"><b>Number of Web Hits:</b></p></td>\n",
        "\t\t<td><p class=\"normal\">231464</p></td>\n",
        "\t</tr>\n",
        "    </tbody>\n",
        "    </table>"
      ]
    },
    {
      "cell_type": "markdown",
      "metadata": {
        "id": "b_9qYUmbT8gr"
      },
      "source": [
        "###  Description:\n",
        "| Features Name | Data Type | Measurement | Description |\n",
        "| -- | -- | -- | -- |\n",
        "Cement (component 1) | quantitative | kg in a m3 mixture | Input Variable\n",
        "Blast Furnace Slag (component 2) | quantitative | kg in a m3 mixture | Input Variable\n",
        "Fly Ash (component 3) | quantitative | kg in a m3 mixture | Input Variable\n",
        "Water (component 4) | quantitative | kg in a m3 mixture | Input Variable\n",
        "Superplasticizer (component 5) | quantitative | kg in a m3 mixture | Input Variable\n",
        "Coarse Aggregate (component 6) | quantitative | kg in a m3 mixture | Input Variable\n",
        "Fine Aggregate (component 7) | quantitative | kg in a m3 mixture | Input Variable\n",
        "Age | quantitative | Day (1~365) | Input Variable\n",
        "Concrete compressive strength | quantitative | MPa | Output Variable\n",
        "\n",
        "### WORKFLOW :\n",
        "- Load Data\n",
        "- Check Missing Values ( If Exist ; Fill each record with mean of its feature )\n",
        "- Standardized the Input Variables. **Hint**: Centeralized the data\n",
        "- Split into 50% Training(Samples,Labels) , 30% Test(Samples,Labels) and 20% Validation Data(Samples,Labels).\n",
        "- Model : input Layer (No. of features ), 3 hidden layers including 10,8,6 unit & Output Layer with activation function relu/tanh (check by experiment).\n",
        "- Compilation Step (Note : Its a Regression problem , select loss , metrics according to it)\n",
        "- Train the Model with Epochs (100) and validate it\n",
        "- If the model gets overfit tune your model by changing the units , No. of layers , activation function , epochs , add dropout layer or add Regularizer according to the need .\n",
        "- Evaluation Step\n",
        "- Prediction\n"
      ]
    },
    {
      "cell_type": "code",
      "metadata": {
        "colab": {
          "base_uri": "https://localhost:8080/"
        },
        "id": "9ROTlpqdT8gv",
        "outputId": "38d755fe-7545-44cf-c571-aa1ab62410a5"
      },
      "source": [
        "from google.colab import drive\n",
        "drive.mount('/content/drive')"
      ],
      "execution_count": 1,
      "outputs": [
        {
          "output_type": "stream",
          "text": [
            "Mounted at /content/drive\n"
          ],
          "name": "stdout"
        }
      ]
    },
    {
      "cell_type": "markdown",
      "metadata": {
        "id": "aGSU7FhkT8gu"
      },
      "source": [
        "# Load Data:\n",
        "[Click Here to Download DataSet](https://github.com/ramsha275/ML_Datasets/blob/main/compresive_strength_concrete.csv)"
      ]
    },
    {
      "cell_type": "code",
      "metadata": {
        "id": "1k7CMSotfwyb"
      },
      "source": [
        "import pandas as pd\n",
        "import numpy as np\n",
        "import matplotlib.pyplot as plt\n",
        "import tensorflow as tf\n",
        "from tensorflow.keras import layers as L\n",
        "from tensorflow.keras import models as M\n",
        "\n",
        "data = pd.read_csv(\"/content/compresive_strength_concrete.txt\")"
      ],
      "execution_count": 4,
      "outputs": []
    },
    {
      "cell_type": "code",
      "metadata": {
        "colab": {
          "base_uri": "https://localhost:8080/"
        },
        "id": "VHgDFi5-fw25",
        "outputId": "fd574177-e98c-415d-f130-57fd272d5c30"
      },
      "source": [
        "data.shape"
      ],
      "execution_count": 5,
      "outputs": [
        {
          "output_type": "execute_result",
          "data": {
            "text/plain": [
              "(1030, 9)"
            ]
          },
          "metadata": {
            "tags": []
          },
          "execution_count": 5
        }
      ]
    },
    {
      "cell_type": "code",
      "metadata": {
        "colab": {
          "base_uri": "https://localhost:8080/",
          "height": 246
        },
        "id": "9wow1kYAfw6Z",
        "outputId": "7b48e74d-44a1-440a-c877-eb174b98b19c"
      },
      "source": [
        "data.head()"
      ],
      "execution_count": 6,
      "outputs": [
        {
          "output_type": "execute_result",
          "data": {
            "text/html": [
              "<div>\n",
              "<style scoped>\n",
              "    .dataframe tbody tr th:only-of-type {\n",
              "        vertical-align: middle;\n",
              "    }\n",
              "\n",
              "    .dataframe tbody tr th {\n",
              "        vertical-align: top;\n",
              "    }\n",
              "\n",
              "    .dataframe thead th {\n",
              "        text-align: right;\n",
              "    }\n",
              "</style>\n",
              "<table border=\"1\" class=\"dataframe\">\n",
              "  <thead>\n",
              "    <tr style=\"text-align: right;\">\n",
              "      <th></th>\n",
              "      <th>Cement (component 1)(kg in a m^3 mixture)</th>\n",
              "      <th>Blast Furnace Slag (component 2)(kg in a m^3 mixture)</th>\n",
              "      <th>Fly Ash (component 3)(kg in a m^3 mixture)</th>\n",
              "      <th>Water  (component 4)(kg in a m^3 mixture)</th>\n",
              "      <th>Superplasticizer (component 5)(kg in a m^3 mixture)</th>\n",
              "      <th>Coarse Aggregate  (component 6)(kg in a m^3 mixture)</th>\n",
              "      <th>Fine Aggregate (component 7)(kg in a m^3 mixture)</th>\n",
              "      <th>Age (day)</th>\n",
              "      <th>Concrete compressive strength(MPa, megapascals)</th>\n",
              "    </tr>\n",
              "  </thead>\n",
              "  <tbody>\n",
              "    <tr>\n",
              "      <th>0</th>\n",
              "      <td>540.0</td>\n",
              "      <td>0.0</td>\n",
              "      <td>0.0</td>\n",
              "      <td>162.0</td>\n",
              "      <td>2.5</td>\n",
              "      <td>1040.0</td>\n",
              "      <td>676.0</td>\n",
              "      <td>28</td>\n",
              "      <td>79.99</td>\n",
              "    </tr>\n",
              "    <tr>\n",
              "      <th>1</th>\n",
              "      <td>540.0</td>\n",
              "      <td>0.0</td>\n",
              "      <td>0.0</td>\n",
              "      <td>162.0</td>\n",
              "      <td>2.5</td>\n",
              "      <td>1055.0</td>\n",
              "      <td>676.0</td>\n",
              "      <td>28</td>\n",
              "      <td>61.89</td>\n",
              "    </tr>\n",
              "    <tr>\n",
              "      <th>2</th>\n",
              "      <td>332.5</td>\n",
              "      <td>142.5</td>\n",
              "      <td>0.0</td>\n",
              "      <td>228.0</td>\n",
              "      <td>0.0</td>\n",
              "      <td>932.0</td>\n",
              "      <td>594.0</td>\n",
              "      <td>270</td>\n",
              "      <td>40.27</td>\n",
              "    </tr>\n",
              "    <tr>\n",
              "      <th>3</th>\n",
              "      <td>332.5</td>\n",
              "      <td>142.5</td>\n",
              "      <td>0.0</td>\n",
              "      <td>228.0</td>\n",
              "      <td>0.0</td>\n",
              "      <td>932.0</td>\n",
              "      <td>594.0</td>\n",
              "      <td>365</td>\n",
              "      <td>41.05</td>\n",
              "    </tr>\n",
              "    <tr>\n",
              "      <th>4</th>\n",
              "      <td>198.6</td>\n",
              "      <td>132.4</td>\n",
              "      <td>0.0</td>\n",
              "      <td>192.0</td>\n",
              "      <td>0.0</td>\n",
              "      <td>978.4</td>\n",
              "      <td>825.5</td>\n",
              "      <td>360</td>\n",
              "      <td>44.30</td>\n",
              "    </tr>\n",
              "  </tbody>\n",
              "</table>\n",
              "</div>"
            ],
            "text/plain": [
              "   Cement (component 1)(kg in a m^3 mixture)  ...  Concrete compressive strength(MPa, megapascals) \n",
              "0                                      540.0  ...                                             79.99\n",
              "1                                      540.0  ...                                             61.89\n",
              "2                                      332.5  ...                                             40.27\n",
              "3                                      332.5  ...                                             41.05\n",
              "4                                      198.6  ...                                             44.30\n",
              "\n",
              "[5 rows x 9 columns]"
            ]
          },
          "metadata": {
            "tags": []
          },
          "execution_count": 6
        }
      ]
    },
    {
      "cell_type": "code",
      "metadata": {
        "id": "eSFb4DA9azyB"
      },
      "source": [
        "data = data.rename(columns= {'Cement (component 1)(kg in a m^3 mixture)' : 'cement',\n",
        "       'Blast Furnace Slag (component 2)(kg in a m^3 mixture)':'slag',\n",
        "       'Fly Ash (component 3)(kg in a m^3 mixture)': 'ash',\n",
        "       'Water  (component 4)(kg in a m^3 mixture)': 'water',\n",
        "       'Superplasticizer (component 5)(kg in a m^3 mixture)': 'superplastic',\n",
        "       'Coarse Aggregate  (component 6)(kg in a m^3 mixture)': 'coarseagg',\n",
        "       'Fine Aggregate (component 7)(kg in a m^3 mixture)': 'fineagg', 'Age (day)': 'age',\n",
        "       'Concrete compressive strength(MPa, megapascals) ': 'strength'})"
      ],
      "execution_count": 7,
      "outputs": []
    },
    {
      "cell_type": "code",
      "metadata": {
        "colab": {
          "base_uri": "https://localhost:8080/"
        },
        "id": "s1Bb-yc4fw-P",
        "outputId": "ffe464c5-7b21-4c93-ae8f-140991a601c2"
      },
      "source": [
        "data.columns"
      ],
      "execution_count": 8,
      "outputs": [
        {
          "output_type": "execute_result",
          "data": {
            "text/plain": [
              "Index(['cement', 'slag', 'ash', 'water', 'superplastic', 'coarseagg',\n",
              "       'fineagg', 'age', 'strength'],\n",
              "      dtype='object')"
            ]
          },
          "metadata": {
            "tags": []
          },
          "execution_count": 8
        }
      ]
    },
    {
      "cell_type": "markdown",
      "metadata": {
        "id": "wG-ZW6nSeYgv"
      },
      "source": [
        "# Check Missing Values ( If Exist ; Fill each record with mean of its feature )"
      ]
    },
    {
      "cell_type": "code",
      "metadata": {
        "colab": {
          "base_uri": "https://localhost:8080/"
        },
        "id": "9w7FIy_cfxCL",
        "outputId": "14c08e52-56c9-4bae-93c4-db5a0780e8b8"
      },
      "source": [
        "data.isnull().sum()"
      ],
      "execution_count": 9,
      "outputs": [
        {
          "output_type": "execute_result",
          "data": {
            "text/plain": [
              "cement          0\n",
              "slag            0\n",
              "ash             0\n",
              "water           0\n",
              "superplastic    0\n",
              "coarseagg       0\n",
              "fineagg         0\n",
              "age             0\n",
              "strength        0\n",
              "dtype: int64"
            ]
          },
          "metadata": {
            "tags": []
          },
          "execution_count": 9
        }
      ]
    },
    {
      "cell_type": "code",
      "metadata": {
        "colab": {
          "base_uri": "https://localhost:8080/"
        },
        "id": "PRr9Vu_OfxGa",
        "outputId": "faec69a7-6ae4-4d12-9f33-4d4f03cc17bb"
      },
      "source": [
        "np.where(data.applymap(lambda x: x == ''))"
      ],
      "execution_count": 10,
      "outputs": [
        {
          "output_type": "execute_result",
          "data": {
            "text/plain": [
              "(array([], dtype=int64), array([], dtype=int64))"
            ]
          },
          "metadata": {
            "tags": []
          },
          "execution_count": 10
        }
      ]
    },
    {
      "cell_type": "code",
      "metadata": {
        "colab": {
          "base_uri": "https://localhost:8080/",
          "height": 284
        },
        "id": "JRNexnFPedkk",
        "outputId": "29933ac1-862f-4935-f1f9-f7d2b6833669"
      },
      "source": [
        "data.describe()"
      ],
      "execution_count": 11,
      "outputs": [
        {
          "output_type": "execute_result",
          "data": {
            "text/html": [
              "<div>\n",
              "<style scoped>\n",
              "    .dataframe tbody tr th:only-of-type {\n",
              "        vertical-align: middle;\n",
              "    }\n",
              "\n",
              "    .dataframe tbody tr th {\n",
              "        vertical-align: top;\n",
              "    }\n",
              "\n",
              "    .dataframe thead th {\n",
              "        text-align: right;\n",
              "    }\n",
              "</style>\n",
              "<table border=\"1\" class=\"dataframe\">\n",
              "  <thead>\n",
              "    <tr style=\"text-align: right;\">\n",
              "      <th></th>\n",
              "      <th>cement</th>\n",
              "      <th>slag</th>\n",
              "      <th>ash</th>\n",
              "      <th>water</th>\n",
              "      <th>superplastic</th>\n",
              "      <th>coarseagg</th>\n",
              "      <th>fineagg</th>\n",
              "      <th>age</th>\n",
              "      <th>strength</th>\n",
              "    </tr>\n",
              "  </thead>\n",
              "  <tbody>\n",
              "    <tr>\n",
              "      <th>count</th>\n",
              "      <td>1030.000000</td>\n",
              "      <td>1030.000000</td>\n",
              "      <td>1030.000000</td>\n",
              "      <td>1030.000000</td>\n",
              "      <td>1030.000000</td>\n",
              "      <td>1030.000000</td>\n",
              "      <td>1030.000000</td>\n",
              "      <td>1030.000000</td>\n",
              "      <td>1030.000000</td>\n",
              "    </tr>\n",
              "    <tr>\n",
              "      <th>mean</th>\n",
              "      <td>281.167864</td>\n",
              "      <td>73.895825</td>\n",
              "      <td>54.188350</td>\n",
              "      <td>181.567282</td>\n",
              "      <td>6.204660</td>\n",
              "      <td>972.918932</td>\n",
              "      <td>773.580485</td>\n",
              "      <td>45.662136</td>\n",
              "      <td>35.817961</td>\n",
              "    </tr>\n",
              "    <tr>\n",
              "      <th>std</th>\n",
              "      <td>104.506364</td>\n",
              "      <td>86.279342</td>\n",
              "      <td>63.997004</td>\n",
              "      <td>21.354219</td>\n",
              "      <td>5.973841</td>\n",
              "      <td>77.753954</td>\n",
              "      <td>80.175980</td>\n",
              "      <td>63.169912</td>\n",
              "      <td>16.705742</td>\n",
              "    </tr>\n",
              "    <tr>\n",
              "      <th>min</th>\n",
              "      <td>102.000000</td>\n",
              "      <td>0.000000</td>\n",
              "      <td>0.000000</td>\n",
              "      <td>121.800000</td>\n",
              "      <td>0.000000</td>\n",
              "      <td>801.000000</td>\n",
              "      <td>594.000000</td>\n",
              "      <td>1.000000</td>\n",
              "      <td>2.330000</td>\n",
              "    </tr>\n",
              "    <tr>\n",
              "      <th>25%</th>\n",
              "      <td>192.375000</td>\n",
              "      <td>0.000000</td>\n",
              "      <td>0.000000</td>\n",
              "      <td>164.900000</td>\n",
              "      <td>0.000000</td>\n",
              "      <td>932.000000</td>\n",
              "      <td>730.950000</td>\n",
              "      <td>7.000000</td>\n",
              "      <td>23.710000</td>\n",
              "    </tr>\n",
              "    <tr>\n",
              "      <th>50%</th>\n",
              "      <td>272.900000</td>\n",
              "      <td>22.000000</td>\n",
              "      <td>0.000000</td>\n",
              "      <td>185.000000</td>\n",
              "      <td>6.400000</td>\n",
              "      <td>968.000000</td>\n",
              "      <td>779.500000</td>\n",
              "      <td>28.000000</td>\n",
              "      <td>34.445000</td>\n",
              "    </tr>\n",
              "    <tr>\n",
              "      <th>75%</th>\n",
              "      <td>350.000000</td>\n",
              "      <td>142.950000</td>\n",
              "      <td>118.300000</td>\n",
              "      <td>192.000000</td>\n",
              "      <td>10.200000</td>\n",
              "      <td>1029.400000</td>\n",
              "      <td>824.000000</td>\n",
              "      <td>56.000000</td>\n",
              "      <td>46.135000</td>\n",
              "    </tr>\n",
              "    <tr>\n",
              "      <th>max</th>\n",
              "      <td>540.000000</td>\n",
              "      <td>359.400000</td>\n",
              "      <td>200.100000</td>\n",
              "      <td>247.000000</td>\n",
              "      <td>32.200000</td>\n",
              "      <td>1145.000000</td>\n",
              "      <td>992.600000</td>\n",
              "      <td>365.000000</td>\n",
              "      <td>82.600000</td>\n",
              "    </tr>\n",
              "  </tbody>\n",
              "</table>\n",
              "</div>"
            ],
            "text/plain": [
              "            cement         slag  ...          age     strength\n",
              "count  1030.000000  1030.000000  ...  1030.000000  1030.000000\n",
              "mean    281.167864    73.895825  ...    45.662136    35.817961\n",
              "std     104.506364    86.279342  ...    63.169912    16.705742\n",
              "min     102.000000     0.000000  ...     1.000000     2.330000\n",
              "25%     192.375000     0.000000  ...     7.000000    23.710000\n",
              "50%     272.900000    22.000000  ...    28.000000    34.445000\n",
              "75%     350.000000   142.950000  ...    56.000000    46.135000\n",
              "max     540.000000   359.400000  ...   365.000000    82.600000\n",
              "\n",
              "[8 rows x 9 columns]"
            ]
          },
          "metadata": {
            "tags": []
          },
          "execution_count": 11
        }
      ]
    },
    {
      "cell_type": "code",
      "metadata": {
        "colab": {
          "base_uri": "https://localhost:8080/"
        },
        "id": "K_l39nRqfxJk",
        "outputId": "7a093666-06e3-4e9c-814b-cda0ef90fc55"
      },
      "source": [
        "data.empty"
      ],
      "execution_count": 12,
      "outputs": [
        {
          "output_type": "execute_result",
          "data": {
            "text/plain": [
              "False"
            ]
          },
          "metadata": {
            "tags": []
          },
          "execution_count": 12
        }
      ]
    },
    {
      "cell_type": "code",
      "metadata": {
        "id": "AYrE_rKDfxN4"
      },
      "source": [
        "X_train = data.sample(frac = 0.7, random_state = 123)\n",
        "X_test = data.drop(X_train.index)"
      ],
      "execution_count": 14,
      "outputs": []
    },
    {
      "cell_type": "code",
      "metadata": {
        "colab": {
          "base_uri": "https://localhost:8080/"
        },
        "id": "CV90wc80fxV2",
        "outputId": "de7d4db2-8e6f-4300-ab78-e0448af60994"
      },
      "source": [
        "data.info()"
      ],
      "execution_count": 15,
      "outputs": [
        {
          "output_type": "stream",
          "text": [
            "<class 'pandas.core.frame.DataFrame'>\n",
            "RangeIndex: 1030 entries, 0 to 1029\n",
            "Data columns (total 9 columns):\n",
            " #   Column        Non-Null Count  Dtype  \n",
            "---  ------        --------------  -----  \n",
            " 0   cement        1030 non-null   float64\n",
            " 1   slag          1030 non-null   float64\n",
            " 2   ash           1030 non-null   float64\n",
            " 3   water         1030 non-null   float64\n",
            " 4   superplastic  1030 non-null   float64\n",
            " 5   coarseagg     1030 non-null   float64\n",
            " 6   fineagg       1030 non-null   float64\n",
            " 7   age           1030 non-null   int64  \n",
            " 8   strength      1030 non-null   float64\n",
            "dtypes: float64(8), int64(1)\n",
            "memory usage: 72.5 KB\n"
          ],
          "name": "stdout"
        }
      ]
    },
    {
      "cell_type": "code",
      "metadata": {
        "id": "Q8_TfsBwfxZk"
      },
      "source": [
        "Y_train = X_train.iloc[:,-1]\n",
        "X_train = X_train.iloc[:,0:-1]\n",
        "Y_test = X_test.iloc[:,-1]\n",
        "X_test = X_test.iloc[:,0:-1]\n",
        "X_mean = X_train.mean()\n",
        "X_train -= X_mean\n",
        "X_std = X_train.std()\n",
        "X_train /= X_std\n",
        "X_test -= X_mean\n",
        "X_test /= X_std"
      ],
      "execution_count": 16,
      "outputs": []
    },
    {
      "cell_type": "code",
      "metadata": {
        "id": "OOlt_jonfxdR"
      },
      "source": [
        "X_train = X_train.to_numpy()\n",
        "Y_train = Y_train.to_numpy()\n",
        "X_test = X_test.to_numpy()\n",
        "Y_test = Y_test.to_numpy()"
      ],
      "execution_count": 17,
      "outputs": []
    },
    {
      "cell_type": "code",
      "metadata": {
        "colab": {
          "base_uri": "https://localhost:8080/"
        },
        "id": "Io9QV0pTDIlW",
        "outputId": "86edbe1e-ff08-4e9c-9ae2-10b43f807369"
      },
      "source": [
        "network = M.Sequential()\n",
        "network.add(L.Dense(128,activation=\"relu\",input_shape=(X_train.shape[1],)))\n",
        "network.add(L.Dense(64,activation=\"relu\"))\n",
        "network.add(L.Dense(32,activation=\"relu\"))\n",
        "network.add(L.Dense(1))\n",
        "network.compile(optimizer=\"rmsprop\",loss=[\"mse\"],metrics=[\"mae\"])\n",
        "history = network.fit(X_train,Y_train,epochs=200,validation_split=0.3, batch_size = 16)"
      ],
      "execution_count": 18,
      "outputs": [
        {
          "output_type": "stream",
          "text": [
            "Epoch 1/200\n",
            "32/32 [==============================] - 1s 8ms/step - loss: 1323.5686 - mae: 32.0316 - val_loss: 379.9388 - val_mae: 15.4005\n",
            "Epoch 2/200\n",
            "32/32 [==============================] - 0s 2ms/step - loss: 327.8917 - mae: 14.6831 - val_loss: 212.6792 - val_mae: 12.0787\n",
            "Epoch 3/200\n",
            "32/32 [==============================] - 0s 2ms/step - loss: 220.5534 - mae: 12.1657 - val_loss: 191.4441 - val_mae: 11.4419\n",
            "Epoch 4/200\n",
            "32/32 [==============================] - 0s 2ms/step - loss: 199.5403 - mae: 11.5737 - val_loss: 174.2063 - val_mae: 10.9264\n",
            "Epoch 5/200\n",
            "32/32 [==============================] - 0s 2ms/step - loss: 176.7188 - mae: 10.8749 - val_loss: 163.0828 - val_mae: 10.5727\n",
            "Epoch 6/200\n",
            "32/32 [==============================] - 0s 2ms/step - loss: 155.4338 - mae: 10.0719 - val_loss: 160.5999 - val_mae: 10.4407\n",
            "Epoch 7/200\n",
            "32/32 [==============================] - 0s 3ms/step - loss: 152.4389 - mae: 10.1833 - val_loss: 151.7765 - val_mae: 10.1725\n",
            "Epoch 8/200\n",
            "32/32 [==============================] - 0s 2ms/step - loss: 144.4522 - mae: 9.7675 - val_loss: 147.2437 - val_mae: 9.9709\n",
            "Epoch 9/200\n",
            "32/32 [==============================] - 0s 2ms/step - loss: 153.7087 - mae: 10.1256 - val_loss: 146.1425 - val_mae: 9.7698\n",
            "Epoch 10/200\n",
            "32/32 [==============================] - 0s 2ms/step - loss: 124.1905 - mae: 8.9948 - val_loss: 132.8263 - val_mae: 9.2628\n",
            "Epoch 11/200\n",
            "32/32 [==============================] - 0s 2ms/step - loss: 122.5901 - mae: 9.1558 - val_loss: 134.7967 - val_mae: 9.4511\n",
            "Epoch 12/200\n",
            "32/32 [==============================] - 0s 2ms/step - loss: 104.8137 - mae: 8.4768 - val_loss: 120.9776 - val_mae: 8.8948\n",
            "Epoch 13/200\n",
            "32/32 [==============================] - 0s 3ms/step - loss: 107.3781 - mae: 8.5157 - val_loss: 122.7273 - val_mae: 8.8445\n",
            "Epoch 14/200\n",
            "32/32 [==============================] - 0s 2ms/step - loss: 97.9676 - mae: 8.0345 - val_loss: 112.1292 - val_mae: 8.5301\n",
            "Epoch 15/200\n",
            "32/32 [==============================] - 0s 2ms/step - loss: 89.1191 - mae: 7.7030 - val_loss: 103.1874 - val_mae: 7.9598\n",
            "Epoch 16/200\n",
            "32/32 [==============================] - 0s 2ms/step - loss: 85.4496 - mae: 7.5153 - val_loss: 103.0950 - val_mae: 8.0778\n",
            "Epoch 17/200\n",
            "32/32 [==============================] - 0s 2ms/step - loss: 84.5742 - mae: 7.5328 - val_loss: 107.6166 - val_mae: 8.2145\n",
            "Epoch 18/200\n",
            "32/32 [==============================] - 0s 2ms/step - loss: 73.8841 - mae: 6.9825 - val_loss: 99.9364 - val_mae: 7.8497\n",
            "Epoch 19/200\n",
            "32/32 [==============================] - 0s 2ms/step - loss: 67.5901 - mae: 6.5108 - val_loss: 93.0351 - val_mae: 7.4522\n",
            "Epoch 20/200\n",
            "32/32 [==============================] - 0s 2ms/step - loss: 67.6178 - mae: 6.5187 - val_loss: 87.3350 - val_mae: 7.3330\n",
            "Epoch 21/200\n",
            "32/32 [==============================] - 0s 3ms/step - loss: 59.9365 - mae: 6.1688 - val_loss: 87.9158 - val_mae: 7.0312\n",
            "Epoch 22/200\n",
            "32/32 [==============================] - 0s 2ms/step - loss: 55.9625 - mae: 5.9938 - val_loss: 82.0832 - val_mae: 6.9192\n",
            "Epoch 23/200\n",
            "32/32 [==============================] - 0s 2ms/step - loss: 48.2474 - mae: 5.4355 - val_loss: 81.8396 - val_mae: 6.7136\n",
            "Epoch 24/200\n",
            "32/32 [==============================] - 0s 3ms/step - loss: 48.9877 - mae: 5.4565 - val_loss: 76.7691 - val_mae: 6.6280\n",
            "Epoch 25/200\n",
            "32/32 [==============================] - 0s 3ms/step - loss: 52.1496 - mae: 5.7622 - val_loss: 77.2047 - val_mae: 6.5596\n",
            "Epoch 26/200\n",
            "32/32 [==============================] - 0s 2ms/step - loss: 48.8832 - mae: 5.4443 - val_loss: 76.2259 - val_mae: 6.4657\n",
            "Epoch 27/200\n",
            "32/32 [==============================] - 0s 3ms/step - loss: 42.9675 - mae: 5.0824 - val_loss: 70.4236 - val_mae: 6.4153\n",
            "Epoch 28/200\n",
            "32/32 [==============================] - 0s 2ms/step - loss: 39.4418 - mae: 4.8402 - val_loss: 77.3211 - val_mae: 6.5365\n",
            "Epoch 29/200\n",
            "32/32 [==============================] - 0s 2ms/step - loss: 45.5620 - mae: 5.2820 - val_loss: 66.7809 - val_mae: 6.1654\n",
            "Epoch 30/200\n",
            "32/32 [==============================] - 0s 2ms/step - loss: 37.0237 - mae: 4.6818 - val_loss: 67.2415 - val_mae: 6.0849\n",
            "Epoch 31/200\n",
            "32/32 [==============================] - 0s 2ms/step - loss: 39.0946 - mae: 4.8809 - val_loss: 67.7852 - val_mae: 6.2444\n",
            "Epoch 32/200\n",
            "32/32 [==============================] - 0s 2ms/step - loss: 36.6088 - mae: 4.7777 - val_loss: 77.6564 - val_mae: 6.5090\n",
            "Epoch 33/200\n",
            "32/32 [==============================] - 0s 2ms/step - loss: 39.4149 - mae: 4.8469 - val_loss: 62.4304 - val_mae: 5.9564\n",
            "Epoch 34/200\n",
            "32/32 [==============================] - 0s 2ms/step - loss: 36.7390 - mae: 4.6146 - val_loss: 59.1497 - val_mae: 5.7059\n",
            "Epoch 35/200\n",
            "32/32 [==============================] - 0s 2ms/step - loss: 38.7287 - mae: 4.8166 - val_loss: 58.7413 - val_mae: 5.5826\n",
            "Epoch 36/200\n",
            "32/32 [==============================] - 0s 2ms/step - loss: 33.7694 - mae: 4.4275 - val_loss: 56.7937 - val_mae: 5.6458\n",
            "Epoch 37/200\n",
            "32/32 [==============================] - 0s 2ms/step - loss: 32.6459 - mae: 4.4352 - val_loss: 57.9430 - val_mae: 5.5823\n",
            "Epoch 38/200\n",
            "32/32 [==============================] - 0s 2ms/step - loss: 32.6893 - mae: 4.3353 - val_loss: 57.9766 - val_mae: 5.5874\n",
            "Epoch 39/200\n",
            "32/32 [==============================] - 0s 2ms/step - loss: 31.5865 - mae: 4.2356 - val_loss: 70.6978 - val_mae: 6.1131\n",
            "Epoch 40/200\n",
            "32/32 [==============================] - 0s 2ms/step - loss: 29.1985 - mae: 4.2044 - val_loss: 64.4798 - val_mae: 6.1849\n",
            "Epoch 41/200\n",
            "32/32 [==============================] - 0s 2ms/step - loss: 31.8140 - mae: 4.3624 - val_loss: 53.0075 - val_mae: 5.4513\n",
            "Epoch 42/200\n",
            "32/32 [==============================] - 0s 2ms/step - loss: 23.3896 - mae: 3.7479 - val_loss: 52.0265 - val_mae: 5.3323\n",
            "Epoch 43/200\n",
            "32/32 [==============================] - 0s 2ms/step - loss: 25.9300 - mae: 3.9094 - val_loss: 53.3186 - val_mae: 5.3446\n",
            "Epoch 44/200\n",
            "32/32 [==============================] - 0s 2ms/step - loss: 26.5306 - mae: 3.9406 - val_loss: 53.3197 - val_mae: 5.4631\n",
            "Epoch 45/200\n",
            "32/32 [==============================] - 0s 2ms/step - loss: 31.4248 - mae: 4.3889 - val_loss: 53.8620 - val_mae: 5.4697\n",
            "Epoch 46/200\n",
            "32/32 [==============================] - 0s 2ms/step - loss: 23.9591 - mae: 3.8399 - val_loss: 52.2220 - val_mae: 5.4003\n",
            "Epoch 47/200\n",
            "32/32 [==============================] - 0s 2ms/step - loss: 22.0500 - mae: 3.5497 - val_loss: 56.1056 - val_mae: 5.4069\n",
            "Epoch 48/200\n",
            "32/32 [==============================] - 0s 2ms/step - loss: 24.6790 - mae: 3.8159 - val_loss: 49.2215 - val_mae: 5.2416\n",
            "Epoch 49/200\n",
            "32/32 [==============================] - 0s 2ms/step - loss: 26.3588 - mae: 3.8688 - val_loss: 50.6973 - val_mae: 5.1267\n",
            "Epoch 50/200\n",
            "32/32 [==============================] - 0s 2ms/step - loss: 22.5266 - mae: 3.5914 - val_loss: 49.1805 - val_mae: 5.2229\n",
            "Epoch 51/200\n",
            "32/32 [==============================] - 0s 2ms/step - loss: 24.4226 - mae: 3.8340 - val_loss: 50.8929 - val_mae: 5.1759\n",
            "Epoch 52/200\n",
            "32/32 [==============================] - 0s 2ms/step - loss: 22.8379 - mae: 3.5739 - val_loss: 48.9078 - val_mae: 5.0821\n",
            "Epoch 53/200\n",
            "32/32 [==============================] - 0s 2ms/step - loss: 20.2665 - mae: 3.5579 - val_loss: 48.2173 - val_mae: 5.1233\n",
            "Epoch 54/200\n",
            "32/32 [==============================] - 0s 2ms/step - loss: 23.8211 - mae: 3.7588 - val_loss: 46.7065 - val_mae: 5.0609\n",
            "Epoch 55/200\n",
            "32/32 [==============================] - 0s 2ms/step - loss: 23.1161 - mae: 3.6768 - val_loss: 48.7546 - val_mae: 5.0336\n",
            "Epoch 56/200\n",
            "32/32 [==============================] - 0s 2ms/step - loss: 22.3907 - mae: 3.6582 - val_loss: 46.2240 - val_mae: 5.0470\n",
            "Epoch 57/200\n",
            "32/32 [==============================] - 0s 2ms/step - loss: 22.2111 - mae: 3.7512 - val_loss: 45.6033 - val_mae: 5.0410\n",
            "Epoch 58/200\n",
            "32/32 [==============================] - 0s 2ms/step - loss: 19.3081 - mae: 3.4010 - val_loss: 49.7914 - val_mae: 5.2581\n",
            "Epoch 59/200\n",
            "32/32 [==============================] - 0s 2ms/step - loss: 20.5980 - mae: 3.5251 - val_loss: 46.0310 - val_mae: 5.0762\n",
            "Epoch 60/200\n",
            "32/32 [==============================] - 0s 2ms/step - loss: 20.5042 - mae: 3.4010 - val_loss: 49.4557 - val_mae: 5.1990\n",
            "Epoch 61/200\n",
            "32/32 [==============================] - 0s 2ms/step - loss: 21.6800 - mae: 3.6011 - val_loss: 44.6206 - val_mae: 4.8579\n",
            "Epoch 62/200\n",
            "32/32 [==============================] - 0s 2ms/step - loss: 22.3820 - mae: 3.5629 - val_loss: 46.8500 - val_mae: 5.0329\n",
            "Epoch 63/200\n",
            "32/32 [==============================] - 0s 2ms/step - loss: 18.0217 - mae: 3.2249 - val_loss: 46.0021 - val_mae: 4.9765\n",
            "Epoch 64/200\n",
            "32/32 [==============================] - 0s 2ms/step - loss: 18.3079 - mae: 3.1828 - val_loss: 66.2513 - val_mae: 6.3472\n",
            "Epoch 65/200\n",
            "32/32 [==============================] - 0s 2ms/step - loss: 20.2555 - mae: 3.4318 - val_loss: 46.3596 - val_mae: 5.0132\n",
            "Epoch 66/200\n",
            "32/32 [==============================] - 0s 2ms/step - loss: 18.2181 - mae: 3.2227 - val_loss: 47.9314 - val_mae: 5.0390\n",
            "Epoch 67/200\n",
            "32/32 [==============================] - 0s 2ms/step - loss: 21.0417 - mae: 3.5889 - val_loss: 45.0154 - val_mae: 4.8857\n",
            "Epoch 68/200\n",
            "32/32 [==============================] - 0s 2ms/step - loss: 18.8497 - mae: 3.3369 - val_loss: 43.8389 - val_mae: 4.9491\n",
            "Epoch 69/200\n",
            "32/32 [==============================] - 0s 2ms/step - loss: 19.6963 - mae: 3.3585 - val_loss: 42.3839 - val_mae: 4.8941\n",
            "Epoch 70/200\n",
            "32/32 [==============================] - 0s 2ms/step - loss: 16.9116 - mae: 3.1337 - val_loss: 43.8850 - val_mae: 4.8689\n",
            "Epoch 71/200\n",
            "32/32 [==============================] - 0s 2ms/step - loss: 19.0833 - mae: 3.2657 - val_loss: 45.3033 - val_mae: 5.0089\n",
            "Epoch 72/200\n",
            "32/32 [==============================] - 0s 2ms/step - loss: 19.2777 - mae: 3.4444 - val_loss: 52.1102 - val_mae: 5.3263\n",
            "Epoch 73/200\n",
            "32/32 [==============================] - 0s 2ms/step - loss: 21.2914 - mae: 3.6658 - val_loss: 47.7236 - val_mae: 4.9683\n",
            "Epoch 74/200\n",
            "32/32 [==============================] - 0s 2ms/step - loss: 16.5935 - mae: 3.0787 - val_loss: 48.7517 - val_mae: 5.1395\n",
            "Epoch 75/200\n",
            "32/32 [==============================] - 0s 2ms/step - loss: 20.0629 - mae: 3.4251 - val_loss: 42.7032 - val_mae: 4.8793\n",
            "Epoch 76/200\n",
            "32/32 [==============================] - 0s 2ms/step - loss: 17.9468 - mae: 3.2017 - val_loss: 46.0962 - val_mae: 4.9785\n",
            "Epoch 77/200\n",
            "32/32 [==============================] - 0s 2ms/step - loss: 17.2580 - mae: 3.2042 - val_loss: 50.5219 - val_mae: 5.2103\n",
            "Epoch 78/200\n",
            "32/32 [==============================] - 0s 2ms/step - loss: 17.0472 - mae: 3.1478 - val_loss: 45.4502 - val_mae: 4.9880\n",
            "Epoch 79/200\n",
            "32/32 [==============================] - 0s 2ms/step - loss: 18.1589 - mae: 3.1332 - val_loss: 47.5148 - val_mae: 5.0892\n",
            "Epoch 80/200\n",
            "32/32 [==============================] - 0s 2ms/step - loss: 16.4112 - mae: 3.1418 - val_loss: 47.3463 - val_mae: 5.1029\n",
            "Epoch 81/200\n",
            "32/32 [==============================] - 0s 2ms/step - loss: 19.0383 - mae: 3.1370 - val_loss: 42.0962 - val_mae: 4.8361\n",
            "Epoch 82/200\n",
            "32/32 [==============================] - 0s 2ms/step - loss: 15.8861 - mae: 2.9976 - val_loss: 48.2580 - val_mae: 5.1871\n",
            "Epoch 83/200\n",
            "32/32 [==============================] - 0s 2ms/step - loss: 15.3893 - mae: 2.9314 - val_loss: 47.1553 - val_mae: 5.0437\n",
            "Epoch 84/200\n",
            "32/32 [==============================] - 0s 2ms/step - loss: 18.4634 - mae: 3.2685 - val_loss: 41.8742 - val_mae: 4.8208\n",
            "Epoch 85/200\n",
            "32/32 [==============================] - 0s 2ms/step - loss: 15.6772 - mae: 3.0456 - val_loss: 47.0094 - val_mae: 5.1254\n",
            "Epoch 86/200\n",
            "32/32 [==============================] - 0s 2ms/step - loss: 16.1564 - mae: 3.0508 - val_loss: 44.3438 - val_mae: 5.0631\n",
            "Epoch 87/200\n",
            "32/32 [==============================] - 0s 2ms/step - loss: 22.8722 - mae: 3.6270 - val_loss: 48.4201 - val_mae: 5.1438\n",
            "Epoch 88/200\n",
            "32/32 [==============================] - 0s 2ms/step - loss: 15.8901 - mae: 2.9538 - val_loss: 43.6468 - val_mae: 4.9593\n",
            "Epoch 89/200\n",
            "32/32 [==============================] - 0s 2ms/step - loss: 16.9457 - mae: 3.0633 - val_loss: 54.5571 - val_mae: 5.4981\n",
            "Epoch 90/200\n",
            "32/32 [==============================] - 0s 2ms/step - loss: 15.2050 - mae: 2.9853 - val_loss: 47.5596 - val_mae: 5.1520\n",
            "Epoch 91/200\n",
            "32/32 [==============================] - 0s 2ms/step - loss: 15.1144 - mae: 3.0217 - val_loss: 43.6497 - val_mae: 5.0043\n",
            "Epoch 92/200\n",
            "32/32 [==============================] - 0s 2ms/step - loss: 18.1452 - mae: 3.2089 - val_loss: 40.7763 - val_mae: 4.7160\n",
            "Epoch 93/200\n",
            "32/32 [==============================] - 0s 2ms/step - loss: 14.0483 - mae: 2.8562 - val_loss: 39.7194 - val_mae: 4.7728\n",
            "Epoch 94/200\n",
            "32/32 [==============================] - 0s 2ms/step - loss: 17.7714 - mae: 3.0768 - val_loss: 48.8133 - val_mae: 5.0102\n",
            "Epoch 95/200\n",
            "32/32 [==============================] - 0s 2ms/step - loss: 16.7736 - mae: 3.0688 - val_loss: 53.5372 - val_mae: 5.5430\n",
            "Epoch 96/200\n",
            "32/32 [==============================] - 0s 2ms/step - loss: 18.0158 - mae: 3.1499 - val_loss: 41.1119 - val_mae: 4.7010\n",
            "Epoch 97/200\n",
            "32/32 [==============================] - 0s 2ms/step - loss: 14.4320 - mae: 2.8174 - val_loss: 49.8876 - val_mae: 5.3230\n",
            "Epoch 98/200\n",
            "32/32 [==============================] - 0s 2ms/step - loss: 14.6731 - mae: 2.9109 - val_loss: 39.9778 - val_mae: 4.7204\n",
            "Epoch 99/200\n",
            "32/32 [==============================] - 0s 2ms/step - loss: 15.6843 - mae: 3.0105 - val_loss: 43.9785 - val_mae: 4.9437\n",
            "Epoch 100/200\n",
            "32/32 [==============================] - 0s 2ms/step - loss: 14.8265 - mae: 2.9237 - val_loss: 47.3859 - val_mae: 5.2004\n",
            "Epoch 101/200\n",
            "32/32 [==============================] - 0s 2ms/step - loss: 13.7641 - mae: 2.9106 - val_loss: 41.9143 - val_mae: 4.8539\n",
            "Epoch 102/200\n",
            "32/32 [==============================] - 0s 2ms/step - loss: 14.6663 - mae: 2.9219 - val_loss: 43.2791 - val_mae: 4.9807\n",
            "Epoch 103/200\n",
            "32/32 [==============================] - 0s 2ms/step - loss: 14.4288 - mae: 2.8884 - val_loss: 41.1627 - val_mae: 4.9006\n",
            "Epoch 104/200\n",
            "32/32 [==============================] - 0s 2ms/step - loss: 14.7913 - mae: 2.9168 - val_loss: 46.3804 - val_mae: 5.1099\n",
            "Epoch 105/200\n",
            "32/32 [==============================] - 0s 2ms/step - loss: 13.4265 - mae: 2.8595 - val_loss: 40.2303 - val_mae: 4.6903\n",
            "Epoch 106/200\n",
            "32/32 [==============================] - 0s 2ms/step - loss: 15.1638 - mae: 2.8911 - val_loss: 43.6692 - val_mae: 4.9586\n",
            "Epoch 107/200\n",
            "32/32 [==============================] - 0s 2ms/step - loss: 14.3463 - mae: 2.8648 - val_loss: 43.1708 - val_mae: 4.8621\n",
            "Epoch 108/200\n",
            "32/32 [==============================] - 0s 2ms/step - loss: 13.2016 - mae: 2.8653 - val_loss: 47.4377 - val_mae: 5.0640\n",
            "Epoch 109/200\n",
            "32/32 [==============================] - 0s 2ms/step - loss: 13.7051 - mae: 2.7631 - val_loss: 40.3869 - val_mae: 4.7397\n",
            "Epoch 110/200\n",
            "32/32 [==============================] - 0s 2ms/step - loss: 12.8634 - mae: 2.6754 - val_loss: 42.3370 - val_mae: 4.8052\n",
            "Epoch 111/200\n",
            "32/32 [==============================] - 0s 2ms/step - loss: 15.4473 - mae: 3.0119 - val_loss: 42.5343 - val_mae: 4.7976\n",
            "Epoch 112/200\n",
            "32/32 [==============================] - 0s 2ms/step - loss: 13.7115 - mae: 2.8389 - val_loss: 41.1674 - val_mae: 4.6871\n",
            "Epoch 113/200\n",
            "32/32 [==============================] - 0s 2ms/step - loss: 12.8869 - mae: 2.7326 - val_loss: 39.3994 - val_mae: 4.7114\n",
            "Epoch 114/200\n",
            "32/32 [==============================] - 0s 2ms/step - loss: 15.3401 - mae: 2.9435 - val_loss: 38.2218 - val_mae: 4.6143\n",
            "Epoch 115/200\n",
            "32/32 [==============================] - 0s 2ms/step - loss: 13.4091 - mae: 2.7836 - val_loss: 45.9158 - val_mae: 5.0566\n",
            "Epoch 116/200\n",
            "32/32 [==============================] - 0s 2ms/step - loss: 14.6547 - mae: 2.8024 - val_loss: 42.4636 - val_mae: 4.7955\n",
            "Epoch 117/200\n",
            "32/32 [==============================] - 0s 2ms/step - loss: 11.4393 - mae: 2.6260 - val_loss: 42.2837 - val_mae: 4.9417\n",
            "Epoch 118/200\n",
            "32/32 [==============================] - 0s 2ms/step - loss: 13.2311 - mae: 2.7994 - val_loss: 42.9825 - val_mae: 5.0290\n",
            "Epoch 119/200\n",
            "32/32 [==============================] - 0s 2ms/step - loss: 17.7839 - mae: 3.1399 - val_loss: 47.7827 - val_mae: 5.2403\n",
            "Epoch 120/200\n",
            "32/32 [==============================] - 0s 2ms/step - loss: 17.2805 - mae: 3.1990 - val_loss: 42.2533 - val_mae: 4.8915\n",
            "Epoch 121/200\n",
            "32/32 [==============================] - 0s 2ms/step - loss: 13.4365 - mae: 2.7932 - val_loss: 40.3968 - val_mae: 4.7119\n",
            "Epoch 122/200\n",
            "32/32 [==============================] - 0s 2ms/step - loss: 10.7929 - mae: 2.4685 - val_loss: 38.9120 - val_mae: 4.6896\n",
            "Epoch 123/200\n",
            "32/32 [==============================] - 0s 2ms/step - loss: 14.6632 - mae: 2.9640 - val_loss: 41.0579 - val_mae: 4.6423\n",
            "Epoch 124/200\n",
            "32/32 [==============================] - 0s 2ms/step - loss: 16.2101 - mae: 3.0533 - val_loss: 46.4290 - val_mae: 5.0247\n",
            "Epoch 125/200\n",
            "32/32 [==============================] - 0s 2ms/step - loss: 13.7383 - mae: 2.7388 - val_loss: 40.0288 - val_mae: 4.6531\n",
            "Epoch 126/200\n",
            "32/32 [==============================] - 0s 2ms/step - loss: 13.1583 - mae: 2.8444 - val_loss: 41.8981 - val_mae: 4.8561\n",
            "Epoch 127/200\n",
            "32/32 [==============================] - 0s 2ms/step - loss: 13.8273 - mae: 2.8237 - val_loss: 44.7203 - val_mae: 4.8864\n",
            "Epoch 128/200\n",
            "32/32 [==============================] - 0s 2ms/step - loss: 13.9816 - mae: 2.8386 - val_loss: 37.1648 - val_mae: 4.5793\n",
            "Epoch 129/200\n",
            "32/32 [==============================] - 0s 2ms/step - loss: 12.8361 - mae: 2.6237 - val_loss: 38.0642 - val_mae: 4.7111\n",
            "Epoch 130/200\n",
            "32/32 [==============================] - 0s 2ms/step - loss: 13.5383 - mae: 2.8072 - val_loss: 41.1365 - val_mae: 4.9083\n",
            "Epoch 131/200\n",
            "32/32 [==============================] - 0s 2ms/step - loss: 12.2408 - mae: 2.6526 - val_loss: 37.7132 - val_mae: 4.5567\n",
            "Epoch 132/200\n",
            "32/32 [==============================] - 0s 2ms/step - loss: 14.0907 - mae: 2.8494 - val_loss: 38.0708 - val_mae: 4.6081\n",
            "Epoch 133/200\n",
            "32/32 [==============================] - 0s 2ms/step - loss: 11.5650 - mae: 2.5549 - val_loss: 41.4168 - val_mae: 4.7054\n",
            "Epoch 134/200\n",
            "32/32 [==============================] - 0s 2ms/step - loss: 11.9770 - mae: 2.6389 - val_loss: 39.7563 - val_mae: 4.5978\n",
            "Epoch 135/200\n",
            "32/32 [==============================] - 0s 2ms/step - loss: 11.2182 - mae: 2.4133 - val_loss: 38.2160 - val_mae: 4.6491\n",
            "Epoch 136/200\n",
            "32/32 [==============================] - 0s 2ms/step - loss: 13.0980 - mae: 2.7925 - val_loss: 42.3451 - val_mae: 4.8451\n",
            "Epoch 137/200\n",
            "32/32 [==============================] - 0s 2ms/step - loss: 12.8346 - mae: 2.7627 - val_loss: 49.6248 - val_mae: 5.2699\n",
            "Epoch 138/200\n",
            "32/32 [==============================] - 0s 2ms/step - loss: 10.5392 - mae: 2.4666 - val_loss: 40.4394 - val_mae: 4.7065\n",
            "Epoch 139/200\n",
            "32/32 [==============================] - 0s 3ms/step - loss: 14.3068 - mae: 2.6952 - val_loss: 37.8652 - val_mae: 4.5524\n",
            "Epoch 140/200\n",
            "32/32 [==============================] - 0s 2ms/step - loss: 13.4106 - mae: 2.7585 - val_loss: 40.5269 - val_mae: 4.7344\n",
            "Epoch 141/200\n",
            "32/32 [==============================] - 0s 2ms/step - loss: 13.3784 - mae: 2.7295 - val_loss: 36.5858 - val_mae: 4.5406\n",
            "Epoch 142/200\n",
            "32/32 [==============================] - 0s 2ms/step - loss: 14.6762 - mae: 2.8829 - val_loss: 40.7208 - val_mae: 4.7255\n",
            "Epoch 143/200\n",
            "32/32 [==============================] - 0s 2ms/step - loss: 14.2576 - mae: 2.8530 - val_loss: 40.2111 - val_mae: 4.6935\n",
            "Epoch 144/200\n",
            "32/32 [==============================] - 0s 3ms/step - loss: 12.1948 - mae: 2.6010 - val_loss: 44.6114 - val_mae: 4.9669\n",
            "Epoch 145/200\n",
            "32/32 [==============================] - 0s 2ms/step - loss: 11.7877 - mae: 2.5977 - val_loss: 39.7507 - val_mae: 4.6035\n",
            "Epoch 146/200\n",
            "32/32 [==============================] - 0s 2ms/step - loss: 10.3369 - mae: 2.4310 - val_loss: 39.3516 - val_mae: 4.6873\n",
            "Epoch 147/200\n",
            "32/32 [==============================] - 0s 2ms/step - loss: 13.9766 - mae: 2.8069 - val_loss: 42.9329 - val_mae: 4.9268\n",
            "Epoch 148/200\n",
            "32/32 [==============================] - 0s 2ms/step - loss: 12.9910 - mae: 2.6802 - val_loss: 38.8776 - val_mae: 4.5795\n",
            "Epoch 149/200\n",
            "32/32 [==============================] - 0s 2ms/step - loss: 12.7243 - mae: 2.7325 - val_loss: 41.9063 - val_mae: 4.7850\n",
            "Epoch 150/200\n",
            "32/32 [==============================] - 0s 2ms/step - loss: 12.0545 - mae: 2.5749 - val_loss: 38.6782 - val_mae: 4.5971\n",
            "Epoch 151/200\n",
            "32/32 [==============================] - 0s 2ms/step - loss: 10.4303 - mae: 2.4239 - val_loss: 40.3411 - val_mae: 4.6709\n",
            "Epoch 152/200\n",
            "32/32 [==============================] - 0s 2ms/step - loss: 12.8655 - mae: 2.6481 - val_loss: 44.0577 - val_mae: 4.8512\n",
            "Epoch 153/200\n",
            "32/32 [==============================] - 0s 2ms/step - loss: 12.0692 - mae: 2.6214 - val_loss: 50.5263 - val_mae: 5.2568\n",
            "Epoch 154/200\n",
            "32/32 [==============================] - 0s 2ms/step - loss: 11.7983 - mae: 2.5834 - val_loss: 42.1273 - val_mae: 4.8135\n",
            "Epoch 155/200\n",
            "32/32 [==============================] - 0s 2ms/step - loss: 10.9003 - mae: 2.4065 - val_loss: 45.0274 - val_mae: 4.8912\n",
            "Epoch 156/200\n",
            "32/32 [==============================] - 0s 2ms/step - loss: 12.5150 - mae: 2.6490 - val_loss: 37.5032 - val_mae: 4.5364\n",
            "Epoch 157/200\n",
            "32/32 [==============================] - 0s 2ms/step - loss: 9.0070 - mae: 2.2398 - val_loss: 45.4358 - val_mae: 5.0452\n",
            "Epoch 158/200\n",
            "32/32 [==============================] - 0s 2ms/step - loss: 11.4305 - mae: 2.6070 - val_loss: 42.0496 - val_mae: 4.6786\n",
            "Epoch 159/200\n",
            "32/32 [==============================] - 0s 2ms/step - loss: 11.1312 - mae: 2.5878 - val_loss: 40.7410 - val_mae: 4.7405\n",
            "Epoch 160/200\n",
            "32/32 [==============================] - 0s 2ms/step - loss: 9.1167 - mae: 2.2456 - val_loss: 39.4243 - val_mae: 4.6216\n",
            "Epoch 161/200\n",
            "32/32 [==============================] - 0s 2ms/step - loss: 10.1910 - mae: 2.4239 - val_loss: 60.0030 - val_mae: 5.9814\n",
            "Epoch 162/200\n",
            "32/32 [==============================] - 0s 2ms/step - loss: 12.5346 - mae: 2.5898 - val_loss: 38.3827 - val_mae: 4.6182\n",
            "Epoch 163/200\n",
            "32/32 [==============================] - 0s 2ms/step - loss: 9.6109 - mae: 2.3296 - val_loss: 40.0316 - val_mae: 4.7780\n",
            "Epoch 164/200\n",
            "32/32 [==============================] - 0s 2ms/step - loss: 13.0236 - mae: 2.7333 - val_loss: 39.2054 - val_mae: 4.6999\n",
            "Epoch 165/200\n",
            "32/32 [==============================] - 0s 2ms/step - loss: 11.8674 - mae: 2.6675 - val_loss: 36.1160 - val_mae: 4.4317\n",
            "Epoch 166/200\n",
            "32/32 [==============================] - 0s 2ms/step - loss: 9.9726 - mae: 2.3261 - val_loss: 38.4087 - val_mae: 4.6672\n",
            "Epoch 167/200\n",
            "32/32 [==============================] - 0s 3ms/step - loss: 9.9706 - mae: 2.3878 - val_loss: 37.4302 - val_mae: 4.5820\n",
            "Epoch 168/200\n",
            "32/32 [==============================] - 0s 2ms/step - loss: 9.6880 - mae: 2.2971 - val_loss: 45.5236 - val_mae: 5.0752\n",
            "Epoch 169/200\n",
            "32/32 [==============================] - 0s 2ms/step - loss: 12.3111 - mae: 2.6939 - val_loss: 49.2468 - val_mae: 5.2565\n",
            "Epoch 170/200\n",
            "32/32 [==============================] - 0s 2ms/step - loss: 12.0640 - mae: 2.5185 - val_loss: 58.7568 - val_mae: 5.6740\n",
            "Epoch 171/200\n",
            "32/32 [==============================] - 0s 2ms/step - loss: 11.3185 - mae: 2.4678 - val_loss: 38.6244 - val_mae: 4.5329\n",
            "Epoch 172/200\n",
            "32/32 [==============================] - 0s 2ms/step - loss: 12.2052 - mae: 2.4899 - val_loss: 37.2482 - val_mae: 4.5202\n",
            "Epoch 173/200\n",
            "32/32 [==============================] - 0s 2ms/step - loss: 10.6044 - mae: 2.3688 - val_loss: 44.3294 - val_mae: 5.0631\n",
            "Epoch 174/200\n",
            "32/32 [==============================] - 0s 2ms/step - loss: 11.9179 - mae: 2.5267 - val_loss: 37.2469 - val_mae: 4.4425\n",
            "Epoch 175/200\n",
            "32/32 [==============================] - 0s 2ms/step - loss: 10.3849 - mae: 2.3227 - val_loss: 45.4093 - val_mae: 5.0534\n",
            "Epoch 176/200\n",
            "32/32 [==============================] - 0s 2ms/step - loss: 12.2257 - mae: 2.5667 - val_loss: 40.3918 - val_mae: 4.7138\n",
            "Epoch 177/200\n",
            "32/32 [==============================] - 0s 2ms/step - loss: 12.3236 - mae: 2.5939 - val_loss: 36.6201 - val_mae: 4.5181\n",
            "Epoch 178/200\n",
            "32/32 [==============================] - 0s 2ms/step - loss: 9.3473 - mae: 2.3023 - val_loss: 37.7597 - val_mae: 4.5546\n",
            "Epoch 179/200\n",
            "32/32 [==============================] - 0s 2ms/step - loss: 10.4761 - mae: 2.3319 - val_loss: 39.8917 - val_mae: 4.6959\n",
            "Epoch 180/200\n",
            "32/32 [==============================] - 0s 2ms/step - loss: 12.2550 - mae: 2.5874 - val_loss: 38.5220 - val_mae: 4.5791\n",
            "Epoch 181/200\n",
            "32/32 [==============================] - 0s 2ms/step - loss: 11.4699 - mae: 2.4507 - val_loss: 44.2929 - val_mae: 4.8755\n",
            "Epoch 182/200\n",
            "32/32 [==============================] - 0s 2ms/step - loss: 11.4753 - mae: 2.5107 - val_loss: 41.3009 - val_mae: 4.7985\n",
            "Epoch 183/200\n",
            "32/32 [==============================] - 0s 3ms/step - loss: 9.3119 - mae: 2.2579 - val_loss: 39.3803 - val_mae: 4.5884\n",
            "Epoch 184/200\n",
            "32/32 [==============================] - 0s 2ms/step - loss: 10.0024 - mae: 2.2928 - val_loss: 37.3949 - val_mae: 4.5748\n",
            "Epoch 185/200\n",
            "32/32 [==============================] - 0s 2ms/step - loss: 9.2192 - mae: 2.2915 - val_loss: 49.1609 - val_mae: 5.1460\n",
            "Epoch 186/200\n",
            "32/32 [==============================] - 0s 2ms/step - loss: 13.6388 - mae: 2.8261 - val_loss: 47.0541 - val_mae: 4.9757\n",
            "Epoch 187/200\n",
            "32/32 [==============================] - 0s 2ms/step - loss: 12.2069 - mae: 2.6141 - val_loss: 39.9954 - val_mae: 4.5754\n",
            "Epoch 188/200\n",
            "32/32 [==============================] - 0s 2ms/step - loss: 10.5356 - mae: 2.3846 - val_loss: 40.0130 - val_mae: 4.8179\n",
            "Epoch 189/200\n",
            "32/32 [==============================] - 0s 2ms/step - loss: 10.3223 - mae: 2.3584 - val_loss: 45.5312 - val_mae: 4.9763\n",
            "Epoch 190/200\n",
            "32/32 [==============================] - 0s 2ms/step - loss: 14.3718 - mae: 2.7588 - val_loss: 39.8574 - val_mae: 4.7063\n",
            "Epoch 191/200\n",
            "32/32 [==============================] - 0s 2ms/step - loss: 11.3308 - mae: 2.4871 - val_loss: 36.3404 - val_mae: 4.4292\n",
            "Epoch 192/200\n",
            "32/32 [==============================] - 0s 2ms/step - loss: 8.9916 - mae: 2.1585 - val_loss: 43.2406 - val_mae: 4.8073\n",
            "Epoch 193/200\n",
            "32/32 [==============================] - 0s 2ms/step - loss: 12.2885 - mae: 2.5470 - val_loss: 38.1111 - val_mae: 4.7029\n",
            "Epoch 194/200\n",
            "32/32 [==============================] - 0s 2ms/step - loss: 9.3642 - mae: 2.3185 - val_loss: 37.7197 - val_mae: 4.6366\n",
            "Epoch 195/200\n",
            "32/32 [==============================] - 0s 2ms/step - loss: 9.3549 - mae: 2.2944 - val_loss: 37.9109 - val_mae: 4.6742\n",
            "Epoch 196/200\n",
            "32/32 [==============================] - 0s 3ms/step - loss: 10.3758 - mae: 2.4084 - val_loss: 39.7393 - val_mae: 4.7551\n",
            "Epoch 197/200\n",
            "32/32 [==============================] - 0s 2ms/step - loss: 10.1983 - mae: 2.3520 - val_loss: 39.2984 - val_mae: 4.6576\n",
            "Epoch 198/200\n",
            "32/32 [==============================] - 0s 2ms/step - loss: 10.2329 - mae: 2.5055 - val_loss: 50.4294 - val_mae: 5.5088\n",
            "Epoch 199/200\n",
            "32/32 [==============================] - 0s 2ms/step - loss: 12.6278 - mae: 2.7022 - val_loss: 40.9688 - val_mae: 4.6786\n",
            "Epoch 200/200\n",
            "32/32 [==============================] - 0s 2ms/step - loss: 10.9255 - mae: 2.5220 - val_loss: 44.5406 - val_mae: 4.9023\n"
          ],
          "name": "stdout"
        }
      ]
    },
    {
      "cell_type": "code",
      "metadata": {
        "colab": {
          "base_uri": "https://localhost:8080/"
        },
        "id": "58_T6zv8DIts",
        "outputId": "d316af58-0d4d-43c7-aa83-1a3f54c6e2af"
      },
      "source": [
        "loss, mae=network.evaluate(X_test,Y_test)"
      ],
      "execution_count": 20,
      "outputs": [
        {
          "output_type": "stream",
          "text": [
            "10/10 [==============================] - 0s 1ms/step - loss: 45.9771 - mae: 5.0282\n"
          ],
          "name": "stdout"
        }
      ]
    },
    {
      "cell_type": "code",
      "metadata": {
        "id": "lOpjidgTDIzv"
      },
      "source": [
        "val_mae = history.history['val_mae']\n",
        "val_loss = history.history['val_loss']"
      ],
      "execution_count": 21,
      "outputs": []
    },
    {
      "cell_type": "code",
      "metadata": {
        "colab": {
          "base_uri": "https://localhost:8080/",
          "height": 295
        },
        "id": "wZ9MkHMTDI5M",
        "outputId": "9216e44e-34ac-47b6-b362-19c8114a3e9c"
      },
      "source": [
        "import matplotlib.pyplot as plt \n",
        "history_dict = history.history\n",
        "loss_values = history_dict['loss']\n",
        "val_loss_values = history_dict['val_loss']\n",
        "epochs = range(200)\n",
        "plt.plot(epochs, loss_values, 'bo', label='Training loss')\n",
        "plt.plot(epochs, val_loss_values, 'b', label='Validation loss')\n",
        "plt.title('Training and validation loss')\n",
        "plt.xlabel('Epochs')\n",
        "plt.ylabel('Loss')\n",
        "plt.legend()\n",
        "plt.show()"
      ],
      "execution_count": 22,
      "outputs": [
        {
          "output_type": "display_data",
          "data": {
            "image/png": "[encoded data removed]",
            "text/plain": [
              "<Figure size 432x288 with 1 Axes>"
            ]
          },
          "metadata": {
            "tags": [],
            "needs_background": "light"
          }
        }
      ]
    },
    {
      "cell_type": "code",
      "metadata": {
        "colab": {
          "base_uri": "https://localhost:8080/",
          "height": 295
        },
        "id": "OlcHVFlCDI_L",
        "outputId": "ad6e4368-0324-4c61-fa74-b698fac12597"
      },
      "source": [
        "acc_values = history_dict['mae']\n",
        "val_acc_values = history_dict['val_mae']\n",
        "plt.plot(epochs, acc_values, 'bo', label='Training mae')\n",
        "plt.plot(epochs, val_acc_values, 'b', label='Validation mae')\n",
        "plt.title('Training and validation accuracy')\n",
        "plt.xlabel('Epochs')\n",
        "plt.ylabel('mae')\n",
        "plt.legend()\n",
        "plt.show()"
      ],
      "execution_count": 23,
      "outputs": [
        {
          "output_type": "display_data",
          "data": {
            "image/png": "[encoded data removed]",
            "text/plain": [
              "<Figure size 432x288 with 1 Axes>"
            ]
          },
          "metadata": {
            "tags": [],
            "needs_background": "light"
          }
        }
      ]
    },
    {
      "cell_type": "code",
      "metadata": {
        "id": "fJGc7kv6DJEe"
      },
      "source": [
        "y_pred = network.predict(X_test)"
      ],
      "execution_count": 24,
      "outputs": []
    },
    {
      "cell_type": "code",
      "metadata": {
        "id": "rablyJkRfxhc"
      },
      "source": [
        "y_pred = y_pred.reshape(y_pred.shape[0])"
      ],
      "execution_count": 25,
      "outputs": []
    },
    {
      "cell_type": "code",
      "metadata": {
        "colab": {
          "base_uri": "https://localhost:8080/"
        },
        "id": "kSmhqhV3o9in",
        "outputId": "a0f980b6-9697-45e3-c4b6-f47b5b90368f"
      },
      "source": [
        "y_pred"
      ],
      "execution_count": 26,
      "outputs": [
        {
          "output_type": "execute_result",
          "data": {
            "text/plain": [
              "array([45.322403 , 53.094887 , 31.183283 , 39.630432 , 32.556587 ,\n",
              "       45.009125 , 53.99047  , 42.417587 , 46.33751  , 17.236172 ,\n",
              "       46.61821  , 46.957947 , 50.69435  , 52.232937 , 52.0231   ,\n",
              "       50.10232  , 28.641325 , 32.06055  , 83.820114 , 45.51518  ,\n",
              "       59.29899  , 41.750443 , 32.783432 , 36.940556 , 32.783432 ,\n",
              "       28.233297 , 50.22882  , 63.23506  , 38.35462  , 40.097008 ,\n",
              "       38.354614 , 38.354614 , 55.518616 , 51.552032 , 63.147312 ,\n",
              "       71.23278  , 66.95405  , 74.25434  , 76.65031  , 71.23278  ,\n",
              "       79.041954 , 75.83895  , 66.24489  , 62.9913   , 66.24489  ,\n",
              "       66.24489  , 80.84046  , 78.688    , 77.865906 , 80.74169  ,\n",
              "       83.22851  , 76.91981  , 31.606653 , 36.85565  , 37.82262  ,\n",
              "       12.874034 , 40.665863 , 47.477074 , 30.069235 , 37.725372 ,\n",
              "       44.32892  , 41.308765 , 24.708492 , 46.49928  , 22.433271 ,\n",
              "       33.95956  , 10.293394 , 17.912998 , 47.910065 , 10.405638 ,\n",
              "       39.25266  , 36.178207 , 45.04174  , 26.426657 , 43.590515 ,\n",
              "       15.189109 , 46.654823 , 31.408281 , 38.110123 , 34.282997 ,\n",
              "       24.965933 , 51.662292 , 38.155254 , 48.252678 , 22.189466 ,\n",
              "       36.31372  , 53.50372  , 33.563293 , 19.425623 , 47.760605 ,\n",
              "       54.680473 , 56.81714  , 18.061224 , 31.624697 , 59.97699  ,\n",
              "       29.58364  , 42.841785 , 49.414696 , 53.209473 , 30.914923 ,\n",
              "       45.25402  , 70.06219  , 68.52492  , 25.290762 , 39.801624 ,\n",
              "       11.356791 , 25.695011 , 43.303444 , 40.32544  , 83.58289  ,\n",
              "       51.955727 , 56.768593 , 44.82405  , 42.489754 , 44.43518  ,\n",
              "       54.223175 , 60.83128  , 20.060637 , 19.981895 , 17.08193  ,\n",
              "       23.322477 , 22.044943 , 18.324018 , 18.992579 , 32.008633 ,\n",
              "       31.957958 , 35.55691  , 25.336561 , 21.800768 , 43.99707  ,\n",
              "       42.90988  , 47.65541  , 32.42639  , 34.19478  , 45.916027 ,\n",
              "       55.684017 , 39.272026 , 59.59375  , 52.193832 , 62.29658  ,\n",
              "       64.42255  , 42.67995  , 55.389214 , 55.389214 , 55.389214 ,\n",
              "       39.900227 , 43.85257  , 62.172585 , 63.408043 , 56.929    ,\n",
              "       38.934235 , 35.402412 , 40.473522 , 65.01966  , 64.86661  ,\n",
              "       57.393467 , 45.787125 , 67.42186  , 38.08081  , 68.89782  ,\n",
              "       55.128677 , 37.100277 , 29.260073 , 11.330877 , 46.72647  ,\n",
              "       74.09263  , 46.466454 , 47.2185   , 57.16866  , 32.77451  ,\n",
              "       15.028326 , 14.307021 , 36.279453 , 18.047495 , 50.644753 ,\n",
              "       25.900805 , 13.610758 , 46.40644  , 11.012035 , 20.481974 ,\n",
              "       21.14697  , 27.652348 , 25.460138 , 10.361689 , 36.41834  ,\n",
              "        9.549803 , 33.054417 , 46.880604 , 27.015589 , 28.854494 ,\n",
              "       18.473026 , 26.494104 , 32.8114   , 42.84953  , 13.587931 ,\n",
              "       22.008772 , 14.034412 , 22.415628 , 20.867128 , 25.567015 ,\n",
              "       17.9947   , 28.34518  , 37.14318  , 39.97979  , 27.77725  ,\n",
              "       47.674507 , 15.528559 , 10.592964 , 29.398937 , 14.626514 ,\n",
              "       11.1254225, 17.485952 , 32.682922 , 16.208307 , 24.670368 ,\n",
              "       25.582663 , 21.77723  , 40.411537 , 10.888358 , 10.328812 ,\n",
              "       51.391445 , 17.075842 , 21.083181 , 15.793398 , 24.14675  ,\n",
              "       45.699974 , 77.80712  , 18.629393 , 31.776371 , 41.135384 ,\n",
              "       22.212677 , 27.561522 , 32.553425 , 39.411957 , 16.609972 ,\n",
              "       27.955042 , 20.670164 , 15.171622 , 25.068085 , 43.21227  ,\n",
              "       66.15365  , 57.707775 , 26.295282 , 14.003024 , 35.69045  ,\n",
              "       42.816944 , 42.42964  , 49.833183 , 60.04296  , 37.34893  ,\n",
              "       27.213743 , 38.76597  , 32.239716 , 36.81357  , 37.270782 ,\n",
              "       40.410995 , 21.06264  , 42.29781  , 70.265816 , 38.740982 ,\n",
              "       37.446922 , 43.529243 , 43.28482  , 31.154312 , 44.017467 ,\n",
              "       41.827232 , 30.567568 , 28.344866 , 28.47546  , 35.11438  ,\n",
              "       39.372753 , 41.788174 , 28.620428 , 13.724396 , 27.654303 ,\n",
              "       52.077473 , 16.317541 , 42.385742 , 28.318243 , 36.495556 ,\n",
              "       40.042404 , 36.522087 , 38.776848 , 30.520815 , 32.703945 ,\n",
              "       52.74014  , 34.587654 , 35.22889  , 39.5586   , 41.591034 ,\n",
              "       16.245106 , 17.745588 , 30.154978 , 13.722242 , 25.822996 ,\n",
              "       42.02375  , 37.24613  , 28.58106  , 40.123634 , 51.29093  ,\n",
              "       21.44269  , 53.46531  , 38.501247 , 39.85562  , 42.94804  ,\n",
              "       31.15267  , 47.568832 , 41.570137 , 36.853992 ], dtype=float32)"
            ]
          },
          "metadata": {
            "tags": []
          },
          "execution_count": 26
        }
      ]
    },
    {
      "cell_type": "code",
      "metadata": {
        "colab": {
          "base_uri": "https://localhost:8080/"
        },
        "id": "AuUs5neKo90_",
        "outputId": "4103f1e4-d1f0-48f1-d29a-1ab21a945bdc"
      },
      "source": [
        "Y_test"
      ],
      "execution_count": 27,
      "outputs": [
        {
          "output_type": "execute_result",
          "data": {
            "text/plain": [
              "array([40.27, 41.05, 45.85, 38.07, 47.81, 39.36, 56.14, 36.25, 41.54,\n",
              "       15.05, 40.76, 46.93, 41.93, 50.95, 54.38, 55.06, 30.28, 40.86,\n",
              "       71.99, 36.3 , 40.2 , 33.4 , 35.3 , 24.4 , 35.3 , 24.1 , 46.8 ,\n",
              "       54.9 , 55.9 , 47.1 , 55.9 , 55.9 , 56.1 , 59.09, 60.29, 71.3 ,\n",
              "       74.7 , 66.  , 74.5 , 71.3 , 63.4 , 64.9 , 64.3 , 60.2 , 64.3 ,\n",
              "       64.3 , 77.3 , 54.9 , 71.7 , 70.7 , 56.5 , 73.3 , 24.89, 29.45,\n",
              "       34.56, 12.45, 33.96, 37.34, 24.9 , 34.2 , 39.61, 35.34, 22.72,\n",
              "       40.39, 25.48, 28.63,  7.75, 17.82, 49.97, 19.93, 39.59, 29.22,\n",
              "       42.35, 26.31, 42.55, 13.33, 44.4 , 31.35, 33.73, 32.66, 21.5 ,\n",
              "       48.67, 31.12, 34.74, 23.14, 41.89, 48.72, 33.36, 15.36, 30.85,\n",
              "       42.03, 51.06, 21.78, 42.29, 56.85, 21.91, 36.99, 47.4 , 51.96,\n",
              "       30.45, 47.71, 66.82, 66.95, 27.42, 35.96, 18.02, 38.6 , 30.22,\n",
              "       36.3 , 57.23, 78.8 , 60.28, 39.38, 44.33, 52.3 , 58.52, 69.84,\n",
              "       19.42, 14.94, 21.29, 23.08, 15.52, 11.98, 16.88, 33.09, 31.81,\n",
              "       33.01, 24.66, 26.2 , 46.39, 39.16, 41.41, 24.85, 27.22, 44.64,\n",
              "       53.46, 39.64, 55.02, 49.99, 56.81, 50.94, 41.16, 57.03, 44.42,\n",
              "       51.02, 35.36, 39.3 , 61.07, 54.77, 46.68, 25.51, 34.77, 41.67,\n",
              "       56.34, 61.46, 44.03, 33.49, 59.59, 29.55, 61.86, 62.05, 40.29,\n",
              "       21.97,  9.85, 43.73, 66.78, 48.85, 43.94, 54.32, 24.4 , 14.6 ,\n",
              "        9.62, 27.94, 17.24, 39.44, 24.07, 13.09, 38.7 ,  7.51, 17.58,\n",
              "       21.18, 22.63, 25.73,  8.  , 37.44, 10.73, 32.04, 38.89, 21.95,\n",
              "       24.1 , 21.26, 25.97, 32.33, 36.15,  7.84, 12.25, 11.17, 17.34,\n",
              "       17.54, 24.5 , 15.58, 26.85, 38.21, 43.7 , 19.54, 43.38,  6.9 ,\n",
              "        4.9 , 25.89, 10.39, 11.39, 15.03, 33.  , 17.28, 24.28, 14.14,\n",
              "       22.35, 43.25,  4.83, 10.35, 51.86, 15.87, 30.96, 14.5 , 22.44,\n",
              "       44.09, 71.62, 18.13, 27.34, 32.72,  6.27, 23.22, 27.92, 39.  ,\n",
              "       13.52, 25.18, 17.54, 14.2 , 21.65, 39.49, 61.92, 51.04, 24.  ,\n",
              "       11.47, 34.68, 38.11, 33.8 , 48.4 , 58.78, 29.59, 21.75, 39.09,\n",
              "       24.39, 36.35, 33.42, 39.05, 15.57, 44.61, 65.91, 33.4 , 40.06,\n",
              "       38.46, 37.26, 35.23, 41.54, 37.91, 28.63, 31.03, 23.84, 26.23,\n",
              "       40.68, 33.72, 23.52, 13.2 , 23.79, 46.23, 15.52, 43.57, 26.92,\n",
              "       29.07, 26.97, 30.65, 30.88, 28.63, 31.42, 40.93, 32.96, 26.23,\n",
              "       38.63, 33.72,  8.54, 13.46, 29.73, 13.2 , 23.74, 35.87, 33.76,\n",
              "       16.5 , 39.06, 45.3 , 15.57, 52.83, 33.4 , 37.36, 37.27, 35.23,\n",
              "       39.46, 37.92, 32.4 ])"
            ]
          },
          "metadata": {
            "tags": []
          },
          "execution_count": 27
        }
      ]
    },
    {
      "cell_type": "code",
      "metadata": {
        "colab": {
          "base_uri": "https://localhost:8080/",
          "height": 286
        },
        "id": "6y6XQMQrpJuU",
        "outputId": "c9a5608b-5dbc-4700-bf8d-052dd9e99143"
      },
      "source": [
        "coef = np.polyfit(Y_test,y_pred,1)\n",
        "poly1d_fn = np.poly1d(coef) \n",
        "plt.plot(Y_test,y_pred, 'bo', Y_test, poly1d_fn(Y_test), '--k')\n",
        "plt.xlim(0, 100)\n",
        "plt.ylim(0, 100)"
      ],
      "execution_count": 31,
      "outputs": [
        {
          "output_type": "execute_result",
          "data": {
            "text/plain": [
              "(0.0, 100.0)"
            ]
          },
          "metadata": {
            "tags": []
          },
          "execution_count": 31
        },
        {
          "output_type": "display_data",
          "data": {
            "image/png": "[encoded data removed]",
            "text/plain": [
              "<Figure size 432x288 with 1 Axes>"
            ]
          },
          "metadata": {
            "tags": [],
            "needs_background": "light"
          }
        }
      ]
    }
  ]
}