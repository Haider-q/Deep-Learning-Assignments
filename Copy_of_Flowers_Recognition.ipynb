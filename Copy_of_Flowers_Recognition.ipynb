{
  "nbformat": 4,
  "nbformat_minor": 0,
  "metadata": {
    "colab": {
      "name": "Copy of Flowers_Recognition.ipynb",
      "provenance": [],
      "collapsed_sections": [],
      "include_colab_link": true
    },
    "kernelspec": {
      "name": "python3",
      "display_name": "Python 3"
    }
  },
  "cells": [
    {
      "cell_type": "markdown",
      "metadata": {
        "id": "view-in-github",
        "colab_type": "text"
      },
      "source": [
        "<a href=\"https://colab.research.google.com/github/Haider-q/Deep-Learning-Assignments/blob/main/Copy_of_Flowers_Recognition.ipynb\" target=\"_parent\"><img src=\"https://colab.research.google.com/assets/colab-badge.svg\" alt=\"Open In Colab\"/></a>"
      ]
    },
    {
      "cell_type": "markdown",
      "metadata": {
        "id": "BXgJ6uT1NydQ"
      },
      "source": [
        "Assignment: Flowers Recognition <br>\n",
        "Dataset Description:<br>\n",
        "\n",
        "This dataset contains 4242 images of flowers.<br>\n",
        "The data collection is based on the data flicr, google images, yandex images.<br>\n",
        "You can use this datastet to recognize plants from the photo.<br>\n",
        "\n",
        "Attribute Information:<br>\n",
        "The pictures are divided into five classes: chamomile, tulip, rose, sunflower, dandelion.<br>\n",
        "For each class there are about 800 photos. Photos are not high resolution, about 320x240 pixels. <br>\n",
        "<b>Also explore how to resize images in tensorflow and then resize all the images to a same size. </b> <br>\n",
        "This is a Multiclass Classification Problem.<br>\n",
        "\n",
        "\n"
      ]
    },
    {
      "cell_type": "markdown",
      "metadata": {
        "id": "T7vy-ktuOKJH"
      },
      "source": [
        "WORKFLOW : <br>\n",
        "Load Data <br>\n",
        "Split into 60 and 40 ratio.<br>\n",
        "Encode labels.<br>\n",
        "Create Model<br>\n",
        "Compilation Step (Note : Its a Multiclass Classification problem , select loss , metrics according to it)<br>\n",
        "Train the Model.<br>\n",
        "If the model gets overfit tune your model by changing the units , No. of layers , epochs , add dropout layer or add Regularizer according to the need .<br>\n",
        "Prediction should be > 85%<br>\n",
        "Evaluation Step<br>\n",
        "Prediction<br>\n",
        "\n",
        "\n"
      ]
    },
    {
      "cell_type": "markdown",
      "metadata": {
        "id": "ri3Bg5qfPRic"
      },
      "source": [
        "Data : <br>\n",
        "https://drive.google.com/file/d/1-OX6wn5gA-bJpjPNfSyaYQLz-A-AB_uj/view?usp=sharing"
      ]
    },
    {
      "cell_type": "code",
      "metadata": {
        "id": "hTtg3WuGTA1o",
        "colab": {
          "base_uri": "https://localhost:8080/"
        },
        "outputId": "9b1a228f-0ee5-4c48-8af1-152889e465f2"
      },
      "source": [
        "from google.colab import drive\n",
        "drive.mount('/content/drive')"
      ],
      "execution_count": null,
      "outputs": [
        {
          "output_type": "stream",
          "text": [
            "Mounted at /content/drive\n"
          ],
          "name": "stdout"
        }
      ]
    },
    {
      "cell_type": "code",
      "metadata": {
        "id": "g91PAbc9C26n"
      },
      "source": [
        "import numpy as np\n",
        "import pandas as pd\n",
        "import tensorflow as tf\n",
        "import seaborn as sns\n",
        "import matplotlib.pyplot as plt\n",
        "import os\n",
        "from os import listdir \n",
        "from os.path import join \n",
        "import cv2 \n",
        "import pathlib\n",
        "from pathlib import Path\n",
        "from tensorflow.keras import models, layers, optimizers\n",
        "from tensorflow.keras.utils import to_categorical\n",
        "from sklearn.preprocessing import LabelBinarizer, LabelEncoder"
      ],
      "execution_count": null,
      "outputs": []
    },
    {
      "cell_type": "code",
      "metadata": {
        "id": "CfT4NItm5v8o"
      },
      "source": [
        "directory = Path('/content/drive/MyDrive/flowers')"
      ],
      "execution_count": null,
      "outputs": []
    },
    {
      "cell_type": "code",
      "metadata": {
        "colab": {
          "base_uri": "https://localhost:8080/"
        },
        "id": "IXpQoUgY5v_U",
        "outputId": "be46c86e-ad17-43ed-94f9-2cdd474d84bb"
      },
      "source": [
        "flowers = []\n",
        "features = []\n",
        "labels = []\n",
        "\n",
        "for dir in directory.iterdir():\n",
        "  flowers.append(dir.name)\n",
        "  print(dir.name)\n",
        "  for imgpath in dir.iterdir():\n",
        "    if imgpath.name.endswith(\"jpg\"):\n",
        "      labels.append(dir.name)\n",
        "      imgarr = cv2.imread(str(imgpath), cv2.IMREAD_GRAYSCALE)\n",
        "      imgarr = cv2.resize(imgarr, (150,150))\n",
        "      features.append(imgarr)"
      ],
      "execution_count": null,
      "outputs": [
        {
          "output_type": "stream",
          "text": [
            "tulip\n",
            "flowers\n",
            "rose\n",
            "dandelion\n",
            "daisy\n",
            "sunflower\n"
          ],
          "name": "stdout"
        }
      ]
    },
    {
      "cell_type": "code",
      "metadata": {
        "id": "Nd_Ep5UT5wC1"
      },
      "source": [
        "labels = LabelEncoder().fit_transform(labels)\n",
        "labels=to_categorical(labels)"
      ],
      "execution_count": null,
      "outputs": []
    },
    {
      "cell_type": "code",
      "metadata": {
        "id": "YuQ-C4A45wFH",
        "colab": {
          "base_uri": "https://localhost:8080/"
        },
        "outputId": "e367599c-b068-46de-9653-405adf72e6c8"
      },
      "source": [
        "image_names=np.asarray(flowers)\n",
        "image_names.shape"
      ],
      "execution_count": null,
      "outputs": [
        {
          "output_type": "execute_result",
          "data": {
            "text/plain": [
              "(6,)"
            ]
          },
          "metadata": {
            "tags": []
          },
          "execution_count": 6
        }
      ]
    },
    {
      "cell_type": "code",
      "metadata": {
        "id": "tNzB4UUv5wI1"
      },
      "source": [
        "data = np.asarray(features).reshape(90,150*150)\n",
        "data = data.astype(\"float32\")/255.0"
      ],
      "execution_count": null,
      "outputs": []
    },
    {
      "cell_type": "code",
      "metadata": {
        "id": "riCCuUfD5wKN"
      },
      "source": [
        "import sklearn\n",
        "from sklearn.model_selection import train_test_split\n",
        "x_train,x_test,y_train,y_test=train_test_split(data,labels,test_size=.40,random_state=1)"
      ],
      "execution_count": null,
      "outputs": []
    },
    {
      "cell_type": "code",
      "metadata": {
        "id": "fmDkqULy5wPR"
      },
      "source": [
        "from keras.models import Sequential\n",
        "from keras.layers import Dense, Dropout\n",
        "from keras import losses,optimizers,regularizers\n",
        "\n",
        "network = Sequential()\n",
        "\n",
        "network.add(Dense(256,kernel_regularizer=regularizers.l2(0.001),activation=\"relu\",input_shape=(x_train.shape[1],)))\n",
        "network.add(Dense(128,kernel_regularizer=regularizers.l2(0.001),activation='relu'))\n",
        "network.add(Dense(64,kernel_regularizer=regularizers.l2(0.001),activation='relu'))\n",
        "network.add(Dense(32,kernel_regularizer=regularizers.l2(0.001),activation='relu'))\n",
        "network.add(Dense(5,activation=\"softmax\"))"
      ],
      "execution_count": null,
      "outputs": []
    },
    {
      "cell_type": "code",
      "metadata": {
        "id": "d5OKFYkq5wQy"
      },
      "source": [
        "network.compile(loss='sparse_categorical_crossentropy',optimizer='rmsPROP',metrics=['accuracy'])"
      ],
      "execution_count": null,
      "outputs": []
    },
    {
      "cell_type": "code",
      "metadata": {
        "id": "hiERfmmb5wV3",
        "colab": {
          "base_uri": "https://localhost:8080/"
        },
        "outputId": "114ea0a5-0130-4f91-913f-ac9fc3daa3ce"
      },
      "source": [
        "batch_size = 20\n",
        "epochs = 135\n",
        "history=network.fit(x_train, y_train, batch_size = batch_size, epochs = epochs)"
      ],
      "execution_count": null,
      "outputs": [
        {
          "output_type": "stream",
          "text": [
            "Epoch 1/135\n",
            "3/3 [==============================] - 1s 72ms/step - loss: 1.5285 - accuracy: 0.6639\n",
            "Epoch 2/135\n",
            "3/3 [==============================] - 0s 72ms/step - loss: 0.7380 - accuracy: 1.0000\n",
            "Epoch 3/135\n",
            "3/3 [==============================] - 0s 75ms/step - loss: 0.6930 - accuracy: 1.0000\n",
            "Epoch 4/135\n",
            "3/3 [==============================] - 0s 75ms/step - loss: 0.6593 - accuracy: 1.0000\n",
            "Epoch 5/135\n",
            "3/3 [==============================] - 0s 73ms/step - loss: 0.6299 - accuracy: 1.0000\n",
            "Epoch 6/135\n",
            "3/3 [==============================] - 0s 76ms/step - loss: 0.6025 - accuracy: 1.0000\n",
            "Epoch 7/135\n",
            "3/3 [==============================] - 0s 72ms/step - loss: 0.5760 - accuracy: 1.0000\n",
            "Epoch 8/135\n",
            "3/3 [==============================] - 0s 71ms/step - loss: 0.5499 - accuracy: 1.0000\n",
            "Epoch 9/135\n",
            "3/3 [==============================] - 0s 75ms/step - loss: 0.5239 - accuracy: 1.0000\n",
            "Epoch 10/135\n",
            "3/3 [==============================] - 0s 77ms/step - loss: 0.4980 - accuracy: 1.0000\n",
            "Epoch 11/135\n",
            "3/3 [==============================] - 0s 71ms/step - loss: 0.4722 - accuracy: 1.0000\n",
            "Epoch 12/135\n",
            "3/3 [==============================] - 0s 76ms/step - loss: 0.4465 - accuracy: 1.0000\n",
            "Epoch 13/135\n",
            "3/3 [==============================] - 0s 73ms/step - loss: 0.4207 - accuracy: 1.0000\n",
            "Epoch 14/135\n",
            "3/3 [==============================] - 0s 76ms/step - loss: 0.3950 - accuracy: 1.0000\n",
            "Epoch 15/135\n",
            "3/3 [==============================] - 0s 71ms/step - loss: 0.3694 - accuracy: 1.0000\n",
            "Epoch 16/135\n",
            "3/3 [==============================] - 0s 72ms/step - loss: 0.3440 - accuracy: 1.0000\n",
            "Epoch 17/135\n",
            "3/3 [==============================] - 0s 71ms/step - loss: 0.3190 - accuracy: 1.0000\n",
            "Epoch 18/135\n",
            "3/3 [==============================] - 0s 72ms/step - loss: 0.2942 - accuracy: 1.0000\n",
            "Epoch 19/135\n",
            "3/3 [==============================] - 0s 72ms/step - loss: 0.2702 - accuracy: 1.0000\n",
            "Epoch 20/135\n",
            "3/3 [==============================] - 0s 73ms/step - loss: 0.2466 - accuracy: 1.0000\n",
            "Epoch 21/135\n",
            "3/3 [==============================] - 0s 77ms/step - loss: 0.2241 - accuracy: 1.0000\n",
            "Epoch 22/135\n",
            "3/3 [==============================] - 0s 72ms/step - loss: 0.2024 - accuracy: 1.0000\n",
            "Epoch 23/135\n",
            "3/3 [==============================] - 0s 74ms/step - loss: 0.1820 - accuracy: 1.0000\n",
            "Epoch 24/135\n",
            "3/3 [==============================] - 0s 73ms/step - loss: 0.1628 - accuracy: 1.0000\n",
            "Epoch 25/135\n",
            "3/3 [==============================] - 0s 74ms/step - loss: 0.1451 - accuracy: 1.0000\n",
            "Epoch 26/135\n",
            "3/3 [==============================] - 0s 78ms/step - loss: 0.1289 - accuracy: 1.0000\n",
            "Epoch 27/135\n",
            "3/3 [==============================] - 0s 72ms/step - loss: 0.1142 - accuracy: 1.0000\n",
            "Epoch 28/135\n",
            "3/3 [==============================] - 0s 74ms/step - loss: 0.1010 - accuracy: 1.0000\n",
            "Epoch 29/135\n",
            "3/3 [==============================] - 0s 73ms/step - loss: 0.0900 - accuracy: 1.0000\n",
            "Epoch 30/135\n",
            "3/3 [==============================] - 0s 77ms/step - loss: 0.0794 - accuracy: 1.0000\n",
            "Epoch 31/135\n",
            "3/3 [==============================] - 0s 74ms/step - loss: 0.0707 - accuracy: 1.0000\n",
            "Epoch 32/135\n",
            "3/3 [==============================] - 0s 74ms/step - loss: 0.0632 - accuracy: 1.0000\n",
            "Epoch 33/135\n",
            "3/3 [==============================] - 0s 77ms/step - loss: 0.0567 - accuracy: 1.0000\n",
            "Epoch 34/135\n",
            "3/3 [==============================] - 0s 73ms/step - loss: 0.0520 - accuracy: 1.0000\n",
            "Epoch 35/135\n",
            "3/3 [==============================] - 0s 72ms/step - loss: 0.0469 - accuracy: 1.0000\n",
            "Epoch 36/135\n",
            "3/3 [==============================] - 0s 72ms/step - loss: 0.0424 - accuracy: 1.0000\n",
            "Epoch 37/135\n",
            "3/3 [==============================] - 0s 74ms/step - loss: 0.0391 - accuracy: 1.0000\n",
            "Epoch 38/135\n",
            "3/3 [==============================] - 0s 74ms/step - loss: 0.0384 - accuracy: 1.0000\n",
            "Epoch 39/135\n",
            "3/3 [==============================] - 0s 77ms/step - loss: 0.0335 - accuracy: 1.0000\n",
            "Epoch 40/135\n",
            "3/3 [==============================] - 0s 76ms/step - loss: 0.0309 - accuracy: 1.0000\n",
            "Epoch 41/135\n",
            "3/3 [==============================] - 0s 79ms/step - loss: 0.0287 - accuracy: 1.0000\n",
            "Epoch 42/135\n",
            "3/3 [==============================] - 0s 75ms/step - loss: 0.0274 - accuracy: 1.0000\n",
            "Epoch 43/135\n",
            "3/3 [==============================] - 0s 77ms/step - loss: 0.0249 - accuracy: 1.0000\n",
            "Epoch 44/135\n",
            "3/3 [==============================] - 0s 74ms/step - loss: 0.0234 - accuracy: 1.0000\n",
            "Epoch 45/135\n",
            "3/3 [==============================] - 0s 73ms/step - loss: 0.0223 - accuracy: 1.0000\n",
            "Epoch 46/135\n",
            "3/3 [==============================] - 0s 74ms/step - loss: 0.0232 - accuracy: 1.0000\n",
            "Epoch 47/135\n",
            "3/3 [==============================] - 0s 77ms/step - loss: 0.0188 - accuracy: 1.0000\n",
            "Epoch 48/135\n",
            "3/3 [==============================] - 0s 76ms/step - loss: 0.0193 - accuracy: 1.0000\n",
            "Epoch 49/135\n",
            "3/3 [==============================] - 0s 74ms/step - loss: 0.0161 - accuracy: 1.0000\n",
            "Epoch 50/135\n",
            "3/3 [==============================] - 0s 74ms/step - loss: 0.0156 - accuracy: 1.0000\n",
            "Epoch 51/135\n",
            "3/3 [==============================] - 0s 73ms/step - loss: 0.0147 - accuracy: 1.0000\n",
            "Epoch 52/135\n",
            "3/3 [==============================] - 0s 77ms/step - loss: 0.0134 - accuracy: 1.0000\n",
            "Epoch 53/135\n",
            "3/3 [==============================] - 0s 73ms/step - loss: 0.0134 - accuracy: 1.0000\n",
            "Epoch 54/135\n",
            "3/3 [==============================] - 0s 76ms/step - loss: 0.0124 - accuracy: 1.0000\n",
            "Epoch 55/135\n",
            "3/3 [==============================] - 0s 72ms/step - loss: 0.0116 - accuracy: 1.0000\n",
            "Epoch 56/135\n",
            "3/3 [==============================] - 0s 74ms/step - loss: 0.0150 - accuracy: 1.0000\n",
            "Epoch 57/135\n",
            "3/3 [==============================] - 0s 74ms/step - loss: 0.0105 - accuracy: 1.0000\n",
            "Epoch 58/135\n",
            "3/3 [==============================] - 0s 75ms/step - loss: 0.0095 - accuracy: 1.0000\n",
            "Epoch 59/135\n",
            "3/3 [==============================] - 0s 74ms/step - loss: 0.0115 - accuracy: 1.0000\n",
            "Epoch 60/135\n",
            "3/3 [==============================] - 0s 78ms/step - loss: 0.0088 - accuracy: 1.0000\n",
            "Epoch 61/135\n",
            "3/3 [==============================] - 0s 79ms/step - loss: 0.0081 - accuracy: 1.0000\n",
            "Epoch 62/135\n",
            "3/3 [==============================] - 0s 73ms/step - loss: 0.0112 - accuracy: 1.0000\n",
            "Epoch 63/135\n",
            "3/3 [==============================] - 0s 73ms/step - loss: 0.0072 - accuracy: 1.0000\n",
            "Epoch 64/135\n",
            "3/3 [==============================] - 0s 80ms/step - loss: 0.0074 - accuracy: 1.0000\n",
            "Epoch 65/135\n",
            "3/3 [==============================] - 0s 76ms/step - loss: 0.0064 - accuracy: 1.0000\n",
            "Epoch 66/135\n",
            "3/3 [==============================] - 0s 77ms/step - loss: 0.0082 - accuracy: 1.0000\n",
            "Epoch 67/135\n",
            "3/3 [==============================] - 0s 72ms/step - loss: 0.0062 - accuracy: 1.0000\n",
            "Epoch 68/135\n",
            "3/3 [==============================] - 0s 77ms/step - loss: 0.0090 - accuracy: 1.0000\n",
            "Epoch 69/135\n",
            "3/3 [==============================] - 0s 75ms/step - loss: 0.0057 - accuracy: 1.0000\n",
            "Epoch 70/135\n",
            "3/3 [==============================] - 0s 80ms/step - loss: 0.0053 - accuracy: 1.0000\n",
            "Epoch 71/135\n",
            "3/3 [==============================] - 0s 74ms/step - loss: 0.0055 - accuracy: 1.0000\n",
            "Epoch 72/135\n",
            "3/3 [==============================] - 0s 76ms/step - loss: 0.0052 - accuracy: 1.0000\n",
            "Epoch 73/135\n",
            "3/3 [==============================] - 0s 74ms/step - loss: 0.0063 - accuracy: 1.0000\n",
            "Epoch 74/135\n",
            "3/3 [==============================] - 0s 80ms/step - loss: 0.0050 - accuracy: 1.0000\n",
            "Epoch 75/135\n",
            "3/3 [==============================] - 0s 75ms/step - loss: 0.0047 - accuracy: 1.0000\n",
            "Epoch 76/135\n",
            "3/3 [==============================] - 0s 74ms/step - loss: 0.0086 - accuracy: 1.0000\n",
            "Epoch 77/135\n",
            "3/3 [==============================] - 0s 76ms/step - loss: 0.0048 - accuracy: 1.0000\n",
            "Epoch 78/135\n",
            "3/3 [==============================] - 0s 74ms/step - loss: 0.0043 - accuracy: 1.0000\n",
            "Epoch 79/135\n",
            "3/3 [==============================] - 0s 74ms/step - loss: 0.0041 - accuracy: 1.0000\n",
            "Epoch 80/135\n",
            "3/3 [==============================] - 0s 73ms/step - loss: 0.0040 - accuracy: 1.0000\n",
            "Epoch 81/135\n",
            "3/3 [==============================] - 0s 75ms/step - loss: 0.0061 - accuracy: 1.0000\n",
            "Epoch 82/135\n",
            "3/3 [==============================] - 0s 75ms/step - loss: 0.0048 - accuracy: 1.0000\n",
            "Epoch 83/135\n",
            "3/3 [==============================] - 0s 81ms/step - loss: 0.0040 - accuracy: 1.0000\n",
            "Epoch 84/135\n",
            "3/3 [==============================] - 0s 72ms/step - loss: 0.0038 - accuracy: 1.0000\n",
            "Epoch 85/135\n",
            "3/3 [==============================] - 0s 76ms/step - loss: 0.0037 - accuracy: 1.0000\n",
            "Epoch 86/135\n",
            "3/3 [==============================] - 0s 75ms/step - loss: 0.0036 - accuracy: 1.0000\n",
            "Epoch 87/135\n",
            "3/3 [==============================] - 0s 74ms/step - loss: 0.0040 - accuracy: 1.0000\n",
            "Epoch 88/135\n",
            "3/3 [==============================] - 0s 71ms/step - loss: 0.0050 - accuracy: 1.0000\n",
            "Epoch 89/135\n",
            "3/3 [==============================] - 0s 75ms/step - loss: 0.0037 - accuracy: 1.0000\n",
            "Epoch 90/135\n",
            "3/3 [==============================] - 0s 75ms/step - loss: 0.0036 - accuracy: 1.0000\n",
            "Epoch 91/135\n",
            "3/3 [==============================] - 0s 74ms/step - loss: 0.0034 - accuracy: 1.0000\n",
            "Epoch 92/135\n",
            "3/3 [==============================] - 0s 78ms/step - loss: 0.0038 - accuracy: 1.0000\n",
            "Epoch 93/135\n",
            "3/3 [==============================] - 0s 72ms/step - loss: 0.0039 - accuracy: 1.0000\n",
            "Epoch 94/135\n",
            "3/3 [==============================] - 0s 72ms/step - loss: 0.0034 - accuracy: 1.0000\n",
            "Epoch 95/135\n",
            "3/3 [==============================] - 0s 79ms/step - loss: 0.0032 - accuracy: 1.0000\n",
            "Epoch 96/135\n",
            "3/3 [==============================] - 0s 78ms/step - loss: 0.0044 - accuracy: 1.0000\n",
            "Epoch 97/135\n",
            "3/3 [==============================] - 0s 76ms/step - loss: 0.0034 - accuracy: 1.0000\n",
            "Epoch 98/135\n",
            "3/3 [==============================] - 0s 74ms/step - loss: 0.0047 - accuracy: 1.0000\n",
            "Epoch 99/135\n",
            "3/3 [==============================] - 0s 74ms/step - loss: 0.0032 - accuracy: 1.0000\n",
            "Epoch 100/135\n",
            "3/3 [==============================] - 0s 74ms/step - loss: 0.0034 - accuracy: 1.0000\n",
            "Epoch 101/135\n",
            "3/3 [==============================] - 0s 78ms/step - loss: 0.0033 - accuracy: 1.0000\n",
            "Epoch 102/135\n",
            "3/3 [==============================] - 0s 72ms/step - loss: 0.0061 - accuracy: 1.0000\n",
            "Epoch 103/135\n",
            "3/3 [==============================] - 0s 76ms/step - loss: 0.0032 - accuracy: 1.0000\n",
            "Epoch 104/135\n",
            "3/3 [==============================] - 0s 74ms/step - loss: 0.0032 - accuracy: 1.0000\n",
            "Epoch 105/135\n",
            "3/3 [==============================] - 0s 80ms/step - loss: 0.0033 - accuracy: 1.0000\n",
            "Epoch 106/135\n",
            "3/3 [==============================] - 0s 76ms/step - loss: 0.0030 - accuracy: 1.0000\n",
            "Epoch 107/135\n",
            "3/3 [==============================] - 0s 76ms/step - loss: 0.0036 - accuracy: 1.0000\n",
            "Epoch 108/135\n",
            "3/3 [==============================] - 0s 75ms/step - loss: 0.0036 - accuracy: 1.0000\n",
            "Epoch 109/135\n",
            "3/3 [==============================] - 0s 75ms/step - loss: 0.0030 - accuracy: 1.0000\n",
            "Epoch 110/135\n",
            "3/3 [==============================] - 0s 72ms/step - loss: 0.0041 - accuracy: 1.0000\n",
            "Epoch 111/135\n",
            "3/3 [==============================] - 0s 75ms/step - loss: 0.0030 - accuracy: 1.0000\n",
            "Epoch 112/135\n",
            "3/3 [==============================] - 0s 77ms/step - loss: 0.0033 - accuracy: 1.0000\n",
            "Epoch 113/135\n",
            "3/3 [==============================] - 0s 72ms/step - loss: 0.0035 - accuracy: 1.0000\n",
            "Epoch 114/135\n",
            "3/3 [==============================] - 0s 76ms/step - loss: 0.0035 - accuracy: 1.0000\n",
            "Epoch 115/135\n",
            "3/3 [==============================] - 0s 77ms/step - loss: 0.0029 - accuracy: 1.0000\n",
            "Epoch 116/135\n",
            "3/3 [==============================] - 0s 76ms/step - loss: 0.0030 - accuracy: 1.0000\n",
            "Epoch 117/135\n",
            "3/3 [==============================] - 0s 75ms/step - loss: 0.0030 - accuracy: 1.0000\n",
            "Epoch 118/135\n",
            "3/3 [==============================] - 0s 76ms/step - loss: 0.0033 - accuracy: 1.0000\n",
            "Epoch 119/135\n",
            "3/3 [==============================] - 0s 74ms/step - loss: 0.0029 - accuracy: 1.0000\n",
            "Epoch 120/135\n",
            "3/3 [==============================] - 0s 76ms/step - loss: 0.0044 - accuracy: 1.0000\n",
            "Epoch 121/135\n",
            "3/3 [==============================] - 0s 75ms/step - loss: 0.0030 - accuracy: 1.0000\n",
            "Epoch 122/135\n",
            "3/3 [==============================] - 0s 74ms/step - loss: 0.0031 - accuracy: 1.0000\n",
            "Epoch 123/135\n",
            "3/3 [==============================] - 0s 75ms/step - loss: 0.0029 - accuracy: 1.0000\n",
            "Epoch 124/135\n",
            "3/3 [==============================] - 0s 77ms/step - loss: 0.0027 - accuracy: 1.0000\n",
            "Epoch 125/135\n",
            "3/3 [==============================] - 0s 77ms/step - loss: 0.0027 - accuracy: 1.0000\n",
            "Epoch 126/135\n",
            "3/3 [==============================] - 0s 74ms/step - loss: 0.0035 - accuracy: 1.0000\n",
            "Epoch 127/135\n",
            "3/3 [==============================] - 0s 75ms/step - loss: 0.0028 - accuracy: 1.0000\n",
            "Epoch 128/135\n",
            "3/3 [==============================] - 0s 74ms/step - loss: 0.0032 - accuracy: 1.0000\n",
            "Epoch 129/135\n",
            "3/3 [==============================] - 0s 80ms/step - loss: 0.0059 - accuracy: 1.0000\n",
            "Epoch 130/135\n",
            "3/3 [==============================] - 0s 74ms/step - loss: 0.0025 - accuracy: 1.0000\n",
            "Epoch 131/135\n",
            "3/3 [==============================] - 0s 73ms/step - loss: 0.0029 - accuracy: 1.0000\n",
            "Epoch 132/135\n",
            "3/3 [==============================] - 0s 74ms/step - loss: 0.0034 - accuracy: 1.0000\n",
            "Epoch 133/135\n",
            "3/3 [==============================] - 0s 74ms/step - loss: 0.0026 - accuracy: 1.0000\n",
            "Epoch 134/135\n",
            "3/3 [==============================] - 0s 74ms/step - loss: 0.0029 - accuracy: 1.0000\n",
            "Epoch 135/135\n",
            "3/3 [==============================] - 0s 74ms/step - loss: 0.0029 - accuracy: 1.0000\n"
          ],
          "name": "stdout"
        }
      ]
    },
    {
      "cell_type": "code",
      "metadata": {
        "id": "WEc4HZWz5wX_",
        "colab": {
          "base_uri": "https://localhost:8080/"
        },
        "outputId": "4d4cb3aa-703d-4985-c15c-2d64956c0bdc"
      },
      "source": [
        "history_dict = history.history\n",
        "history_dict.keys()\n",
        "[u'accuracy', u'loss']"
      ],
      "execution_count": null,
      "outputs": [
        {
          "output_type": "execute_result",
          "data": {
            "text/plain": [
              "['accuracy', 'loss']"
            ]
          },
          "metadata": {
            "tags": []
          },
          "execution_count": 12
        }
      ]
    },
    {
      "cell_type": "code",
      "metadata": {
        "colab": {
          "base_uri": "https://localhost:8080/",
          "height": 295
        },
        "id": "uIRkeh8FzaEw",
        "outputId": "a55a0959-6b92-4b37-d623-c2c30f456c4f"
      },
      "source": [
        "history_dict = history.history\n",
        "loss_values = history_dict['loss']\n",
        "val_accuracy = history_dict['accuracy']\n",
        "epochs = range(1, len(history_dict['accuracy']) + 1)\n",
        "plt.plot(epochs, loss_values, 'r', label='loss')\n",
        "plt.plot(epochs, val_accuracy, 'b', label='accuracy')\n",
        "plt.title('loss and accuracy')\n",
        "plt.xlabel('Epochs')\n",
        "plt.ylabel('Loss')\n",
        "plt.legend()\n",
        "plt.grid()\n",
        "plt.show()"
      ],
      "execution_count": null,
      "outputs": [
        {
          "output_type": "display_data",
          "data": {
            "image/png": "[encoded data removed]",
            "text/plain": [
              "<Figure size 432x288 with 1 Axes>"
            ]
          },
          "metadata": {
            "tags": [],
            "needs_background": "light"
          }
        }
      ]
    },
    {
      "cell_type": "code",
      "metadata": {
        "colab": {
          "base_uri": "https://localhost:8080/"
        },
        "id": "gVBxoqrOzaX5",
        "outputId": "1d46320d-3b5c-4289-9f18-8b6ca6201be3"
      },
      "source": [
        "network.evaluate(x_test,y_test)"
      ],
      "execution_count": null,
      "outputs": [
        {
          "output_type": "stream",
          "text": [
            "2/2 [==============================] - 0s 16ms/step - loss: 0.0028 - accuracy: 1.0000\n"
          ],
          "name": "stdout"
        },
        {
          "output_type": "execute_result",
          "data": {
            "text/plain": [
              "[0.0028148286510258913, 1.0]"
            ]
          },
          "metadata": {
            "tags": []
          },
          "execution_count": 14
        }
      ]
    },
    {
      "cell_type": "code",
      "metadata": {
        "colab": {
          "base_uri": "https://localhost:8080/"
        },
        "id": "ujxjFJ32zaty",
        "outputId": "fc85ae12-80f9-4669-91db-04efa9a2f47b"
      },
      "source": [
        "pred = network.predict_classes(x_test[:10])\n",
        "for i in range(len(pred)):\n",
        "    print(pred[i],y_test[i])"
      ],
      "execution_count": null,
      "outputs": [
        {
          "output_type": "stream",
          "text": [
            "1 [1.]\n",
            "1 [1.]\n",
            "1 [1.]\n",
            "1 [1.]\n",
            "1 [1.]\n",
            "1 [1.]\n",
            "1 [1.]\n",
            "1 [1.]\n",
            "1 [1.]\n",
            "1 [1.]\n"
          ],
          "name": "stdout"
        },
        {
          "output_type": "stream",
          "text": [
            "/usr/local/lib/python3.7/dist-packages/tensorflow/python/keras/engine/sequential.py:450: UserWarning: `model.predict_classes()` is deprecated and will be removed after 2021-01-01. Please use instead:* `np.argmax(model.predict(x), axis=-1)`,   if your model does multi-class classification   (e.g. if it uses a `softmax` last-layer activation).* `(model.predict(x) > 0.5).astype(\"int32\")`,   if your model does binary classification   (e.g. if it uses a `sigmoid` last-layer activation).\n",
            "  warnings.warn('`model.predict_classes()` is deprecated and '\n"
          ],
          "name": "stderr"
        }
      ]
    },
    {
      "cell_type": "code",
      "metadata": {
        "colab": {
          "base_uri": "https://localhost:8080/",
          "height": 334
        },
        "id": "B8_ye3O7zgG6",
        "outputId": "49a04271-4117-4352-a352-602fc4832886"
      },
      "source": [
        "plt.figure(figsize=(20,5))\n",
        "plt.subplot(1, 2, 1 )\n",
        "plt.hist(y_test[:10])\n",
        "plt.xlabel('original target val')\n",
        "plt.ylabel('count')\n",
        "plt.subplot(1, 2, 2)\n",
        "plt.hist(pred)\n",
        "plt.xlabel('aggregated target val')\n",
        "plt.ylabel('count')\n",
        "plt.show()"
      ],
      "execution_count": null,
      "outputs": [
        {
          "output_type": "display_data",
          "data": {
            "image/png": "[encoded data removed]",
            "text/plain": [
              "<Figure size 1440x360 with 2 Axes>"
            ]
          },
          "metadata": {
            "tags": [],
            "needs_background": "light"
          }
        }
      ]
    }
  ]
}