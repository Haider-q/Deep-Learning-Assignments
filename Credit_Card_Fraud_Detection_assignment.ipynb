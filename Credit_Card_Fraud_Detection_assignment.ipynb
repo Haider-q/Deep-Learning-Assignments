{
  "nbformat": 4,
  "nbformat_minor": 0,
  "metadata": {
    "kernelspec": {
      "display_name": "Python 3",
      "language": "python",
      "name": "python3"
    },
    "language_info": {
      "codemirror_mode": {
        "name": "ipython",
        "version": 3
      },
      "file_extension": ".py",
      "mimetype": "text/x-python",
      "name": "python",
      "nbconvert_exporter": "python",
      "pygments_lexer": "ipython3",
      "version": "3.7.3"
    },
    "colab": {
      "name": "Credit Card Fraud Detection assignment.ipynb",
      "provenance": [],
      "collapsed_sections": [],
      "include_colab_link": true
    }
  },
  "cells": [
    {
      "cell_type": "markdown",
      "metadata": {
        "id": "view-in-github",
        "colab_type": "text"
      },
      "source": [
        "<a href=\"https://colab.research.google.com/github/Haider-q/Deep-Learning-Assignments/blob/main/Credit_Card_Fraud_Detection_assignment.ipynb\" target=\"_parent\"><img src=\"https://colab.research.google.com/assets/colab-badge.svg\" alt=\"Open In Colab\"/></a>"
      ]
    },
    {
      "cell_type": "markdown",
      "metadata": {
        "id": "e1h2QOQ2DAhv"
      },
      "source": [
        "# Credit Card Fraud Detection::"
      ]
    },
    {
      "cell_type": "markdown",
      "metadata": {
        "id": "5TbLnmzDDAh8"
      },
      "source": [
        "Download dataset from this link:\n",
        "\n",
        "https://www.kaggle.com/mlg-ulb/creditcardfraud"
      ]
    },
    {
      "cell_type": "markdown",
      "metadata": {
        "id": "_vUiAYV-DAh-"
      },
      "source": [
        "# Description about dataset::"
      ]
    },
    {
      "cell_type": "markdown",
      "metadata": {
        "id": "Rp_nBTF6DAh-"
      },
      "source": [
        "The datasets contains transactions made by credit cards in September 2013 by european cardholders.\n",
        "This dataset presents transactions that occurred in two days, where we have 492 frauds out of 284,807 transactions. The dataset is highly unbalanced, the positive class (frauds) account for 0.172% of all transactions.\n",
        "\n",
        "It contains only numerical input variables which are the result of a PCA transformation. Unfortunately, due to confidentiality issues, we cannot provide the original features and more background information about the data. Features V1, V2, … V28 are the principal components obtained with PCA, the only features which have not been transformed with PCA are 'Time' and 'Amount'. Feature 'Time' contains the seconds elapsed between each transaction and the first transaction in the dataset. The feature 'Amount' is the transaction Amount, this feature can be used for example-dependant cost-senstive learning. \n",
        "\n",
        "\n",
        "### Feature 'Class' is the response variable and it takes value 1 in case of fraud and 0 otherwise."
      ]
    },
    {
      "cell_type": "markdown",
      "metadata": {
        "id": "rBzVNjs0DAh_"
      },
      "source": [
        "# WORKFLOW :"
      ]
    },
    {
      "cell_type": "markdown",
      "metadata": {
        "id": "Gnf3bvL_DAiA"
      },
      "source": [
        "1.Load Data\n",
        "\n",
        "2.Check Missing Values ( If Exist ; Fill each record with mean of its feature )\n",
        "\n",
        "3.Standardized the Input Variables. \n",
        "\n",
        "4.Split into 50% Training(Samples,Labels) , 30% Test(Samples,Labels) and 20% Validation Data(Samples,Labels).\n",
        "\n",
        "5.Model : input Layer (No. of features ), 3 hidden layers including 10,8,6 unit & Output Layer with activation function relu/tanh (check by experiment).\n",
        "\n",
        "6.Compilation Step (Note : Its a Binary problem , select loss , metrics according to it)\n",
        "\n",
        "7.Train the Model with Epochs (100).\n",
        "\n",
        "8.If the model gets overfit tune your model by changing the units , No. of layers , epochs , add dropout layer or add Regularizer according to the need .\n",
        "\n",
        "9.Prediction should be > 92%\n",
        "10.Evaluation Step\n",
        "11Prediction\n"
      ]
    },
    {
      "cell_type": "markdown",
      "metadata": {
        "id": "uVdW_odRDAiB"
      },
      "source": [
        "# Task::"
      ]
    },
    {
      "cell_type": "code",
      "metadata": {
        "colab": {
          "base_uri": "https://localhost:8080/"
        },
        "id": "_I1-bnDZDAiD",
        "outputId": "65146926-5f2f-4229-eb34-8d0c199a2fcb"
      },
      "source": [
        "from google.colab import drive\n",
        "drive.mount('/content/drive')"
      ],
      "execution_count": 3,
      "outputs": [
        {
          "output_type": "stream",
          "text": [
            "Drive already mounted at /content/drive; to attempt to forcibly remount, call drive.mount(\"/content/drive\", force_remount=True).\n"
          ],
          "name": "stdout"
        }
      ]
    },
    {
      "cell_type": "markdown",
      "metadata": {
        "id": "4bjlC--mDAiB"
      },
      "source": [
        "## Identify fraudulent credit card transactions."
      ]
    },
    {
      "cell_type": "code",
      "metadata": {
        "id": "n_7vJDUSDAiC"
      },
      "source": [
        "import pandas as pd\n",
        "import numpy as np\n",
        "import matplotlib.pyplot as plt\n",
        "import tensorflow as tf\n",
        "from tensorflow.keras import models\n",
        "from tensorflow.keras import layers"
      ],
      "execution_count": 5,
      "outputs": []
    },
    {
      "cell_type": "markdown",
      "metadata": {
        "id": "poWyyd02EIlA"
      },
      "source": [
        "# Load Data"
      ]
    },
    {
      "cell_type": "code",
      "metadata": {
        "id": "sHECPaH8DAiD"
      },
      "source": [
        "data = pd.read_csv('/content/creditcard.csv')"
      ],
      "execution_count": 6,
      "outputs": []
    },
    {
      "cell_type": "code",
      "metadata": {
        "id": "XROpAlg6DAiD",
        "colab": {
          "base_uri": "https://localhost:8080/",
          "height": 304
        },
        "outputId": "30797170-129d-4344-82c1-10f7946e6ad9"
      },
      "source": [
        "data.describe()"
      ],
      "execution_count": 7,
      "outputs": [
        {
          "output_type": "execute_result",
          "data": {
            "text/html": [
              "<div>\n",
              "<style scoped>\n",
              "    .dataframe tbody tr th:only-of-type {\n",
              "        vertical-align: middle;\n",
              "    }\n",
              "\n",
              "    .dataframe tbody tr th {\n",
              "        vertical-align: top;\n",
              "    }\n",
              "\n",
              "    .dataframe thead th {\n",
              "        text-align: right;\n",
              "    }\n",
              "</style>\n",
              "<table border=\"1\" class=\"dataframe\">\n",
              "  <thead>\n",
              "    <tr style=\"text-align: right;\">\n",
              "      <th></th>\n",
              "      <th>Time</th>\n",
              "      <th>V1</th>\n",
              "      <th>V2</th>\n",
              "      <th>V3</th>\n",
              "      <th>V4</th>\n",
              "      <th>V5</th>\n",
              "      <th>V6</th>\n",
              "      <th>V7</th>\n",
              "      <th>V8</th>\n",
              "      <th>V9</th>\n",
              "      <th>V10</th>\n",
              "      <th>V11</th>\n",
              "      <th>V12</th>\n",
              "      <th>V13</th>\n",
              "      <th>V14</th>\n",
              "      <th>V15</th>\n",
              "      <th>V16</th>\n",
              "      <th>V17</th>\n",
              "      <th>V18</th>\n",
              "      <th>V19</th>\n",
              "      <th>V20</th>\n",
              "      <th>V21</th>\n",
              "      <th>V22</th>\n",
              "      <th>V23</th>\n",
              "      <th>V24</th>\n",
              "      <th>V25</th>\n",
              "      <th>V26</th>\n",
              "      <th>V27</th>\n",
              "      <th>V28</th>\n",
              "      <th>Amount</th>\n",
              "      <th>Class</th>\n",
              "    </tr>\n",
              "  </thead>\n",
              "  <tbody>\n",
              "    <tr>\n",
              "      <th>count</th>\n",
              "      <td>13954.000000</td>\n",
              "      <td>13954.000000</td>\n",
              "      <td>13954.000000</td>\n",
              "      <td>13954.000000</td>\n",
              "      <td>13954.000000</td>\n",
              "      <td>13954.000000</td>\n",
              "      <td>13954.000000</td>\n",
              "      <td>13954.000000</td>\n",
              "      <td>13954.000000</td>\n",
              "      <td>13954.000000</td>\n",
              "      <td>13954.000000</td>\n",
              "      <td>13954.000000</td>\n",
              "      <td>13954.000000</td>\n",
              "      <td>13954.000000</td>\n",
              "      <td>13954.000000</td>\n",
              "      <td>13954.000000</td>\n",
              "      <td>13954.000000</td>\n",
              "      <td>13954.000000</td>\n",
              "      <td>13954.000000</td>\n",
              "      <td>13954.000000</td>\n",
              "      <td>13954.000000</td>\n",
              "      <td>13954.000000</td>\n",
              "      <td>13954.000000</td>\n",
              "      <td>13954.000000</td>\n",
              "      <td>13954.000000</td>\n",
              "      <td>13954.000000</td>\n",
              "      <td>13954.000000</td>\n",
              "      <td>13954.000000</td>\n",
              "      <td>13954.000000</td>\n",
              "      <td>13953.000000</td>\n",
              "      <td>13953.000000</td>\n",
              "    </tr>\n",
              "    <tr>\n",
              "      <th>mean</th>\n",
              "      <td>10121.161817</td>\n",
              "      <td>-0.235676</td>\n",
              "      <td>0.284287</td>\n",
              "      <td>0.846047</td>\n",
              "      <td>0.302775</td>\n",
              "      <td>-0.118730</td>\n",
              "      <td>0.128013</td>\n",
              "      <td>-0.157297</td>\n",
              "      <td>-0.016148</td>\n",
              "      <td>0.989827</td>\n",
              "      <td>-0.333609</td>\n",
              "      <td>0.865847</td>\n",
              "      <td>-1.560515</td>\n",
              "      <td>1.008561</td>\n",
              "      <td>0.843260</td>\n",
              "      <td>-0.190991</td>\n",
              "      <td>-0.040584</td>\n",
              "      <td>0.420274</td>\n",
              "      <td>0.001080</td>\n",
              "      <td>-0.086197</td>\n",
              "      <td>0.022740</td>\n",
              "      <td>-0.068037</td>\n",
              "      <td>-0.157471</td>\n",
              "      <td>-0.035585</td>\n",
              "      <td>0.011158</td>\n",
              "      <td>0.117019</td>\n",
              "      <td>0.035544</td>\n",
              "      <td>0.012787</td>\n",
              "      <td>0.002122</td>\n",
              "      <td>63.882442</td>\n",
              "      <td>0.004013</td>\n",
              "    </tr>\n",
              "    <tr>\n",
              "      <th>std</th>\n",
              "      <td>7739.625811</td>\n",
              "      <td>1.720315</td>\n",
              "      <td>1.394804</td>\n",
              "      <td>1.561376</td>\n",
              "      <td>1.500595</td>\n",
              "      <td>1.289494</td>\n",
              "      <td>1.320395</td>\n",
              "      <td>1.238583</td>\n",
              "      <td>1.262024</td>\n",
              "      <td>1.214044</td>\n",
              "      <td>1.233066</td>\n",
              "      <td>1.193020</td>\n",
              "      <td>1.538233</td>\n",
              "      <td>1.159372</td>\n",
              "      <td>1.339198</td>\n",
              "      <td>0.979098</td>\n",
              "      <td>0.970020</td>\n",
              "      <td>1.226870</td>\n",
              "      <td>0.846063</td>\n",
              "      <td>0.826925</td>\n",
              "      <td>0.584038</td>\n",
              "      <td>0.873942</td>\n",
              "      <td>0.621845</td>\n",
              "      <td>0.499807</td>\n",
              "      <td>0.587225</td>\n",
              "      <td>0.427953</td>\n",
              "      <td>0.558290</td>\n",
              "      <td>0.399550</td>\n",
              "      <td>0.255710</td>\n",
              "      <td>177.887021</td>\n",
              "      <td>0.063227</td>\n",
              "    </tr>\n",
              "    <tr>\n",
              "      <th>min</th>\n",
              "      <td>0.000000</td>\n",
              "      <td>-27.670569</td>\n",
              "      <td>-34.607649</td>\n",
              "      <td>-24.667741</td>\n",
              "      <td>-4.657545</td>\n",
              "      <td>-32.092129</td>\n",
              "      <td>-23.496714</td>\n",
              "      <td>-26.548144</td>\n",
              "      <td>-23.632502</td>\n",
              "      <td>-7.175097</td>\n",
              "      <td>-14.166795</td>\n",
              "      <td>-2.595325</td>\n",
              "      <td>-17.769143</td>\n",
              "      <td>-3.389510</td>\n",
              "      <td>-19.214325</td>\n",
              "      <td>-4.152532</td>\n",
              "      <td>-12.227189</td>\n",
              "      <td>-18.587366</td>\n",
              "      <td>-8.061208</td>\n",
              "      <td>-4.932733</td>\n",
              "      <td>-13.276034</td>\n",
              "      <td>-11.468435</td>\n",
              "      <td>-8.593642</td>\n",
              "      <td>-19.254328</td>\n",
              "      <td>-2.512377</td>\n",
              "      <td>-4.781606</td>\n",
              "      <td>-1.338556</td>\n",
              "      <td>-7.976100</td>\n",
              "      <td>-3.575312</td>\n",
              "      <td>0.000000</td>\n",
              "      <td>0.000000</td>\n",
              "    </tr>\n",
              "    <tr>\n",
              "      <th>25%</th>\n",
              "      <td>2984.250000</td>\n",
              "      <td>-0.969786</td>\n",
              "      <td>-0.282728</td>\n",
              "      <td>0.407297</td>\n",
              "      <td>-0.623141</td>\n",
              "      <td>-0.717155</td>\n",
              "      <td>-0.624025</td>\n",
              "      <td>-0.616307</td>\n",
              "      <td>-0.182270</td>\n",
              "      <td>0.288101</td>\n",
              "      <td>-0.786564</td>\n",
              "      <td>0.069939</td>\n",
              "      <td>-2.474334</td>\n",
              "      <td>0.202567</td>\n",
              "      <td>0.266895</td>\n",
              "      <td>-0.773039</td>\n",
              "      <td>-0.529582</td>\n",
              "      <td>-0.054278</td>\n",
              "      <td>-0.436966</td>\n",
              "      <td>-0.574853</td>\n",
              "      <td>-0.162353</td>\n",
              "      <td>-0.271778</td>\n",
              "      <td>-0.549723</td>\n",
              "      <td>-0.173807</td>\n",
              "      <td>-0.339656</td>\n",
              "      <td>-0.135887</td>\n",
              "      <td>-0.374596</td>\n",
              "      <td>-0.076862</td>\n",
              "      <td>-0.014869</td>\n",
              "      <td>5.490000</td>\n",
              "      <td>0.000000</td>\n",
              "    </tr>\n",
              "    <tr>\n",
              "      <th>50%</th>\n",
              "      <td>9086.500000</td>\n",
              "      <td>-0.319439</td>\n",
              "      <td>0.252904</td>\n",
              "      <td>0.960978</td>\n",
              "      <td>0.220104</td>\n",
              "      <td>-0.191627</td>\n",
              "      <td>-0.144198</td>\n",
              "      <td>-0.111960</td>\n",
              "      <td>0.016945</td>\n",
              "      <td>0.971414</td>\n",
              "      <td>-0.382171</td>\n",
              "      <td>0.799094</td>\n",
              "      <td>-1.866619</td>\n",
              "      <td>1.107065</td>\n",
              "      <td>1.123058</td>\n",
              "      <td>-0.050635</td>\n",
              "      <td>0.029426</td>\n",
              "      <td>0.415021</td>\n",
              "      <td>0.053610</td>\n",
              "      <td>-0.087252</td>\n",
              "      <td>-0.038037</td>\n",
              "      <td>-0.132304</td>\n",
              "      <td>-0.122777</td>\n",
              "      <td>-0.045041</td>\n",
              "      <td>0.060208</td>\n",
              "      <td>0.155162</td>\n",
              "      <td>-0.035825</td>\n",
              "      <td>-0.000950</td>\n",
              "      <td>0.016238</td>\n",
              "      <td>15.690000</td>\n",
              "      <td>0.000000</td>\n",
              "    </tr>\n",
              "    <tr>\n",
              "      <th>75%</th>\n",
              "      <td>17103.500000</td>\n",
              "      <td>1.162662</td>\n",
              "      <td>0.884741</td>\n",
              "      <td>1.607031</td>\n",
              "      <td>1.198942</td>\n",
              "      <td>0.351255</td>\n",
              "      <td>0.508494</td>\n",
              "      <td>0.421830</td>\n",
              "      <td>0.265736</td>\n",
              "      <td>1.654184</td>\n",
              "      <td>0.124503</td>\n",
              "      <td>1.664089</td>\n",
              "      <td>-0.425290</td>\n",
              "      <td>1.862585</td>\n",
              "      <td>1.562890</td>\n",
              "      <td>0.485050</td>\n",
              "      <td>0.532973</td>\n",
              "      <td>0.895445</td>\n",
              "      <td>0.496725</td>\n",
              "      <td>0.435214</td>\n",
              "      <td>0.138816</td>\n",
              "      <td>0.018677</td>\n",
              "      <td>0.228997</td>\n",
              "      <td>0.069750</td>\n",
              "      <td>0.392734</td>\n",
              "      <td>0.393032</td>\n",
              "      <td>0.375271</td>\n",
              "      <td>0.098516</td>\n",
              "      <td>0.072497</td>\n",
              "      <td>52.150000</td>\n",
              "      <td>0.000000</td>\n",
              "    </tr>\n",
              "    <tr>\n",
              "      <th>max</th>\n",
              "      <td>24759.000000</td>\n",
              "      <td>1.960497</td>\n",
              "      <td>10.558600</td>\n",
              "      <td>4.101716</td>\n",
              "      <td>11.927512</td>\n",
              "      <td>34.099309</td>\n",
              "      <td>21.393069</td>\n",
              "      <td>34.303177</td>\n",
              "      <td>10.535558</td>\n",
              "      <td>10.392889</td>\n",
              "      <td>12.259949</td>\n",
              "      <td>12.018913</td>\n",
              "      <td>3.774837</td>\n",
              "      <td>4.465413</td>\n",
              "      <td>7.692209</td>\n",
              "      <td>3.635042</td>\n",
              "      <td>4.816252</td>\n",
              "      <td>9.253526</td>\n",
              "      <td>4.295648</td>\n",
              "      <td>4.555359</td>\n",
              "      <td>8.012574</td>\n",
              "      <td>22.614889</td>\n",
              "      <td>4.534454</td>\n",
              "      <td>13.876221</td>\n",
              "      <td>3.200201</td>\n",
              "      <td>5.525093</td>\n",
              "      <td>3.517346</td>\n",
              "      <td>8.254376</td>\n",
              "      <td>4.860769</td>\n",
              "      <td>7712.430000</td>\n",
              "      <td>1.000000</td>\n",
              "    </tr>\n",
              "  </tbody>\n",
              "</table>\n",
              "</div>"
            ],
            "text/plain": [
              "               Time            V1  ...        Amount         Class\n",
              "count  13954.000000  13954.000000  ...  13953.000000  13953.000000\n",
              "mean   10121.161817     -0.235676  ...     63.882442      0.004013\n",
              "std     7739.625811      1.720315  ...    177.887021      0.063227\n",
              "min        0.000000    -27.670569  ...      0.000000      0.000000\n",
              "25%     2984.250000     -0.969786  ...      5.490000      0.000000\n",
              "50%     9086.500000     -0.319439  ...     15.690000      0.000000\n",
              "75%    17103.500000      1.162662  ...     52.150000      0.000000\n",
              "max    24759.000000      1.960497  ...   7712.430000      1.000000\n",
              "\n",
              "[8 rows x 31 columns]"
            ]
          },
          "metadata": {
            "tags": []
          },
          "execution_count": 7
        }
      ]
    },
    {
      "cell_type": "code",
      "metadata": {
        "id": "-eKvJUgwDAiE",
        "colab": {
          "base_uri": "https://localhost:8080/"
        },
        "outputId": "480e8e71-8923-45b4-d955-b861d6dd10df"
      },
      "source": [
        "data.columns"
      ],
      "execution_count": 8,
      "outputs": [
        {
          "output_type": "execute_result",
          "data": {
            "text/plain": [
              "Index(['Time', 'V1', 'V2', 'V3', 'V4', 'V5', 'V6', 'V7', 'V8', 'V9', 'V10',\n",
              "       'V11', 'V12', 'V13', 'V14', 'V15', 'V16', 'V17', 'V18', 'V19', 'V20',\n",
              "       'V21', 'V22', 'V23', 'V24', 'V25', 'V26', 'V27', 'V28', 'Amount',\n",
              "       'Class'],\n",
              "      dtype='object')"
            ]
          },
          "metadata": {
            "tags": []
          },
          "execution_count": 8
        }
      ]
    },
    {
      "cell_type": "markdown",
      "metadata": {
        "id": "GcT4fmLDHv48"
      },
      "source": [
        "# Check Missing Values ( If Exist ; Fill each record with mean of its feature )"
      ]
    },
    {
      "cell_type": "code",
      "metadata": {
        "id": "DlvZApN-DAiE",
        "colab": {
          "base_uri": "https://localhost:8080/"
        },
        "outputId": "7e01d98e-118e-4cc4-9fc3-91009caf0b00"
      },
      "source": [
        "%time data.isnull().any()"
      ],
      "execution_count": 34,
      "outputs": [
        {
          "output_type": "stream",
          "text": [
            "CPU times: user 3.23 ms, sys: 19 µs, total: 3.25 ms\n",
            "Wall time: 3.16 ms\n"
          ],
          "name": "stdout"
        },
        {
          "output_type": "execute_result",
          "data": {
            "text/plain": [
              "Time      False\n",
              "V1        False\n",
              "V2        False\n",
              "V3        False\n",
              "V4        False\n",
              "V5        False\n",
              "V6        False\n",
              "V7        False\n",
              "V8        False\n",
              "V9        False\n",
              "V10       False\n",
              "V11       False\n",
              "V12       False\n",
              "V13       False\n",
              "V14       False\n",
              "V15       False\n",
              "V16       False\n",
              "V17       False\n",
              "V18       False\n",
              "V19       False\n",
              "V20       False\n",
              "V21       False\n",
              "V22       False\n",
              "V23       False\n",
              "V24       False\n",
              "V25       False\n",
              "V26       False\n",
              "V27       False\n",
              "V28       False\n",
              "Amount    False\n",
              "Class     False\n",
              "dtype: bool"
            ]
          },
          "metadata": {
            "tags": []
          },
          "execution_count": 34
        }
      ]
    },
    {
      "cell_type": "code",
      "metadata": {
        "id": "H-KHN3pfDAiE",
        "colab": {
          "base_uri": "https://localhost:8080/"
        },
        "outputId": "d3c7def9-954d-42a1-ce4a-e68b0ee44157"
      },
      "source": [
        "print(data['Amount'])\n",
        "print(\"\")\n",
        "print(data['Class'])"
      ],
      "execution_count": 32,
      "outputs": [
        {
          "output_type": "stream",
          "text": [
            "0        149.62\n",
            "1          2.69\n",
            "2        378.66\n",
            "3        123.50\n",
            "4         69.99\n",
            "          ...  \n",
            "13949     23.74\n",
            "13950    794.20\n",
            "13951     60.00\n",
            "13952     90.00\n",
            "13953      0.00\n",
            "Name: Amount, Length: 13954, dtype: float64\n",
            "\n",
            "0        0.0\n",
            "1        0.0\n",
            "2        0.0\n",
            "3        0.0\n",
            "4        0.0\n",
            "        ... \n",
            "13949    0.0\n",
            "13950    0.0\n",
            "13951    0.0\n",
            "13952    0.0\n",
            "13953    0.0\n",
            "Name: Class, Length: 13954, dtype: float64\n"
          ],
          "name": "stdout"
        }
      ]
    },
    {
      "cell_type": "code",
      "metadata": {
        "id": "R_CXB6ciDAiF"
      },
      "source": [
        "data['Amount'].fillna(0 ,inplace=True)\n",
        "data['Class'].fillna(0 ,inplace=True)"
      ],
      "execution_count": 35,
      "outputs": []
    },
    {
      "cell_type": "markdown",
      "metadata": {
        "id": "kpFTPG6tK7yP"
      },
      "source": [
        "\n",
        "# Standardized the Input Variables"
      ]
    },
    {
      "cell_type": "code",
      "metadata": {
        "id": "Wmr1jiwjDAiF"
      },
      "source": [
        "data.reset_index(drop=True, inplace=True)\n",
        "labels = data.pop('Class')"
      ],
      "execution_count": 36,
      "outputs": []
    },
    {
      "cell_type": "code",
      "metadata": {
        "id": "IQsGumi7DAiG"
      },
      "source": [
        "data -= data.mean()\n",
        "data /= data.std()"
      ],
      "execution_count": 37,
      "outputs": []
    },
    {
      "cell_type": "code",
      "metadata": {
        "id": "B0qkD9hkDAiG",
        "colab": {
          "base_uri": "https://localhost:8080/",
          "height": 371
        },
        "outputId": "470e81b1-4eed-43c0-8457-1cf779bc6d1d"
      },
      "source": [
        "data.describe()"
      ],
      "execution_count": 38,
      "outputs": [
        {
          "output_type": "execute_result",
          "data": {
            "text/html": [
              "<div>\n",
              "<style scoped>\n",
              "    .dataframe tbody tr th:only-of-type {\n",
              "        vertical-align: middle;\n",
              "    }\n",
              "\n",
              "    .dataframe tbody tr th {\n",
              "        vertical-align: top;\n",
              "    }\n",
              "\n",
              "    .dataframe thead th {\n",
              "        text-align: right;\n",
              "    }\n",
              "</style>\n",
              "<table border=\"1\" class=\"dataframe\">\n",
              "  <thead>\n",
              "    <tr style=\"text-align: right;\">\n",
              "      <th></th>\n",
              "      <th>Time</th>\n",
              "      <th>V1</th>\n",
              "      <th>V2</th>\n",
              "      <th>V3</th>\n",
              "      <th>V4</th>\n",
              "      <th>V5</th>\n",
              "      <th>V6</th>\n",
              "      <th>V7</th>\n",
              "      <th>V8</th>\n",
              "      <th>V9</th>\n",
              "      <th>V10</th>\n",
              "      <th>V11</th>\n",
              "      <th>V12</th>\n",
              "      <th>V13</th>\n",
              "      <th>V14</th>\n",
              "      <th>V15</th>\n",
              "      <th>V16</th>\n",
              "      <th>V17</th>\n",
              "      <th>V18</th>\n",
              "      <th>V19</th>\n",
              "      <th>V20</th>\n",
              "      <th>V21</th>\n",
              "      <th>V22</th>\n",
              "      <th>V23</th>\n",
              "      <th>V24</th>\n",
              "      <th>V25</th>\n",
              "      <th>V26</th>\n",
              "      <th>V27</th>\n",
              "      <th>V28</th>\n",
              "      <th>Amount</th>\n",
              "    </tr>\n",
              "  </thead>\n",
              "  <tbody>\n",
              "    <tr>\n",
              "      <th>count</th>\n",
              "      <td>1.395400e+04</td>\n",
              "      <td>1.395400e+04</td>\n",
              "      <td>1.395400e+04</td>\n",
              "      <td>1.395400e+04</td>\n",
              "      <td>1.395400e+04</td>\n",
              "      <td>1.395400e+04</td>\n",
              "      <td>1.395400e+04</td>\n",
              "      <td>1.395400e+04</td>\n",
              "      <td>1.395400e+04</td>\n",
              "      <td>1.395400e+04</td>\n",
              "      <td>1.395400e+04</td>\n",
              "      <td>1.395400e+04</td>\n",
              "      <td>1.395400e+04</td>\n",
              "      <td>1.395400e+04</td>\n",
              "      <td>1.395400e+04</td>\n",
              "      <td>1.395400e+04</td>\n",
              "      <td>1.395400e+04</td>\n",
              "      <td>1.395400e+04</td>\n",
              "      <td>1.395400e+04</td>\n",
              "      <td>1.395400e+04</td>\n",
              "      <td>1.395400e+04</td>\n",
              "      <td>1.395400e+04</td>\n",
              "      <td>1.395400e+04</td>\n",
              "      <td>1.395400e+04</td>\n",
              "      <td>1.395400e+04</td>\n",
              "      <td>1.395400e+04</td>\n",
              "      <td>1.395400e+04</td>\n",
              "      <td>1.395400e+04</td>\n",
              "      <td>1.395400e+04</td>\n",
              "      <td>1.395400e+04</td>\n",
              "    </tr>\n",
              "    <tr>\n",
              "      <th>mean</th>\n",
              "      <td>-1.984016e-15</td>\n",
              "      <td>4.359101e-16</td>\n",
              "      <td>-2.072140e-16</td>\n",
              "      <td>-1.819607e-16</td>\n",
              "      <td>-3.998521e-16</td>\n",
              "      <td>1.874267e-16</td>\n",
              "      <td>7.363045e-16</td>\n",
              "      <td>-5.620335e-17</td>\n",
              "      <td>-1.714584e-17</td>\n",
              "      <td>1.805636e-15</td>\n",
              "      <td>-2.203579e-16</td>\n",
              "      <td>-1.815629e-16</td>\n",
              "      <td>1.233548e-15</td>\n",
              "      <td>-5.520245e-16</td>\n",
              "      <td>-1.930566e-15</td>\n",
              "      <td>2.314410e-16</td>\n",
              "      <td>8.449995e-17</td>\n",
              "      <td>-1.053477e-15</td>\n",
              "      <td>-2.130520e-16</td>\n",
              "      <td>8.291585e-16</td>\n",
              "      <td>5.123861e-16</td>\n",
              "      <td>-5.485396e-16</td>\n",
              "      <td>4.000431e-16</td>\n",
              "      <td>-2.604139e-16</td>\n",
              "      <td>1.640750e-16</td>\n",
              "      <td>-1.098925e-16</td>\n",
              "      <td>9.005564e-16</td>\n",
              "      <td>9.697146e-17</td>\n",
              "      <td>8.004044e-18</td>\n",
              "      <td>1.492622e-14</td>\n",
              "    </tr>\n",
              "    <tr>\n",
              "      <th>std</th>\n",
              "      <td>1.000000e+00</td>\n",
              "      <td>1.000000e+00</td>\n",
              "      <td>1.000000e+00</td>\n",
              "      <td>1.000000e+00</td>\n",
              "      <td>1.000000e+00</td>\n",
              "      <td>1.000000e+00</td>\n",
              "      <td>1.000000e+00</td>\n",
              "      <td>1.000000e+00</td>\n",
              "      <td>1.000000e+00</td>\n",
              "      <td>1.000000e+00</td>\n",
              "      <td>1.000000e+00</td>\n",
              "      <td>1.000000e+00</td>\n",
              "      <td>1.000000e+00</td>\n",
              "      <td>1.000000e+00</td>\n",
              "      <td>1.000000e+00</td>\n",
              "      <td>1.000000e+00</td>\n",
              "      <td>1.000000e+00</td>\n",
              "      <td>1.000000e+00</td>\n",
              "      <td>1.000000e+00</td>\n",
              "      <td>1.000000e+00</td>\n",
              "      <td>1.000000e+00</td>\n",
              "      <td>1.000000e+00</td>\n",
              "      <td>1.000000e+00</td>\n",
              "      <td>1.000000e+00</td>\n",
              "      <td>1.000000e+00</td>\n",
              "      <td>1.000000e+00</td>\n",
              "      <td>1.000000e+00</td>\n",
              "      <td>1.000000e+00</td>\n",
              "      <td>1.000000e+00</td>\n",
              "      <td>1.000000e+00</td>\n",
              "    </tr>\n",
              "    <tr>\n",
              "      <th>min</th>\n",
              "      <td>-1.307707e+00</td>\n",
              "      <td>-1.594760e+01</td>\n",
              "      <td>-2.501565e+01</td>\n",
              "      <td>-1.634058e+01</td>\n",
              "      <td>-3.305569e+00</td>\n",
              "      <td>-2.479531e+01</td>\n",
              "      <td>-1.789216e+01</td>\n",
              "      <td>-2.130730e+01</td>\n",
              "      <td>-1.871307e+01</td>\n",
              "      <td>-6.725394e+00</td>\n",
              "      <td>-1.121853e+01</td>\n",
              "      <td>-2.901184e+00</td>\n",
              "      <td>-1.053718e+01</td>\n",
              "      <td>-3.793493e+00</td>\n",
              "      <td>-1.497731e+01</td>\n",
              "      <td>-4.046114e+00</td>\n",
              "      <td>-1.256325e+01</td>\n",
              "      <td>-1.549279e+01</td>\n",
              "      <td>-9.529183e+00</td>\n",
              "      <td>-5.860915e+00</td>\n",
              "      <td>-2.277039e+01</td>\n",
              "      <td>-1.304479e+01</td>\n",
              "      <td>-1.356636e+01</td>\n",
              "      <td>-3.845233e+01</td>\n",
              "      <td>-4.297387e+00</td>\n",
              "      <td>-1.144664e+01</td>\n",
              "      <td>-2.461268e+00</td>\n",
              "      <td>-1.999474e+01</td>\n",
              "      <td>-1.399021e+01</td>\n",
              "      <td>-3.591035e-01</td>\n",
              "    </tr>\n",
              "    <tr>\n",
              "      <th>25%</th>\n",
              "      <td>-9.221262e-01</td>\n",
              "      <td>-4.267301e-01</td>\n",
              "      <td>-4.065197e-01</td>\n",
              "      <td>-2.810021e-01</td>\n",
              "      <td>-6.170324e-01</td>\n",
              "      <td>-4.640773e-01</td>\n",
              "      <td>-5.695551e-01</td>\n",
              "      <td>-3.705932e-01</td>\n",
              "      <td>-1.316317e-01</td>\n",
              "      <td>-5.780078e-01</td>\n",
              "      <td>-3.673405e-01</td>\n",
              "      <td>-6.671370e-01</td>\n",
              "      <td>-5.940707e-01</td>\n",
              "      <td>-6.951982e-01</td>\n",
              "      <td>-4.303806e-01</td>\n",
              "      <td>-5.944733e-01</td>\n",
              "      <td>-5.041107e-01</td>\n",
              "      <td>-3.867986e-01</td>\n",
              "      <td>-5.177462e-01</td>\n",
              "      <td>-5.909320e-01</td>\n",
              "      <td>-3.169207e-01</td>\n",
              "      <td>-2.331291e-01</td>\n",
              "      <td>-6.307872e-01</td>\n",
              "      <td>-2.765506e-01</td>\n",
              "      <td>-5.974098e-01</td>\n",
              "      <td>-5.909661e-01</td>\n",
              "      <td>-7.346359e-01</td>\n",
              "      <td>-2.243761e-01</td>\n",
              "      <td>-6.644517e-02</td>\n",
              "      <td>-3.282403e-01</td>\n",
              "    </tr>\n",
              "    <tr>\n",
              "      <th>50%</th>\n",
              "      <td>-1.336837e-01</td>\n",
              "      <td>-4.869059e-02</td>\n",
              "      <td>-2.249984e-02</td>\n",
              "      <td>7.360839e-02</td>\n",
              "      <td>-5.509155e-02</td>\n",
              "      <td>-5.653119e-02</td>\n",
              "      <td>-2.061588e-01</td>\n",
              "      <td>3.660361e-02</td>\n",
              "      <td>2.622158e-02</td>\n",
              "      <td>-1.516708e-02</td>\n",
              "      <td>-3.938305e-02</td>\n",
              "      <td>-5.595245e-02</td>\n",
              "      <td>-1.989969e-01</td>\n",
              "      <td>8.496372e-02</td>\n",
              "      <td>2.089296e-01</td>\n",
              "      <td>1.433526e-01</td>\n",
              "      <td>7.217442e-02</td>\n",
              "      <td>-4.281761e-03</td>\n",
              "      <td>6.208698e-02</td>\n",
              "      <td>-1.276585e-03</td>\n",
              "      <td>-1.040641e-01</td>\n",
              "      <td>-7.353747e-02</td>\n",
              "      <td>5.579256e-02</td>\n",
              "      <td>-1.891889e-02</td>\n",
              "      <td>8.352807e-02</td>\n",
              "      <td>8.912826e-02</td>\n",
              "      <td>-1.278348e-01</td>\n",
              "      <td>-3.438180e-02</td>\n",
              "      <td>5.520255e-02</td>\n",
              "      <td>-2.709268e-01</td>\n",
              "    </tr>\n",
              "    <tr>\n",
              "      <th>75%</th>\n",
              "      <td>9.021545e-01</td>\n",
              "      <td>8.128380e-01</td>\n",
              "      <td>4.304935e-01</td>\n",
              "      <td>4.873802e-01</td>\n",
              "      <td>5.972080e-01</td>\n",
              "      <td>3.644722e-01</td>\n",
              "      <td>2.881566e-01</td>\n",
              "      <td>4.675719e-01</td>\n",
              "      <td>2.233586e-01</td>\n",
              "      <td>5.472263e-01</td>\n",
              "      <td>3.715232e-01</td>\n",
              "      <td>6.690939e-01</td>\n",
              "      <td>7.380062e-01</td>\n",
              "      <td>7.366267e-01</td>\n",
              "      <td>5.373586e-01</td>\n",
              "      <td>6.904739e-01</td>\n",
              "      <td>5.912840e-01</td>\n",
              "      <td>3.873030e-01</td>\n",
              "      <td>5.858248e-01</td>\n",
              "      <td>6.305414e-01</td>\n",
              "      <td>1.987467e-01</td>\n",
              "      <td>9.922120e-02</td>\n",
              "      <td>6.214872e-01</td>\n",
              "      <td>2.107517e-01</td>\n",
              "      <td>6.497956e-01</td>\n",
              "      <td>6.449596e-01</td>\n",
              "      <td>6.085133e-01</td>\n",
              "      <td>2.145638e-01</td>\n",
              "      <td>2.752138e-01</td>\n",
              "      <td>-6.605727e-02</td>\n",
              "    </tr>\n",
              "    <tr>\n",
              "      <th>max</th>\n",
              "      <td>1.891285e+00</td>\n",
              "      <td>1.276610e+00</td>\n",
              "      <td>7.366132e+00</td>\n",
              "      <td>2.085128e+00</td>\n",
              "      <td>7.746753e+00</td>\n",
              "      <td>2.653603e+01</td>\n",
              "      <td>1.610507e+01</td>\n",
              "      <td>2.782251e+01</td>\n",
              "      <td>8.360936e+00</td>\n",
              "      <td>7.745240e+00</td>\n",
              "      <td>1.021321e+01</td>\n",
              "      <td>9.348597e+00</td>\n",
              "      <td>3.468495e+00</td>\n",
              "      <td>2.981658e+00</td>\n",
              "      <td>5.114217e+00</td>\n",
              "      <td>3.907713e+00</td>\n",
              "      <td>5.006943e+00</td>\n",
              "      <td>7.199825e+00</td>\n",
              "      <td>5.075944e+00</td>\n",
              "      <td>5.613032e+00</td>\n",
              "      <td>1.368033e+01</td>\n",
              "      <td>2.595471e+01</td>\n",
              "      <td>7.545173e+00</td>\n",
              "      <td>2.783435e+01</td>\n",
              "      <td>5.430698e+00</td>\n",
              "      <td>1.263707e+01</td>\n",
              "      <td>6.236551e+00</td>\n",
              "      <td>2.062720e+01</td>\n",
              "      <td>1.900062e+01</td>\n",
              "      <td>4.299803e+01</td>\n",
              "    </tr>\n",
              "  </tbody>\n",
              "</table>\n",
              "</div>"
            ],
            "text/plain": [
              "               Time            V1  ...           V28        Amount\n",
              "count  1.395400e+04  1.395400e+04  ...  1.395400e+04  1.395400e+04\n",
              "mean  -1.984016e-15  4.359101e-16  ...  8.004044e-18  1.492622e-14\n",
              "std    1.000000e+00  1.000000e+00  ...  1.000000e+00  1.000000e+00\n",
              "min   -1.307707e+00 -1.594760e+01  ... -1.399021e+01 -3.591035e-01\n",
              "25%   -9.221262e-01 -4.267301e-01  ... -6.644517e-02 -3.282403e-01\n",
              "50%   -1.336837e-01 -4.869059e-02  ...  5.520255e-02 -2.709268e-01\n",
              "75%    9.021545e-01  8.128380e-01  ...  2.752138e-01 -6.605727e-02\n",
              "max    1.891285e+00  1.276610e+00  ...  1.900062e+01  4.299803e+01\n",
              "\n",
              "[8 rows x 30 columns]"
            ]
          },
          "metadata": {
            "tags": []
          },
          "execution_count": 38
        }
      ]
    },
    {
      "cell_type": "markdown",
      "metadata": {
        "id": "yQsEUm1NLwZN"
      },
      "source": [
        "\n",
        "# Split into 50% Training(Samples,Labels) , 30% Test(Samples,Labels) and 20% Validation Data(Samples,Labels)"
      ]
    },
    {
      "cell_type": "code",
      "metadata": {
        "id": "dysqx1djDAiH"
      },
      "source": [
        "data_len = len(data)\n",
        "train_data = data.iloc[:data_len*50//100]\n",
        "val_data = data.iloc[data_len*50//100:data_len*70//100]\n",
        "test_data = data.iloc[data_len*70//100:]\n",
        "labels_len = len(labels)\n",
        "train_labels = labels.iloc[:labels_len*50//100]\n",
        "val_labels = labels.iloc[labels_len*50//100:labels_len*70//100]\n",
        "test_labels = labels.iloc[labels_len*70//100:]"
      ],
      "execution_count": 39,
      "outputs": []
    },
    {
      "cell_type": "markdown",
      "metadata": {
        "id": "FLHAVLlkL6s0"
      },
      "source": [
        "# Model : input Layer (No. of features ), 3 hidden layers including 10,8,6 unit & Output Layer with activation function relu/tanh (check by experiment)"
      ]
    },
    {
      "cell_type": "code",
      "metadata": {
        "id": "hzU2DUqqDAiH"
      },
      "source": [
        "network = models.Sequential()\n",
        "network.add(layers.Dense(10,activation=\"tanh\",input_shape=(len(train_data.columns),) ))\n",
        "network.add(layers.Dense(8,activation=\"tanh\",input_shape=(data.shape[1],) ))\n",
        "network.add(layers.Dense(6,activation=\"tanh\",input_shape=(data.shape[1],) ))\n",
        "network.add(layers.Dense(1,activation=\"sigmoid\"))\n",
        "network.compile(optimizer='rmsprop',loss='binary_crossentropy',metrics=['acc'])"
      ],
      "execution_count": 51,
      "outputs": []
    },
    {
      "cell_type": "code",
      "metadata": {
        "id": "fmyzeTP4DAiH",
        "colab": {
          "base_uri": "https://localhost:8080/"
        },
        "outputId": "5fbe0329-eeb6-47d4-dad7-0b325680897d"
      },
      "source": [
        "network.summary()"
      ],
      "execution_count": 52,
      "outputs": [
        {
          "output_type": "stream",
          "text": [
            "Model: \"sequential_2\"\n",
            "_________________________________________________________________\n",
            "Layer (type)                 Output Shape              Param #   \n",
            "=================================================================\n",
            "dense_8 (Dense)              (None, 10)                310       \n",
            "_________________________________________________________________\n",
            "dense_9 (Dense)              (None, 8)                 88        \n",
            "_________________________________________________________________\n",
            "dense_10 (Dense)             (None, 6)                 54        \n",
            "_________________________________________________________________\n",
            "dense_11 (Dense)             (None, 1)                 7         \n",
            "=================================================================\n",
            "Total params: 459\n",
            "Trainable params: 459\n",
            "Non-trainable params: 0\n",
            "_________________________________________________________________\n"
          ],
          "name": "stdout"
        }
      ]
    },
    {
      "cell_type": "code",
      "metadata": {
        "colab": {
          "base_uri": "https://localhost:8080/"
        },
        "id": "CyTVOmqrMXOR",
        "outputId": "62fc0823-08ce-4b3b-bac5-08858f9da3df"
      },
      "source": [
        "with tf.device('/device:GPU:1'):\n",
        "  %time MODEL = network.fit(train_data,train_labels,epochs=10,batch_size=256,validation_data=(val_data,val_labels))"
      ],
      "execution_count": 53,
      "outputs": [
        {
          "output_type": "stream",
          "text": [
            "Epoch 1/10\n",
            "28/28 [==============================] - 1s 12ms/step - loss: 0.6215 - acc: 0.6481 - val_loss: 0.8034 - val_acc: 0.3652\n",
            "Epoch 2/10\n",
            "28/28 [==============================] - 0s 4ms/step - loss: 0.4553 - acc: 0.8360 - val_loss: 0.7968 - val_acc: 0.4208\n",
            "Epoch 3/10\n",
            "28/28 [==============================] - 0s 4ms/step - loss: 0.3327 - acc: 0.9224 - val_loss: 0.7302 - val_acc: 0.5029\n",
            "Epoch 4/10\n",
            "28/28 [==============================] - 0s 5ms/step - loss: 0.2334 - acc: 0.9686 - val_loss: 0.5888 - val_acc: 0.6534\n",
            "Epoch 5/10\n",
            "28/28 [==============================] - 0s 4ms/step - loss: 0.1548 - acc: 0.9919 - val_loss: 0.4118 - val_acc: 0.8294\n",
            "Epoch 6/10\n",
            "28/28 [==============================] - 0s 4ms/step - loss: 0.1003 - acc: 0.9987 - val_loss: 0.2684 - val_acc: 0.9573\n",
            "Epoch 7/10\n",
            "28/28 [==============================] - 0s 4ms/step - loss: 0.0673 - acc: 0.9993 - val_loss: 0.1679 - val_acc: 0.9900\n",
            "Epoch 8/10\n",
            "28/28 [==============================] - 0s 4ms/step - loss: 0.0464 - acc: 0.9996 - val_loss: 0.1071 - val_acc: 0.9978\n",
            "Epoch 9/10\n",
            "28/28 [==============================] - 0s 4ms/step - loss: 0.0335 - acc: 0.9998 - val_loss: 0.0716 - val_acc: 0.9993\n",
            "Epoch 10/10\n",
            "28/28 [==============================] - 0s 4ms/step - loss: 0.0269 - acc: 0.9994 - val_loss: 0.0506 - val_acc: 0.9993\n",
            "CPU times: user 2.17 s, sys: 73.4 ms, total: 2.24 s\n",
            "Wall time: 2.1 s\n"
          ],
          "name": "stdout"
        }
      ]
    },
    {
      "cell_type": "code",
      "metadata": {
        "colab": {
          "base_uri": "https://localhost:8080/"
        },
        "id": "V5pcjTPyMXcr",
        "outputId": "4b0ac15c-686d-4a1c-881d-6bf335f3a8ed"
      },
      "source": [
        "test_loss , test_acc = network.evaluate(test_data,test_labels)"
      ],
      "execution_count": 54,
      "outputs": [
        {
          "output_type": "stream",
          "text": [
            "131/131 [==============================] - 0s 968us/step - loss: 1.0164 - acc: 0.4848\n"
          ],
          "name": "stdout"
        }
      ]
    },
    {
      "cell_type": "code",
      "metadata": {
        "colab": {
          "base_uri": "https://localhost:8080/"
        },
        "id": "lXMypWhRMXof",
        "outputId": "feb33d22-94cf-474e-edfc-770fe74e0e2f"
      },
      "source": [
        "test_labels[test_labels == 1]"
      ],
      "execution_count": 55,
      "outputs": [
        {
          "output_type": "execute_result",
          "data": {
            "text/plain": [
              "10204    1.0\n",
              "10484    1.0\n",
              "10497    1.0\n",
              "10498    1.0\n",
              "10568    1.0\n",
              "10630    1.0\n",
              "10690    1.0\n",
              "10801    1.0\n",
              "10891    1.0\n",
              "10897    1.0\n",
              "11343    1.0\n",
              "11710    1.0\n",
              "11841    1.0\n",
              "11880    1.0\n",
              "12070    1.0\n",
              "12108    1.0\n",
              "12261    1.0\n",
              "12369    1.0\n",
              "Name: Class, dtype: float64"
            ]
          },
          "metadata": {
            "tags": []
          },
          "execution_count": 55
        }
      ]
    },
    {
      "cell_type": "code",
      "metadata": {
        "colab": {
          "base_uri": "https://localhost:8080/",
          "height": 295
        },
        "id": "SVmeiomTMXy9",
        "outputId": "1aa58079-2afa-4ec4-c454-cadb16041839"
      },
      "source": [
        "history_dict = MODEL.history\n",
        "acc_values = history_dict['acc']\n",
        "val_acc_values = history_dict['val_acc']\n",
        "epoches = np.arange(1,len(history_dict['acc'])+1)\n",
        "plt.plot(epoches,acc_values,'bo',label=\"Training Accuracy\")\n",
        "plt.plot(epoches,val_acc_values,'b',label=\"Validation Accuracy\")\n",
        "plt.title('Training and validation Accuracy')\n",
        "plt.xlabel(\"Epoches\")\n",
        "plt.ylabel(\"Accuracy\")\n",
        "plt.legend()\n",
        "plt.show()"
      ],
      "execution_count": 56,
      "outputs": [
        {
          "output_type": "display_data",
          "data": {
            "image/png": "[encoded data removed]",
            "text/plain": [
              "<Figure size 432x288 with 1 Axes>"
            ]
          },
          "metadata": {
            "tags": [],
            "needs_background": "light"
          }
        }
      ]
    },
    {
      "cell_type": "markdown",
      "metadata": {
        "id": "ERutLqnKNOc5"
      },
      "source": [
        "# Relu"
      ]
    },
    {
      "cell_type": "code",
      "metadata": {
        "colab": {
          "base_uri": "https://localhost:8080/"
        },
        "id": "wrdpkh33MYFg",
        "outputId": "9dba91a1-8b94-4f75-d66d-00fde312433b"
      },
      "source": [
        "from tensorflow.keras import models\n",
        "from tensorflow.keras import layers\n",
        "import tensorflow as tf\n",
        "network1 = models.Sequential()\n",
        "network1.add(layers.Dense(30,activation=\"relu\",input_shape=(len(train_data.columns),) ))\n",
        "network1.add(layers.Dense(20,activation=\"relu\" ))\n",
        "network1.add(layers.Dense(10,activation=\"relu\"))\n",
        "network1.add(layers.Dense(1,activation=\"sigmoid\"))\n",
        "network1.compile(optimizer='rmsprop',loss='binary_crossentropy',metrics=['acc'])\n",
        "with tf.device('/device:GPU:1'):\n",
        "  %time MODEL1 = network1.fit(train_data,train_labels,epochs=10,batch_size=512,validation_data=(val_data,val_labels))"
      ],
      "execution_count": 57,
      "outputs": [
        {
          "output_type": "stream",
          "text": [
            "Epoch 1/10\n",
            "14/14 [==============================] - 1s 22ms/step - loss: 0.5633 - acc: 0.9105 - val_loss: 0.4832 - val_acc: 0.9950\n",
            "Epoch 2/10\n",
            "14/14 [==============================] - 0s 9ms/step - loss: 0.3686 - acc: 0.9961 - val_loss: 0.3558 - val_acc: 0.9953\n",
            "Epoch 3/10\n",
            "14/14 [==============================] - 0s 7ms/step - loss: 0.2245 - acc: 0.9961 - val_loss: 0.2343 - val_acc: 0.9953\n",
            "Epoch 4/10\n",
            "14/14 [==============================] - 0s 7ms/step - loss: 0.1186 - acc: 0.9972 - val_loss: 0.1520 - val_acc: 0.9953\n",
            "Epoch 5/10\n",
            "14/14 [==============================] - 0s 7ms/step - loss: 0.0637 - acc: 0.9968 - val_loss: 0.0981 - val_acc: 0.9953\n",
            "Epoch 6/10\n",
            "14/14 [==============================] - 0s 7ms/step - loss: 0.0370 - acc: 0.9962 - val_loss: 0.0624 - val_acc: 0.9953\n",
            "Epoch 7/10\n",
            "14/14 [==============================] - 0s 7ms/step - loss: 0.0227 - acc: 0.9966 - val_loss: 0.0392 - val_acc: 0.9953\n",
            "Epoch 8/10\n",
            "14/14 [==============================] - 0s 6ms/step - loss: 0.0140 - acc: 0.9967 - val_loss: 0.0263 - val_acc: 0.9953\n",
            "Epoch 9/10\n",
            "14/14 [==============================] - 0s 7ms/step - loss: 0.0102 - acc: 0.9966 - val_loss: 0.0178 - val_acc: 0.9953\n",
            "Epoch 10/10\n",
            "14/14 [==============================] - 0s 7ms/step - loss: 0.0060 - acc: 0.9970 - val_loss: 0.0129 - val_acc: 0.9953\n",
            "CPU times: user 1.98 s, sys: 66.1 ms, total: 2.05 s\n",
            "Wall time: 1.96 s\n"
          ],
          "name": "stdout"
        }
      ]
    },
    {
      "cell_type": "code",
      "metadata": {
        "id": "8NrhEIXKDAiH",
        "colab": {
          "base_uri": "https://localhost:8080/",
          "height": 295
        },
        "outputId": "50c06640-8e2e-458d-bdbe-0fac0480ef47"
      },
      "source": [
        "history_dict = MODEL1.history\n",
        "acc_values = history_dict['acc']\n",
        "val_acc_values = history_dict['val_acc']\n",
        "epoches = np.arange(1,len(history_dict['acc'])+1)\n",
        "plt.plot(epoches,acc_values,'bo',label=\"Training Accuracy\")\n",
        "plt.plot(epoches,val_acc_values,'b',label=\"Validation Accuracy\")\n",
        "plt.title('Training and validation Accuracy')\n",
        "plt.xlabel(\"Epoches\")\n",
        "plt.ylabel(\"Accuracy\")\n",
        "plt.legend()\n",
        "plt.show()"
      ],
      "execution_count": 58,
      "outputs": [
        {
          "output_type": "display_data",
          "data": {
            "image/png": "[encoded data removed]",
            "text/plain": [
              "<Figure size 432x288 with 1 Axes>"
            ]
          },
          "metadata": {
            "tags": [],
            "needs_background": "light"
          }
        }
      ]
    },
    {
      "cell_type": "markdown",
      "metadata": {
        "id": "gWtFq472NscF"
      },
      "source": [
        "# Evaluation Step"
      ]
    },
    {
      "cell_type": "code",
      "metadata": {
        "colab": {
          "base_uri": "https://localhost:8080/"
        },
        "id": "E-A3S_AuNanB",
        "outputId": "2debba23-f9d5-4fd1-da17-169fae7e97ae"
      },
      "source": [
        "test_loss , test_acc = network1.evaluate(test_data,test_labels)"
      ],
      "execution_count": 60,
      "outputs": [
        {
          "output_type": "stream",
          "text": [
            "131/131 [==============================] - 0s 1ms/step - loss: 0.0234 - acc: 0.9957\n"
          ],
          "name": "stdout"
        }
      ]
    },
    {
      "cell_type": "markdown",
      "metadata": {
        "id": "LbfqoOdEN6Ps"
      },
      "source": [
        "# Predict"
      ]
    },
    {
      "cell_type": "code",
      "metadata": {
        "colab": {
          "base_uri": "https://localhost:8080/"
        },
        "id": "5uLSVtu8N-zz",
        "outputId": "c8aea1b6-7d7d-49f1-ce5a-6d179d376a0a"
      },
      "source": [
        "prediction_test_data = test_data\n",
        "predictions = network1.predict(prediction_test_data)\n",
        "hit = np.argmax(predictions) == np.array(test_labels)\n",
        "print(f\"{len(hit)} out of {len(predictions)} \")"
      ],
      "execution_count": 61,
      "outputs": [
        {
          "output_type": "stream",
          "text": [
            "4187 out of 4187 \n"
          ],
          "name": "stdout"
        }
      ]
    },
    {
      "cell_type": "code",
      "metadata": {
        "colab": {
          "base_uri": "https://localhost:8080/"
        },
        "id": "935B861ZOBY2",
        "outputId": "bfb4678c-fa61-4082-934e-13d936a8c946"
      },
      "source": [
        "y_pred = (predictions > 0.5).astype('u8')\n",
        "print(test_acc*100)"
      ],
      "execution_count": 63,
      "outputs": [
        {
          "output_type": "stream",
          "text": [
            "99.57009553909302\n"
          ],
          "name": "stdout"
        }
      ]
    },
    {
      "cell_type": "code",
      "metadata": {
        "id": "awc-K8iDOfdi"
      },
      "source": [
        ""
      ],
      "execution_count": null,
      "outputs": []
    }
  ]
}